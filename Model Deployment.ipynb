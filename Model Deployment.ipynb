{
 "cells": [
  {
   "cell_type": "code",
   "execution_count": 1,
   "id": "017a8b45",
   "metadata": {},
   "outputs": [],
   "source": [
    "from flask import Flask, render_template, request\n",
    "import joblib"
   ]
  },
  {
   "cell_type": "code",
   "execution_count": 2,
   "id": "9c749df7",
   "metadata": {},
   "outputs": [
    {
     "data": {
      "text/plain": [
       "XGBRegressor(base_score=0.5, booster='gbtree', callbacks=None,\n",
       "             colsample_bylevel=1, colsample_bynode=1, colsample_bytree=1,\n",
       "             early_stopping_rounds=None, enable_categorical=False,\n",
       "             eval_metric=None, gamma=0, gpu_id=-1, grow_policy='depthwise',\n",
       "             importance_type=None, interaction_constraints='',\n",
       "             learning_rate=0.2, max_bin=256, max_cat_to_onehot=4,\n",
       "             max_delta_step=0, max_depth=8, max_leaves=0, min_child_weight=12,\n",
       "             missing=nan, monotone_constraints='()', n_estimators=500, n_jobs=0,\n",
       "             num_parallel_tree=1, predictor='auto', random_state=0, reg_alpha=0,\n",
       "             reg_lambda=1, ...)"
      ]
     },
     "execution_count": 2,
     "metadata": {},
     "output_type": "execute_result"
    }
   ],
   "source": [
    "model = joblib.load('model.pkl')\n",
    "model"
   ]
  },
  {
   "cell_type": "code",
   "execution_count": 3,
   "id": "9b396d5c",
   "metadata": {},
   "outputs": [],
   "source": [
    "app = Flask(__name__)"
   ]
  },
  {
   "cell_type": "code",
   "execution_count": 4,
   "id": "c18bd78e",
   "metadata": {},
   "outputs": [],
   "source": [
    "@app.route(\"/\")\n",
    "def home():\n",
    "    return render_template('home.html')"
   ]
  },
  {
   "cell_type": "code",
   "execution_count": 5,
   "id": "f9916c14",
   "metadata": {},
   "outputs": [],
   "source": [
    "@app.route(\"/predict\", methods = [\"GET\", \"POST\"])\n",
    "def predict():\n",
    "    if request.method == \"POST\":\n",
    "        user_id = int(request.form['uid'])\n",
    "        product_id = int(request.form['pid'])\n",
    "        sel_gender = request.form['gender']\n",
    "        gender = 0 #Assuming that gender is female by default\n",
    "        if sel_gender == 'Male':\n",
    "            gender = 1\n",
    "        elif sel_gender == 'Female':\n",
    "            gender = 0\n",
    "        age_inp = request.form['age']\n",
    "        age = 0\n",
    "        if age_inp == '0-17':\n",
    "            age = 0\n",
    "        elif age_inp == '18-25':\n",
    "            age = 1\n",
    "        elif age_inp == '26-35':\n",
    "            age = 2\n",
    "        elif age_inp == '36-45':\n",
    "            age = 3\n",
    "        elif age_inp == '46-50':\n",
    "            age = 4\n",
    "        elif age_inp == '51-55':\n",
    "            age = 5\n",
    "        elif age_inp == '55+':\n",
    "            age = 6\n",
    "        occupation = int(request.form['occ'])\n",
    "        city_category = request.form['city_categ']\n",
    "        cc = 0\n",
    "        if city_category == 'A':\n",
    "            cc = 1\n",
    "        elif city_category == 'B':\n",
    "            cc = 2\n",
    "        elif city_category == 'C':\n",
    "            cc = 3\n",
    "        city_stay = request.form['years_stay']\n",
    "        stay_duration = 0\n",
    "        if city_stay == '0':\n",
    "            stay_duration = 0\n",
    "        elif city_stay == '1':\n",
    "            stay_duration = 1\n",
    "        elif city_stay == '2':\n",
    "            stay_duration = 2\n",
    "        elif city_stay == '3':\n",
    "            stay_duration = 3\n",
    "        elif city_stay == '4+':\n",
    "            stay_duration = 4\n",
    "        wed_status = request.form['marital_status']\n",
    "        marital_status = 0 #Assuming that person is unmarried by default\n",
    "        if wed_status == 'Married':\n",
    "            marital_status = 1\n",
    "        prod_cat_1 = float(request.form['product_categ_1'])\n",
    "        prod_cat_2 = float(request.form['product_categ_2']) #Between 2.0 and 18.0\n",
    "        prod_cat_3 = float(request.form['product_categ_3']) #Between 3.0 and 18.0\n",
    "#         print([user_id,\n",
    "#             product_id,\n",
    "#             gender,\n",
    "#             age, \n",
    "#             occupation,\n",
    "#             cc,\n",
    "#             stay_duration,\n",
    "#             marital_status,\n",
    "#             prod_cat_1,\n",
    "#             prod_cat_2,\n",
    "#             prod_cat_3])\n",
    "        predictions = model.predict([[\n",
    "            user_id,\n",
    "            product_id,\n",
    "            gender,\n",
    "            age, \n",
    "            occupation,\n",
    "            cc,\n",
    "            stay_duration,\n",
    "            marital_status,\n",
    "            prod_cat_1,\n",
    "            prod_cat_2,\n",
    "            prod_cat_3\n",
    "        ]]) \n",
    "        output = predictions[0]\n",
    "        output = \"%.2f\" % output\n",
    "        return render_template('home.html',prediction_text=\"The customer purchase amount in the Black Friday sales across various distinct high-volume products is ${}.\".format(output))"
   ]
  },
  {
   "cell_type": "code",
   "execution_count": null,
   "id": "6365597c",
   "metadata": {},
   "outputs": [
    {
     "name": "stdout",
     "output_type": "stream",
     "text": [
      " * Serving Flask app '__main__' (lazy loading)\n",
      " * Environment: production\n",
      "\u001b[31m   WARNING: This is a development server. Do not use it in a production deployment.\u001b[0m\n",
      "\u001b[2m   Use a production WSGI server instead.\u001b[0m\n",
      " * Debug mode: off\n"
     ]
    },
    {
     "name": "stderr",
     "output_type": "stream",
     "text": [
      " * Running on http://127.0.0.1:8080/ (Press CTRL+C to quit)\n",
      "127.0.0.1 - - [15/May/2022 21:15:39] \"GET / HTTP/1.1\" 200 -\n",
      "127.0.0.1 - - [15/May/2022 21:16:15] \"POST /predict HTTP/1.1\" 200 -\n"
     ]
    }
   ],
   "source": [
    "if __name__ == \"__main__\":\n",
    "    app.run(port=8080)"
   ]
  }
 ],
 "metadata": {
  "kernelspec": {
   "display_name": "Python 3 (ipykernel)",
   "language": "python",
   "name": "python3"
  },
  "language_info": {
   "codemirror_mode": {
    "name": "ipython",
    "version": 3
   },
   "file_extension": ".py",
   "mimetype": "text/x-python",
   "name": "python",
   "nbconvert_exporter": "python",
   "pygments_lexer": "ipython3",
   "version": "3.8.8"
  }
 },
 "nbformat": 4,
 "nbformat_minor": 5
}
