{
 "cells": [
  {
   "cell_type": "markdown",
   "id": "a62acd55",
   "metadata": {
    "id": "2bd4c71c",
    "papermill": {
     "duration": 0.016837,
     "end_time": "2022-11-14T21:32:07.640259",
     "exception": false,
     "start_time": "2022-11-14T21:32:07.623422",
     "status": "completed"
    },
    "tags": []
   },
   "source": [
    "## Importing the relevant libraries"
   ]
  },
  {
   "cell_type": "code",
   "execution_count": 1,
   "id": "065230e2",
   "metadata": {
    "execution": {
     "iopub.execute_input": "2022-11-14T21:32:07.674225Z",
     "iopub.status.busy": "2022-11-14T21:32:07.673413Z",
     "iopub.status.idle": "2022-11-14T21:32:13.643878Z",
     "shell.execute_reply": "2022-11-14T21:32:13.642739Z"
    },
    "id": "0fcd4306",
    "papermill": {
     "duration": 5.990382,
     "end_time": "2022-11-14T21:32:13.646687",
     "exception": false,
     "start_time": "2022-11-14T21:32:07.656305",
     "status": "completed"
    },
    "tags": []
   },
   "outputs": [
    {
     "data": {
      "text/html": [
       "<style type='text/css'>\n",
       ".datatable table.frame { margin-bottom: 0; }\n",
       ".datatable table.frame thead { border-bottom: none; }\n",
       ".datatable table.frame tr.coltypes td {  color: #FFFFFF;  line-height: 6px;  padding: 0 0.5em;}\n",
       ".datatable .bool    { background: #DDDD99; }\n",
       ".datatable .object  { background: #565656; }\n",
       ".datatable .int     { background: #5D9E5D; }\n",
       ".datatable .float   { background: #4040CC; }\n",
       ".datatable .str     { background: #CC4040; }\n",
       ".datatable .time    { background: #40CC40; }\n",
       ".datatable .row_index {  background: var(--jp-border-color3);  border-right: 1px solid var(--jp-border-color0);  color: var(--jp-ui-font-color3);  font-size: 9px;}\n",
       ".datatable .frame tbody td { text-align: left; }\n",
       ".datatable .frame tr.coltypes .row_index {  background: var(--jp-border-color0);}\n",
       ".datatable th:nth-child(2) { padding-left: 12px; }\n",
       ".datatable .hellipsis {  color: var(--jp-cell-editor-border-color);}\n",
       ".datatable .vellipsis {  background: var(--jp-layout-color0);  color: var(--jp-cell-editor-border-color);}\n",
       ".datatable .na {  color: var(--jp-cell-editor-border-color);  font-size: 80%;}\n",
       ".datatable .sp {  opacity: 0.25;}\n",
       ".datatable .footer { font-size: 9px; }\n",
       ".datatable .frame_dimensions {  background: var(--jp-border-color3);  border-top: 1px solid var(--jp-border-color0);  color: var(--jp-ui-font-color3);  display: inline-block;  opacity: 0.6;  padding: 1px 10px 1px 5px;}\n",
       "</style>\n"
      ],
      "text/plain": [
       "<IPython.core.display.HTML object>"
      ]
     },
     "metadata": {},
     "output_type": "display_data"
    }
   ],
   "source": [
    "import numpy as np\n",
    "import pandas as pd\n",
    "import seaborn as sns\n",
    "import matplotlib.pyplot as plt\n",
    "%matplotlib inline\n",
    "import warnings\n",
    "warnings.filterwarnings('ignore')\n",
    "from sklearn.preprocessing import LabelEncoder, StandardScaler\n",
    "from sklearn.model_selection import train_test_split, cross_val_score\n",
    "from sklearn.linear_model import LinearRegression, SGDRegressor\n",
    "from sklearn.metrics import mean_squared_error as MSE, r2_score\n",
    "from xgboost import XGBRegressor\n",
    "from sklearn.ensemble import RandomForestRegressor, ExtraTreesRegressor, GradientBoostingRegressor, BaggingRegressor\n",
    "from sklearn.neighbors import KNeighborsRegressor\n",
    "from sklearn.tree import DecisionTreeRegressor\n",
    "from catboost import CatBoostRegressor\n",
    "from lightgbm import LGBMRegressor\n",
    "from sklearn.neural_network import MLPRegressor\n",
    "import joblib"
   ]
  },
  {
   "cell_type": "markdown",
   "id": "beb6f4a0",
   "metadata": {
    "id": "f28680e4",
    "papermill": {
     "duration": 0.01542,
     "end_time": "2022-11-14T21:32:13.678230",
     "exception": false,
     "start_time": "2022-11-14T21:32:13.662810",
     "status": "completed"
    },
    "tags": []
   },
   "source": [
    "## Loading the training dataset"
   ]
  },
  {
   "cell_type": "code",
   "execution_count": 2,
   "id": "8aabd32e",
   "metadata": {
    "execution": {
     "iopub.execute_input": "2022-11-14T21:32:13.710592Z",
     "iopub.status.busy": "2022-11-14T21:32:13.710279Z",
     "iopub.status.idle": "2022-11-14T21:32:14.599914Z",
     "shell.execute_reply": "2022-11-14T21:32:14.598882Z"
    },
    "id": "daa0e140",
    "outputId": "3ce78268-d5cc-4880-e2da-cc113550e6a9",
    "papermill": {
     "duration": 0.908638,
     "end_time": "2022-11-14T21:32:14.602602",
     "exception": false,
     "start_time": "2022-11-14T21:32:13.693964",
     "status": "completed"
    },
    "tags": []
   },
   "outputs": [
    {
     "data": {
      "text/html": [
       "<div>\n",
       "<style scoped>\n",
       "    .dataframe tbody tr th:only-of-type {\n",
       "        vertical-align: middle;\n",
       "    }\n",
       "\n",
       "    .dataframe tbody tr th {\n",
       "        vertical-align: top;\n",
       "    }\n",
       "\n",
       "    .dataframe thead th {\n",
       "        text-align: right;\n",
       "    }\n",
       "</style>\n",
       "<table border=\"1\" class=\"dataframe\">\n",
       "  <thead>\n",
       "    <tr style=\"text-align: right;\">\n",
       "      <th></th>\n",
       "      <th>User_ID</th>\n",
       "      <th>Product_ID</th>\n",
       "      <th>Gender</th>\n",
       "      <th>Age</th>\n",
       "      <th>Occupation</th>\n",
       "      <th>City_Category</th>\n",
       "      <th>Stay_In_Current_City_Years</th>\n",
       "      <th>Marital_Status</th>\n",
       "      <th>Product_Category_1</th>\n",
       "      <th>Product_Category_2</th>\n",
       "      <th>Product_Category_3</th>\n",
       "      <th>Purchase</th>\n",
       "    </tr>\n",
       "  </thead>\n",
       "  <tbody>\n",
       "    <tr>\n",
       "      <th>0</th>\n",
       "      <td>1000001</td>\n",
       "      <td>P00069042</td>\n",
       "      <td>F</td>\n",
       "      <td>0-17</td>\n",
       "      <td>10</td>\n",
       "      <td>A</td>\n",
       "      <td>2</td>\n",
       "      <td>0</td>\n",
       "      <td>3</td>\n",
       "      <td>NaN</td>\n",
       "      <td>NaN</td>\n",
       "      <td>8370</td>\n",
       "    </tr>\n",
       "    <tr>\n",
       "      <th>1</th>\n",
       "      <td>1000001</td>\n",
       "      <td>P00248942</td>\n",
       "      <td>F</td>\n",
       "      <td>0-17</td>\n",
       "      <td>10</td>\n",
       "      <td>A</td>\n",
       "      <td>2</td>\n",
       "      <td>0</td>\n",
       "      <td>1</td>\n",
       "      <td>6.0</td>\n",
       "      <td>14.0</td>\n",
       "      <td>15200</td>\n",
       "    </tr>\n",
       "    <tr>\n",
       "      <th>2</th>\n",
       "      <td>1000001</td>\n",
       "      <td>P00087842</td>\n",
       "      <td>F</td>\n",
       "      <td>0-17</td>\n",
       "      <td>10</td>\n",
       "      <td>A</td>\n",
       "      <td>2</td>\n",
       "      <td>0</td>\n",
       "      <td>12</td>\n",
       "      <td>NaN</td>\n",
       "      <td>NaN</td>\n",
       "      <td>1422</td>\n",
       "    </tr>\n",
       "    <tr>\n",
       "      <th>3</th>\n",
       "      <td>1000001</td>\n",
       "      <td>P00085442</td>\n",
       "      <td>F</td>\n",
       "      <td>0-17</td>\n",
       "      <td>10</td>\n",
       "      <td>A</td>\n",
       "      <td>2</td>\n",
       "      <td>0</td>\n",
       "      <td>12</td>\n",
       "      <td>14.0</td>\n",
       "      <td>NaN</td>\n",
       "      <td>1057</td>\n",
       "    </tr>\n",
       "    <tr>\n",
       "      <th>4</th>\n",
       "      <td>1000002</td>\n",
       "      <td>P00285442</td>\n",
       "      <td>M</td>\n",
       "      <td>55+</td>\n",
       "      <td>16</td>\n",
       "      <td>C</td>\n",
       "      <td>4+</td>\n",
       "      <td>0</td>\n",
       "      <td>8</td>\n",
       "      <td>NaN</td>\n",
       "      <td>NaN</td>\n",
       "      <td>7969</td>\n",
       "    </tr>\n",
       "  </tbody>\n",
       "</table>\n",
       "</div>"
      ],
      "text/plain": [
       "   User_ID Product_ID Gender   Age  Occupation City_Category  \\\n",
       "0  1000001  P00069042      F  0-17          10             A   \n",
       "1  1000001  P00248942      F  0-17          10             A   \n",
       "2  1000001  P00087842      F  0-17          10             A   \n",
       "3  1000001  P00085442      F  0-17          10             A   \n",
       "4  1000002  P00285442      M   55+          16             C   \n",
       "\n",
       "  Stay_In_Current_City_Years  Marital_Status  Product_Category_1  \\\n",
       "0                          2               0                   3   \n",
       "1                          2               0                   1   \n",
       "2                          2               0                  12   \n",
       "3                          2               0                  12   \n",
       "4                         4+               0                   8   \n",
       "\n",
       "   Product_Category_2  Product_Category_3  Purchase  \n",
       "0                 NaN                 NaN      8370  \n",
       "1                 6.0                14.0     15200  \n",
       "2                 NaN                 NaN      1422  \n",
       "3                14.0                 NaN      1057  \n",
       "4                 NaN                 NaN      7969  "
      ]
     },
     "execution_count": 2,
     "metadata": {},
     "output_type": "execute_result"
    }
   ],
   "source": [
    "train = pd.read_csv('../input/black-friday-sales-prediction/train_oSwQCTC (1)/train.csv')\n",
    "train.head()"
   ]
  },
  {
   "cell_type": "markdown",
   "id": "43509516",
   "metadata": {
    "id": "fcf73610",
    "papermill": {
     "duration": 0.016336,
     "end_time": "2022-11-14T21:32:14.636583",
     "exception": false,
     "start_time": "2022-11-14T21:32:14.620247",
     "status": "completed"
    },
    "tags": []
   },
   "source": [
    "## Understanding and examining the structure and organization of the dataset"
   ]
  },
  {
   "cell_type": "code",
   "execution_count": 3,
   "id": "b234e6b0",
   "metadata": {
    "execution": {
     "iopub.execute_input": "2022-11-14T21:32:14.671725Z",
     "iopub.status.busy": "2022-11-14T21:32:14.670050Z",
     "iopub.status.idle": "2022-11-14T21:32:14.678785Z",
     "shell.execute_reply": "2022-11-14T21:32:14.677895Z"
    },
    "id": "2f21565a",
    "outputId": "5e4d5a91-b110-467e-8f32-98052c64099c",
    "papermill": {
     "duration": 0.027984,
     "end_time": "2022-11-14T21:32:14.680673",
     "exception": false,
     "start_time": "2022-11-14T21:32:14.652689",
     "status": "completed"
    },
    "tags": []
   },
   "outputs": [
    {
     "data": {
      "text/plain": [
       "(550068, 12)"
      ]
     },
     "execution_count": 3,
     "metadata": {},
     "output_type": "execute_result"
    }
   ],
   "source": [
    "train.shape"
   ]
  },
  {
   "cell_type": "code",
   "execution_count": 4,
   "id": "786a1a45",
   "metadata": {
    "execution": {
     "iopub.execute_input": "2022-11-14T21:32:14.715452Z",
     "iopub.status.busy": "2022-11-14T21:32:14.714672Z",
     "iopub.status.idle": "2022-11-14T21:32:14.842632Z",
     "shell.execute_reply": "2022-11-14T21:32:14.840339Z"
    },
    "id": "923efaf4",
    "outputId": "d1fd29de-08f6-4ce1-b8a6-009cfb3a666b",
    "papermill": {
     "duration": 0.148609,
     "end_time": "2022-11-14T21:32:14.845720",
     "exception": false,
     "start_time": "2022-11-14T21:32:14.697111",
     "status": "completed"
    },
    "tags": []
   },
   "outputs": [
    {
     "name": "stdout",
     "output_type": "stream",
     "text": [
      "<class 'pandas.core.frame.DataFrame'>\n",
      "RangeIndex: 550068 entries, 0 to 550067\n",
      "Data columns (total 12 columns):\n",
      " #   Column                      Non-Null Count   Dtype  \n",
      "---  ------                      --------------   -----  \n",
      " 0   User_ID                     550068 non-null  int64  \n",
      " 1   Product_ID                  550068 non-null  object \n",
      " 2   Gender                      550068 non-null  object \n",
      " 3   Age                         550068 non-null  object \n",
      " 4   Occupation                  550068 non-null  int64  \n",
      " 5   City_Category               550068 non-null  object \n",
      " 6   Stay_In_Current_City_Years  550068 non-null  object \n",
      " 7   Marital_Status              550068 non-null  int64  \n",
      " 8   Product_Category_1          550068 non-null  int64  \n",
      " 9   Product_Category_2          376430 non-null  float64\n",
      " 10  Product_Category_3          166821 non-null  float64\n",
      " 11  Purchase                    550068 non-null  int64  \n",
      "dtypes: float64(2), int64(5), object(5)\n",
      "memory usage: 50.4+ MB\n"
     ]
    }
   ],
   "source": [
    "train.info()"
   ]
  },
  {
   "cell_type": "code",
   "execution_count": 5,
   "id": "516b2c22",
   "metadata": {
    "execution": {
     "iopub.execute_input": "2022-11-14T21:32:14.881308Z",
     "iopub.status.busy": "2022-11-14T21:32:14.880984Z",
     "iopub.status.idle": "2022-11-14T21:32:15.041097Z",
     "shell.execute_reply": "2022-11-14T21:32:15.039927Z"
    },
    "id": "6accec8f",
    "outputId": "d1b6aabf-4404-4c06-b34b-e6fa45f26b23",
    "papermill": {
     "duration": 0.181451,
     "end_time": "2022-11-14T21:32:15.044431",
     "exception": false,
     "start_time": "2022-11-14T21:32:14.862980",
     "status": "completed"
    },
    "tags": []
   },
   "outputs": [
    {
     "data": {
      "text/html": [
       "<div>\n",
       "<style scoped>\n",
       "    .dataframe tbody tr th:only-of-type {\n",
       "        vertical-align: middle;\n",
       "    }\n",
       "\n",
       "    .dataframe tbody tr th {\n",
       "        vertical-align: top;\n",
       "    }\n",
       "\n",
       "    .dataframe thead th {\n",
       "        text-align: right;\n",
       "    }\n",
       "</style>\n",
       "<table border=\"1\" class=\"dataframe\">\n",
       "  <thead>\n",
       "    <tr style=\"text-align: right;\">\n",
       "      <th></th>\n",
       "      <th>User_ID</th>\n",
       "      <th>Occupation</th>\n",
       "      <th>Marital_Status</th>\n",
       "      <th>Product_Category_1</th>\n",
       "      <th>Product_Category_2</th>\n",
       "      <th>Product_Category_3</th>\n",
       "      <th>Purchase</th>\n",
       "    </tr>\n",
       "  </thead>\n",
       "  <tbody>\n",
       "    <tr>\n",
       "      <th>count</th>\n",
       "      <td>5.500680e+05</td>\n",
       "      <td>550068.000000</td>\n",
       "      <td>550068.000000</td>\n",
       "      <td>550068.000000</td>\n",
       "      <td>376430.000000</td>\n",
       "      <td>166821.000000</td>\n",
       "      <td>550068.000000</td>\n",
       "    </tr>\n",
       "    <tr>\n",
       "      <th>mean</th>\n",
       "      <td>1.003029e+06</td>\n",
       "      <td>8.076707</td>\n",
       "      <td>0.409653</td>\n",
       "      <td>5.404270</td>\n",
       "      <td>9.842329</td>\n",
       "      <td>12.668243</td>\n",
       "      <td>9263.968713</td>\n",
       "    </tr>\n",
       "    <tr>\n",
       "      <th>std</th>\n",
       "      <td>1.727592e+03</td>\n",
       "      <td>6.522660</td>\n",
       "      <td>0.491770</td>\n",
       "      <td>3.936211</td>\n",
       "      <td>5.086590</td>\n",
       "      <td>4.125338</td>\n",
       "      <td>5023.065394</td>\n",
       "    </tr>\n",
       "    <tr>\n",
       "      <th>min</th>\n",
       "      <td>1.000001e+06</td>\n",
       "      <td>0.000000</td>\n",
       "      <td>0.000000</td>\n",
       "      <td>1.000000</td>\n",
       "      <td>2.000000</td>\n",
       "      <td>3.000000</td>\n",
       "      <td>12.000000</td>\n",
       "    </tr>\n",
       "    <tr>\n",
       "      <th>25%</th>\n",
       "      <td>1.001516e+06</td>\n",
       "      <td>2.000000</td>\n",
       "      <td>0.000000</td>\n",
       "      <td>1.000000</td>\n",
       "      <td>5.000000</td>\n",
       "      <td>9.000000</td>\n",
       "      <td>5823.000000</td>\n",
       "    </tr>\n",
       "    <tr>\n",
       "      <th>50%</th>\n",
       "      <td>1.003077e+06</td>\n",
       "      <td>7.000000</td>\n",
       "      <td>0.000000</td>\n",
       "      <td>5.000000</td>\n",
       "      <td>9.000000</td>\n",
       "      <td>14.000000</td>\n",
       "      <td>8047.000000</td>\n",
       "    </tr>\n",
       "    <tr>\n",
       "      <th>75%</th>\n",
       "      <td>1.004478e+06</td>\n",
       "      <td>14.000000</td>\n",
       "      <td>1.000000</td>\n",
       "      <td>8.000000</td>\n",
       "      <td>15.000000</td>\n",
       "      <td>16.000000</td>\n",
       "      <td>12054.000000</td>\n",
       "    </tr>\n",
       "    <tr>\n",
       "      <th>max</th>\n",
       "      <td>1.006040e+06</td>\n",
       "      <td>20.000000</td>\n",
       "      <td>1.000000</td>\n",
       "      <td>20.000000</td>\n",
       "      <td>18.000000</td>\n",
       "      <td>18.000000</td>\n",
       "      <td>23961.000000</td>\n",
       "    </tr>\n",
       "  </tbody>\n",
       "</table>\n",
       "</div>"
      ],
      "text/plain": [
       "            User_ID     Occupation  Marital_Status  Product_Category_1  \\\n",
       "count  5.500680e+05  550068.000000   550068.000000       550068.000000   \n",
       "mean   1.003029e+06       8.076707        0.409653            5.404270   \n",
       "std    1.727592e+03       6.522660        0.491770            3.936211   \n",
       "min    1.000001e+06       0.000000        0.000000            1.000000   \n",
       "25%    1.001516e+06       2.000000        0.000000            1.000000   \n",
       "50%    1.003077e+06       7.000000        0.000000            5.000000   \n",
       "75%    1.004478e+06      14.000000        1.000000            8.000000   \n",
       "max    1.006040e+06      20.000000        1.000000           20.000000   \n",
       "\n",
       "       Product_Category_2  Product_Category_3       Purchase  \n",
       "count       376430.000000       166821.000000  550068.000000  \n",
       "mean             9.842329           12.668243    9263.968713  \n",
       "std              5.086590            4.125338    5023.065394  \n",
       "min              2.000000            3.000000      12.000000  \n",
       "25%              5.000000            9.000000    5823.000000  \n",
       "50%              9.000000           14.000000    8047.000000  \n",
       "75%             15.000000           16.000000   12054.000000  \n",
       "max             18.000000           18.000000   23961.000000  "
      ]
     },
     "execution_count": 5,
     "metadata": {},
     "output_type": "execute_result"
    }
   ],
   "source": [
    "train.describe()"
   ]
  },
  {
   "cell_type": "code",
   "execution_count": 6,
   "id": "e1e13ba8",
   "metadata": {
    "execution": {
     "iopub.execute_input": "2022-11-14T21:32:15.079809Z",
     "iopub.status.busy": "2022-11-14T21:32:15.079495Z",
     "iopub.status.idle": "2022-11-14T21:32:15.399773Z",
     "shell.execute_reply": "2022-11-14T21:32:15.398759Z"
    },
    "id": "e1cad460",
    "outputId": "608c9afc-08c6-4194-acb5-6425222f2705",
    "papermill": {
     "duration": 0.340337,
     "end_time": "2022-11-14T21:32:15.402019",
     "exception": false,
     "start_time": "2022-11-14T21:32:15.061682",
     "status": "completed"
    },
    "tags": []
   },
   "outputs": [
    {
     "data": {
      "text/html": [
       "<div>\n",
       "<style scoped>\n",
       "    .dataframe tbody tr th:only-of-type {\n",
       "        vertical-align: middle;\n",
       "    }\n",
       "\n",
       "    .dataframe tbody tr th {\n",
       "        vertical-align: top;\n",
       "    }\n",
       "\n",
       "    .dataframe thead th {\n",
       "        text-align: right;\n",
       "    }\n",
       "</style>\n",
       "<table border=\"1\" class=\"dataframe\">\n",
       "  <thead>\n",
       "    <tr style=\"text-align: right;\">\n",
       "      <th></th>\n",
       "      <th>User_ID</th>\n",
       "      <th>Product_ID</th>\n",
       "      <th>Gender</th>\n",
       "      <th>Age</th>\n",
       "      <th>Occupation</th>\n",
       "      <th>City_Category</th>\n",
       "      <th>Stay_In_Current_City_Years</th>\n",
       "      <th>Marital_Status</th>\n",
       "      <th>Product_Category_1</th>\n",
       "      <th>Product_Category_2</th>\n",
       "      <th>Product_Category_3</th>\n",
       "      <th>Purchase</th>\n",
       "    </tr>\n",
       "  </thead>\n",
       "  <tbody>\n",
       "  </tbody>\n",
       "</table>\n",
       "</div>"
      ],
      "text/plain": [
       "Empty DataFrame\n",
       "Columns: [User_ID, Product_ID, Gender, Age, Occupation, City_Category, Stay_In_Current_City_Years, Marital_Status, Product_Category_1, Product_Category_2, Product_Category_3, Purchase]\n",
       "Index: []"
      ]
     },
     "execution_count": 6,
     "metadata": {},
     "output_type": "execute_result"
    }
   ],
   "source": [
    "train[train.duplicated()]"
   ]
  },
  {
   "cell_type": "markdown",
   "id": "f96025e4",
   "metadata": {
    "id": "f0db8a68",
    "papermill": {
     "duration": 0.016327,
     "end_time": "2022-11-14T21:32:15.435512",
     "exception": false,
     "start_time": "2022-11-14T21:32:15.419185",
     "status": "completed"
    },
    "tags": []
   },
   "source": [
    "## Data Cleaning & Preprocessing"
   ]
  },
  {
   "cell_type": "code",
   "execution_count": 7,
   "id": "49a56d58",
   "metadata": {
    "execution": {
     "iopub.execute_input": "2022-11-14T21:32:15.470219Z",
     "iopub.status.busy": "2022-11-14T21:32:15.469357Z",
     "iopub.status.idle": "2022-11-14T21:32:15.572963Z",
     "shell.execute_reply": "2022-11-14T21:32:15.571778Z"
    },
    "id": "f972ef57",
    "outputId": "441ad8bd-ea4b-455e-86a0-5ec18625cb66",
    "papermill": {
     "duration": 0.123327,
     "end_time": "2022-11-14T21:32:15.575323",
     "exception": false,
     "start_time": "2022-11-14T21:32:15.451996",
     "status": "completed"
    },
    "tags": []
   },
   "outputs": [
    {
     "data": {
      "text/plain": [
       "User_ID                            0\n",
       "Product_ID                         0\n",
       "Gender                             0\n",
       "Age                                0\n",
       "Occupation                         0\n",
       "City_Category                      0\n",
       "Stay_In_Current_City_Years         0\n",
       "Marital_Status                     0\n",
       "Product_Category_1                 0\n",
       "Product_Category_2            173638\n",
       "Product_Category_3            383247\n",
       "Purchase                           0\n",
       "dtype: int64"
      ]
     },
     "execution_count": 7,
     "metadata": {},
     "output_type": "execute_result"
    }
   ],
   "source": [
    "train.isnull().sum()"
   ]
  },
  {
   "cell_type": "code",
   "execution_count": 8,
   "id": "fd80a701",
   "metadata": {
    "execution": {
     "iopub.execute_input": "2022-11-14T21:32:15.610190Z",
     "iopub.status.busy": "2022-11-14T21:32:15.609451Z",
     "iopub.status.idle": "2022-11-14T21:32:15.632990Z",
     "shell.execute_reply": "2022-11-14T21:32:15.631890Z"
    },
    "id": "8e205d1d",
    "papermill": {
     "duration": 0.042821,
     "end_time": "2022-11-14T21:32:15.635172",
     "exception": false,
     "start_time": "2022-11-14T21:32:15.592351",
     "status": "completed"
    },
    "tags": []
   },
   "outputs": [],
   "source": [
    "train['Product_Category_2'].fillna(train['Product_Category_2'].mean(),inplace=True)\n",
    "train['Product_Category_3'].fillna(train['Product_Category_3'].mode()[0],inplace=True)"
   ]
  },
  {
   "cell_type": "code",
   "execution_count": 9,
   "id": "15f86e8d",
   "metadata": {
    "execution": {
     "iopub.execute_input": "2022-11-14T21:32:15.670355Z",
     "iopub.status.busy": "2022-11-14T21:32:15.668853Z",
     "iopub.status.idle": "2022-11-14T21:32:15.694126Z",
     "shell.execute_reply": "2022-11-14T21:32:15.693152Z"
    },
    "id": "eV61wOb3vDiv",
    "papermill": {
     "duration": 0.044986,
     "end_time": "2022-11-14T21:32:15.696271",
     "exception": false,
     "start_time": "2022-11-14T21:32:15.651285",
     "status": "completed"
    },
    "tags": []
   },
   "outputs": [],
   "source": [
    "## Discarding the unique identification features such as \"User ID\" and \"Product ID\" which aren't of any use in modeling purposes.\n",
    "train.drop(['User_ID','Product_ID'],axis=1,inplace=True)"
   ]
  },
  {
   "cell_type": "code",
   "execution_count": 10,
   "id": "fb253e1b",
   "metadata": {
    "execution": {
     "iopub.execute_input": "2022-11-14T21:32:15.730603Z",
     "iopub.status.busy": "2022-11-14T21:32:15.730172Z",
     "iopub.status.idle": "2022-11-14T21:32:15.757154Z",
     "shell.execute_reply": "2022-11-14T21:32:15.755938Z"
    },
    "id": "cec1f74c",
    "outputId": "058deb76-52eb-4c89-f161-22220a1e72fb",
    "papermill": {
     "duration": 0.047267,
     "end_time": "2022-11-14T21:32:15.760153",
     "exception": false,
     "start_time": "2022-11-14T21:32:15.712886",
     "status": "completed"
    },
    "tags": []
   },
   "outputs": [
    {
     "data": {
      "text/plain": [
       "M    414259\n",
       "F    135809\n",
       "Name: Gender, dtype: int64"
      ]
     },
     "execution_count": 10,
     "metadata": {},
     "output_type": "execute_result"
    }
   ],
   "source": [
    "train['Gender'].value_counts()"
   ]
  },
  {
   "cell_type": "code",
   "execution_count": 11,
   "id": "8d02ce3d",
   "metadata": {
    "execution": {
     "iopub.execute_input": "2022-11-14T21:32:15.795362Z",
     "iopub.status.busy": "2022-11-14T21:32:15.795078Z",
     "iopub.status.idle": "2022-11-14T21:32:15.955422Z",
     "shell.execute_reply": "2022-11-14T21:32:15.954424Z"
    },
    "id": "6d900129",
    "papermill": {
     "duration": 0.180529,
     "end_time": "2022-11-14T21:32:15.957901",
     "exception": false,
     "start_time": "2022-11-14T21:32:15.777372",
     "status": "completed"
    },
    "tags": []
   },
   "outputs": [],
   "source": [
    "train['Gender'].replace(['M','F'],[1,0],inplace=True)\n",
    "train['Gender'] = train['Gender'].astype(int)"
   ]
  },
  {
   "cell_type": "markdown",
   "id": "c2a407a7",
   "metadata": {
    "id": "0bfeb953",
    "papermill": {
     "duration": 0.016656,
     "end_time": "2022-11-14T21:32:15.991818",
     "exception": false,
     "start_time": "2022-11-14T21:32:15.975162",
     "status": "completed"
    },
    "tags": []
   },
   "source": [
    "## Exploratory Data Analysis"
   ]
  },
  {
   "cell_type": "code",
   "execution_count": 12,
   "id": "c29538ef",
   "metadata": {
    "execution": {
     "iopub.execute_input": "2022-11-14T21:32:16.027097Z",
     "iopub.status.busy": "2022-11-14T21:32:16.026732Z",
     "iopub.status.idle": "2022-11-14T21:32:16.769927Z",
     "shell.execute_reply": "2022-11-14T21:32:16.767739Z"
    },
    "id": "65ba6683",
    "outputId": "2e25e62e-ea9c-4900-c494-9d154e57adae",
    "papermill": {
     "duration": 0.763641,
     "end_time": "2022-11-14T21:32:16.772100",
     "exception": false,
     "start_time": "2022-11-14T21:32:16.008459",
     "status": "completed"
    },
    "tags": []
   },
   "outputs": [
    {
     "data": {
      "text/plain": [
       "<AxesSubplot:>"
      ]
     },
     "execution_count": 12,
     "metadata": {},
     "output_type": "execute_result"
    },
    {
     "data": {
      "image/png": "[encoded data removed]",
      "text/plain": [
       "<Figure size 864x576 with 2 Axes>"
      ]
     },
     "metadata": {
      "needs_background": "light"
     },
     "output_type": "display_data"
    }
   ],
   "source": [
    "plt.figure(figsize=(12,8))\n",
    "sns.heatmap(train.corr(),annot=True,cmap='viridis',vmin=-1,vmax=1)"
   ]
  },
  {
   "cell_type": "markdown",
   "id": "d932f295",
   "metadata": {
    "id": "s1pAoj-EvXAj",
    "papermill": {
     "duration": 0.016586,
     "end_time": "2022-11-14T21:32:16.807101",
     "exception": false,
     "start_time": "2022-11-14T21:32:16.790515",
     "status": "completed"
    },
    "tags": []
   },
   "source": [
    "The feature \"Product_Category_1\" has mildly negative correlation with total purchase amount."
   ]
  },
  {
   "cell_type": "code",
   "execution_count": 13,
   "id": "d55c7299",
   "metadata": {
    "execution": {
     "iopub.execute_input": "2022-11-14T21:32:16.842488Z",
     "iopub.status.busy": "2022-11-14T21:32:16.841609Z",
     "iopub.status.idle": "2022-11-14T21:32:17.314719Z",
     "shell.execute_reply": "2022-11-14T21:32:17.313784Z"
    },
    "id": "e87d5b4f",
    "outputId": "34a54e17-7591-4e8e-858a-986bb82016c9",
    "papermill": {
     "duration": 0.492852,
     "end_time": "2022-11-14T21:32:17.316861",
     "exception": false,
     "start_time": "2022-11-14T21:32:16.824009",
     "status": "completed"
    },
    "tags": []
   },
   "outputs": [
    {
     "data": {
      "text/plain": [
       "<AxesSubplot:xlabel='Age', ylabel='count'>"
      ]
     },
     "execution_count": 13,
     "metadata": {},
     "output_type": "execute_result"
    },
    {
     "data": {
      "image/png": "[encoded data removed]",
      "text/plain": [
       "<Figure size 432x288 with 1 Axes>"
      ]
     },
     "metadata": {
      "needs_background": "light"
     },
     "output_type": "display_data"
    }
   ],
   "source": [
    "sns.countplot(train['Age'])"
   ]
  },
  {
   "cell_type": "markdown",
   "id": "c38ef2bb",
   "metadata": {
    "id": "oq8FGFpavvJr",
    "papermill": {
     "duration": 0.017987,
     "end_time": "2022-11-14T21:32:17.353161",
     "exception": false,
     "start_time": "2022-11-14T21:32:17.335174",
     "status": "completed"
    },
    "tags": []
   },
   "source": [
    "Majority of the customers belong to the age group of 26-35 years."
   ]
  },
  {
   "cell_type": "code",
   "execution_count": 14,
   "id": "ccb9faee",
   "metadata": {
    "execution": {
     "iopub.execute_input": "2022-11-14T21:32:17.389612Z",
     "iopub.status.busy": "2022-11-14T21:32:17.389291Z",
     "iopub.status.idle": "2022-11-14T21:32:17.598855Z",
     "shell.execute_reply": "2022-11-14T21:32:17.597685Z"
    },
    "id": "d3303afd",
    "outputId": "cfc4c0a3-edf0-41ef-9be0-73f65cb7858b",
    "papermill": {
     "duration": 0.231237,
     "end_time": "2022-11-14T21:32:17.601834",
     "exception": false,
     "start_time": "2022-11-14T21:32:17.370597",
     "status": "completed"
    },
    "tags": []
   },
   "outputs": [
    {
     "data": {
      "image/png": "[encoded data removed]",
      "text/plain": [
       "<Figure size 864x576 with 1 Axes>"
      ]
     },
     "metadata": {},
     "output_type": "display_data"
    }
   ],
   "source": [
    "plt.figure(figsize=(12,8))\n",
    "values = train['City_Category'].value_counts().values\n",
    "labels = train['City_Category'].value_counts().keys()\n",
    "explode = (0.1,0,0)\n",
    "plt.pie(values,labels=labels,explode=explode,shadow=True,autopct='%1.1f%%');"
   ]
  },
  {
   "cell_type": "markdown",
   "id": "335ef73a",
   "metadata": {
    "id": "36b143b2",
    "papermill": {
     "duration": 0.031834,
     "end_time": "2022-11-14T21:32:17.682136",
     "exception": false,
     "start_time": "2022-11-14T21:32:17.650302",
     "status": "completed"
    },
    "tags": []
   },
   "source": [
    "## Categorical Encoding"
   ]
  },
  {
   "cell_type": "code",
   "execution_count": 15,
   "id": "596bc97c",
   "metadata": {
    "execution": {
     "iopub.execute_input": "2022-11-14T21:32:17.720146Z",
     "iopub.status.busy": "2022-11-14T21:32:17.719748Z",
     "iopub.status.idle": "2022-11-14T21:32:17.736567Z",
     "shell.execute_reply": "2022-11-14T21:32:17.735578Z"
    },
    "id": "f02f00bf",
    "papermill": {
     "duration": 0.038245,
     "end_time": "2022-11-14T21:32:17.738782",
     "exception": false,
     "start_time": "2022-11-14T21:32:17.700537",
     "status": "completed"
    },
    "tags": []
   },
   "outputs": [],
   "source": [
    "train['Stay_In_Current_City_Years'].replace('4+','4',inplace=True)"
   ]
  },
  {
   "cell_type": "code",
   "execution_count": 16,
   "id": "6c4cc718",
   "metadata": {
    "execution": {
     "iopub.execute_input": "2022-11-14T21:32:17.777475Z",
     "iopub.status.busy": "2022-11-14T21:32:17.776050Z",
     "iopub.status.idle": "2022-11-14T21:32:17.836978Z",
     "shell.execute_reply": "2022-11-14T21:32:17.836079Z"
    },
    "id": "d115e311",
    "papermill": {
     "duration": 0.082631,
     "end_time": "2022-11-14T21:32:17.839051",
     "exception": false,
     "start_time": "2022-11-14T21:32:17.756420",
     "status": "completed"
    },
    "tags": []
   },
   "outputs": [],
   "source": [
    "train['Stay_In_Current_City_Years'] = train['Stay_In_Current_City_Years'].astype(int)"
   ]
  },
  {
   "cell_type": "code",
   "execution_count": 17,
   "id": "5649aa8a",
   "metadata": {
    "execution": {
     "iopub.execute_input": "2022-11-14T21:32:17.877105Z",
     "iopub.status.busy": "2022-11-14T21:32:17.876782Z",
     "iopub.status.idle": "2022-11-14T21:32:17.909319Z",
     "shell.execute_reply": "2022-11-14T21:32:17.908475Z"
    },
    "id": "a40a6d1c",
    "outputId": "b4c1a603-5cf6-4633-936e-ba27047e4135",
    "papermill": {
     "duration": 0.054288,
     "end_time": "2022-11-14T21:32:17.911429",
     "exception": false,
     "start_time": "2022-11-14T21:32:17.857141",
     "status": "completed"
    },
    "tags": []
   },
   "outputs": [
    {
     "data": {
      "text/plain": [
       "0    1\n",
       "1    1\n",
       "2    1\n",
       "3    1\n",
       "4    3\n",
       "Name: City_Category, dtype: int64"
      ]
     },
     "execution_count": 17,
     "metadata": {},
     "output_type": "execute_result"
    }
   ],
   "source": [
    "city_categories = {'A': 1, 'B': 2, 'C': 3}\n",
    "train['City_Category'] = train['City_Category'].map(city_categories)\n",
    "train['City_Category'].head()"
   ]
  },
  {
   "cell_type": "code",
   "execution_count": 18,
   "id": "2c1f0817",
   "metadata": {
    "execution": {
     "iopub.execute_input": "2022-11-14T21:32:17.948295Z",
     "iopub.status.busy": "2022-11-14T21:32:17.948018Z",
     "iopub.status.idle": "2022-11-14T21:32:17.954097Z",
     "shell.execute_reply": "2022-11-14T21:32:17.952957Z"
    },
    "id": "ecbf2bb6",
    "papermill": {
     "duration": 0.026818,
     "end_time": "2022-11-14T21:32:17.956102",
     "exception": false,
     "start_time": "2022-11-14T21:32:17.929284",
     "status": "completed"
    },
    "tags": []
   },
   "outputs": [],
   "source": [
    "train['City_Category'] = train['City_Category'].astype(int)"
   ]
  },
  {
   "cell_type": "code",
   "execution_count": 19,
   "id": "7a6b18c4",
   "metadata": {
    "execution": {
     "iopub.execute_input": "2022-11-14T21:32:17.993218Z",
     "iopub.status.busy": "2022-11-14T21:32:17.992903Z",
     "iopub.status.idle": "2022-11-14T21:32:18.115571Z",
     "shell.execute_reply": "2022-11-14T21:32:18.114498Z"
    },
    "id": "e5c29cfc",
    "outputId": "24230316-69fe-45f0-aa3f-48b113c2b34b",
    "papermill": {
     "duration": 0.143982,
     "end_time": "2022-11-14T21:32:18.117722",
     "exception": false,
     "start_time": "2022-11-14T21:32:17.973740",
     "status": "completed"
    },
    "tags": []
   },
   "outputs": [
    {
     "data": {
      "text/plain": [
       "dtype('int64')"
      ]
     },
     "execution_count": 19,
     "metadata": {},
     "output_type": "execute_result"
    }
   ],
   "source": [
    "le = LabelEncoder()\n",
    "train['Age'] = le.fit_transform(train['Age'])\n",
    "train['Age'] = train['Age'].astype(int)\n",
    "train['Age'].dtypes"
   ]
  },
  {
   "cell_type": "markdown",
   "id": "a2cf8e78",
   "metadata": {
    "id": "c0226d9c",
    "papermill": {
     "duration": 0.018485,
     "end_time": "2022-11-14T21:32:18.154952",
     "exception": false,
     "start_time": "2022-11-14T21:32:18.136467",
     "status": "completed"
    },
    "tags": []
   },
   "source": [
    "## Loading the test dataset"
   ]
  },
  {
   "cell_type": "code",
   "execution_count": 20,
   "id": "dfc4fee1",
   "metadata": {
    "execution": {
     "iopub.execute_input": "2022-11-14T21:32:18.194432Z",
     "iopub.status.busy": "2022-11-14T21:32:18.193514Z",
     "iopub.status.idle": "2022-11-14T21:32:18.534587Z",
     "shell.execute_reply": "2022-11-14T21:32:18.533572Z"
    },
    "id": "59837562",
    "outputId": "739c7e02-667d-48b1-c75c-6423696a905e",
    "papermill": {
     "duration": 0.363365,
     "end_time": "2022-11-14T21:32:18.536914",
     "exception": false,
     "start_time": "2022-11-14T21:32:18.173549",
     "status": "completed"
    },
    "tags": []
   },
   "outputs": [
    {
     "data": {
      "text/html": [
       "<div>\n",
       "<style scoped>\n",
       "    .dataframe tbody tr th:only-of-type {\n",
       "        vertical-align: middle;\n",
       "    }\n",
       "\n",
       "    .dataframe tbody tr th {\n",
       "        vertical-align: top;\n",
       "    }\n",
       "\n",
       "    .dataframe thead th {\n",
       "        text-align: right;\n",
       "    }\n",
       "</style>\n",
       "<table border=\"1\" class=\"dataframe\">\n",
       "  <thead>\n",
       "    <tr style=\"text-align: right;\">\n",
       "      <th></th>\n",
       "      <th>User_ID</th>\n",
       "      <th>Product_ID</th>\n",
       "      <th>Gender</th>\n",
       "      <th>Age</th>\n",
       "      <th>Occupation</th>\n",
       "      <th>City_Category</th>\n",
       "      <th>Stay_In_Current_City_Years</th>\n",
       "      <th>Marital_Status</th>\n",
       "      <th>Product_Category_1</th>\n",
       "      <th>Product_Category_2</th>\n",
       "      <th>Product_Category_3</th>\n",
       "    </tr>\n",
       "  </thead>\n",
       "  <tbody>\n",
       "    <tr>\n",
       "      <th>0</th>\n",
       "      <td>1000004</td>\n",
       "      <td>P00128942</td>\n",
       "      <td>M</td>\n",
       "      <td>46-50</td>\n",
       "      <td>7</td>\n",
       "      <td>B</td>\n",
       "      <td>2</td>\n",
       "      <td>1</td>\n",
       "      <td>1</td>\n",
       "      <td>11.0</td>\n",
       "      <td>NaN</td>\n",
       "    </tr>\n",
       "    <tr>\n",
       "      <th>1</th>\n",
       "      <td>1000009</td>\n",
       "      <td>P00113442</td>\n",
       "      <td>M</td>\n",
       "      <td>26-35</td>\n",
       "      <td>17</td>\n",
       "      <td>C</td>\n",
       "      <td>0</td>\n",
       "      <td>0</td>\n",
       "      <td>3</td>\n",
       "      <td>5.0</td>\n",
       "      <td>NaN</td>\n",
       "    </tr>\n",
       "    <tr>\n",
       "      <th>2</th>\n",
       "      <td>1000010</td>\n",
       "      <td>P00288442</td>\n",
       "      <td>F</td>\n",
       "      <td>36-45</td>\n",
       "      <td>1</td>\n",
       "      <td>B</td>\n",
       "      <td>4+</td>\n",
       "      <td>1</td>\n",
       "      <td>5</td>\n",
       "      <td>14.0</td>\n",
       "      <td>NaN</td>\n",
       "    </tr>\n",
       "    <tr>\n",
       "      <th>3</th>\n",
       "      <td>1000010</td>\n",
       "      <td>P00145342</td>\n",
       "      <td>F</td>\n",
       "      <td>36-45</td>\n",
       "      <td>1</td>\n",
       "      <td>B</td>\n",
       "      <td>4+</td>\n",
       "      <td>1</td>\n",
       "      <td>4</td>\n",
       "      <td>9.0</td>\n",
       "      <td>NaN</td>\n",
       "    </tr>\n",
       "    <tr>\n",
       "      <th>4</th>\n",
       "      <td>1000011</td>\n",
       "      <td>P00053842</td>\n",
       "      <td>F</td>\n",
       "      <td>26-35</td>\n",
       "      <td>1</td>\n",
       "      <td>C</td>\n",
       "      <td>1</td>\n",
       "      <td>0</td>\n",
       "      <td>4</td>\n",
       "      <td>5.0</td>\n",
       "      <td>12.0</td>\n",
       "    </tr>\n",
       "  </tbody>\n",
       "</table>\n",
       "</div>"
      ],
      "text/plain": [
       "   User_ID Product_ID Gender    Age  Occupation City_Category  \\\n",
       "0  1000004  P00128942      M  46-50           7             B   \n",
       "1  1000009  P00113442      M  26-35          17             C   \n",
       "2  1000010  P00288442      F  36-45           1             B   \n",
       "3  1000010  P00145342      F  36-45           1             B   \n",
       "4  1000011  P00053842      F  26-35           1             C   \n",
       "\n",
       "  Stay_In_Current_City_Years  Marital_Status  Product_Category_1  \\\n",
       "0                          2               1                   1   \n",
       "1                          0               0                   3   \n",
       "2                         4+               1                   5   \n",
       "3                         4+               1                   4   \n",
       "4                          1               0                   4   \n",
       "\n",
       "   Product_Category_2  Product_Category_3  \n",
       "0                11.0                 NaN  \n",
       "1                 5.0                 NaN  \n",
       "2                14.0                 NaN  \n",
       "3                 9.0                 NaN  \n",
       "4                 5.0                12.0  "
      ]
     },
     "execution_count": 20,
     "metadata": {},
     "output_type": "execute_result"
    }
   ],
   "source": [
    "test = pd.read_csv('../input/black-friday-sales-prediction/test_HujdGe7 (1)/test.csv')\n",
    "test_c = test.copy()\n",
    "test.head()"
   ]
  },
  {
   "cell_type": "markdown",
   "id": "5c74d09d",
   "metadata": {
    "id": "159f855b",
    "papermill": {
     "duration": 0.018244,
     "end_time": "2022-11-14T21:32:18.574726",
     "exception": false,
     "start_time": "2022-11-14T21:32:18.556482",
     "status": "completed"
    },
    "tags": []
   },
   "source": [
    "## Cleaning and transforming the test dataset into the desired form"
   ]
  },
  {
   "cell_type": "code",
   "execution_count": 21,
   "id": "d88799c3",
   "metadata": {
    "execution": {
     "iopub.execute_input": "2022-11-14T21:32:18.612783Z",
     "iopub.status.busy": "2022-11-14T21:32:18.612443Z",
     "iopub.status.idle": "2022-11-14T21:32:18.629894Z",
     "shell.execute_reply": "2022-11-14T21:32:18.629005Z"
    },
    "id": "98039217",
    "papermill": {
     "duration": 0.038641,
     "end_time": "2022-11-14T21:32:18.631841",
     "exception": false,
     "start_time": "2022-11-14T21:32:18.593200",
     "status": "completed"
    },
    "tags": []
   },
   "outputs": [],
   "source": [
    "test.drop(['User_ID','Product_ID'],axis=1,inplace=True)"
   ]
  },
  {
   "cell_type": "code",
   "execution_count": 22,
   "id": "5efe9865",
   "metadata": {
    "execution": {
     "iopub.execute_input": "2022-11-14T21:32:18.671425Z",
     "iopub.status.busy": "2022-11-14T21:32:18.670560Z",
     "iopub.status.idle": "2022-11-14T21:32:18.863150Z",
     "shell.execute_reply": "2022-11-14T21:32:18.861961Z"
    },
    "id": "c33d882b",
    "papermill": {
     "duration": 0.215796,
     "end_time": "2022-11-14T21:32:18.866110",
     "exception": false,
     "start_time": "2022-11-14T21:32:18.650314",
     "status": "completed"
    },
    "tags": []
   },
   "outputs": [],
   "source": [
    "test['Gender'].replace(['M','F'],[1,0],inplace=True)\n",
    "test['Gender'] = test['Gender'].astype(int)\n",
    "test['Age'] = le.fit_transform(test['Age'])\n",
    "test['Age'] = test['Age'].astype(int)\n",
    "test['City_Category'] = test['City_Category'].map(city_categories)\n",
    "test['City_Category'] = test['City_Category'].astype(int)\n",
    "test['Stay_In_Current_City_Years'].replace('4+','4',inplace=True)\n",
    "test['Stay_In_Current_City_Years'] = test['Stay_In_Current_City_Years'].astype(int)\n",
    "test['Product_Category_2'].fillna(test['Product_Category_2'].mean(),inplace=True)\n",
    "test['Product_Category_3'].fillna(test['Product_Category_3'].mean(),inplace=True)"
   ]
  },
  {
   "cell_type": "markdown",
   "id": "8dc287fd",
   "metadata": {
    "id": "47603387",
    "papermill": {
     "duration": 0.018628,
     "end_time": "2022-11-14T21:32:18.904424",
     "exception": false,
     "start_time": "2022-11-14T21:32:18.885796",
     "status": "completed"
    },
    "tags": []
   },
   "source": [
    "## Performing feature scaling along with splitting of the dataset into training and testing sets.."
   ]
  },
  {
   "cell_type": "code",
   "execution_count": 23,
   "id": "5bb62a9d",
   "metadata": {
    "execution": {
     "iopub.execute_input": "2022-11-14T21:32:18.942042Z",
     "iopub.status.busy": "2022-11-14T21:32:18.941186Z",
     "iopub.status.idle": "2022-11-14T21:32:19.145915Z",
     "shell.execute_reply": "2022-11-14T21:32:19.144578Z"
    },
    "id": "603147b8",
    "papermill": {
     "duration": 0.226408,
     "end_time": "2022-11-14T21:32:19.148596",
     "exception": false,
     "start_time": "2022-11-14T21:32:18.922188",
     "status": "completed"
    },
    "tags": []
   },
   "outputs": [],
   "source": [
    "X = train.drop('Purchase',axis=1)\n",
    "y = train['Purchase']\n",
    "scaler = StandardScaler()\n",
    "features = X.columns\n",
    "scaled_X = scaler.fit_transform(X)\n",
    "scaled_X = pd.DataFrame(scaled_X,columns=features)\n",
    "X_train, X_test, y_train, y_test = train_test_split(scaled_X,y,test_size=0.2,random_state=1)"
   ]
  },
  {
   "cell_type": "markdown",
   "id": "01401c3e",
   "metadata": {
    "id": "5735cabe",
    "papermill": {
     "duration": 0.017985,
     "end_time": "2022-11-14T21:32:19.185130",
     "exception": false,
     "start_time": "2022-11-14T21:32:19.167145",
     "status": "completed"
    },
    "tags": []
   },
   "source": [
    "# Model Training & Evaluation"
   ]
  },
  {
   "cell_type": "markdown",
   "id": "fec1d5cc",
   "metadata": {
    "id": "3b01afb6",
    "papermill": {
     "duration": 0.018288,
     "end_time": "2022-11-14T21:32:19.221157",
     "exception": false,
     "start_time": "2022-11-14T21:32:19.202869",
     "status": "completed"
    },
    "tags": []
   },
   "source": [
    "## Linear Regression"
   ]
  },
  {
   "cell_type": "code",
   "execution_count": 24,
   "id": "8681a74c",
   "metadata": {
    "execution": {
     "iopub.execute_input": "2022-11-14T21:32:19.258787Z",
     "iopub.status.busy": "2022-11-14T21:32:19.257888Z",
     "iopub.status.idle": "2022-11-14T21:32:19.411069Z",
     "shell.execute_reply": "2022-11-14T21:32:19.409858Z"
    },
    "id": "cfc8e32b",
    "outputId": "fda4de09-9685-4757-fb0a-0f4127dae8b5",
    "papermill": {
     "duration": 0.175942,
     "end_time": "2022-11-14T21:32:19.414881",
     "exception": false,
     "start_time": "2022-11-14T21:32:19.238939",
     "status": "completed"
    },
    "tags": []
   },
   "outputs": [
    {
     "data": {
      "text/plain": [
       "LinearRegression()"
      ]
     },
     "execution_count": 24,
     "metadata": {},
     "output_type": "execute_result"
    }
   ],
   "source": [
    "lr = LinearRegression()\n",
    "lr.fit(X_train,y_train)"
   ]
  },
  {
   "cell_type": "code",
   "execution_count": 25,
   "id": "a702f8ce",
   "metadata": {
    "execution": {
     "iopub.execute_input": "2022-11-14T21:32:19.506166Z",
     "iopub.status.busy": "2022-11-14T21:32:19.505843Z",
     "iopub.status.idle": "2022-11-14T21:32:19.518838Z",
     "shell.execute_reply": "2022-11-14T21:32:19.517619Z"
    },
    "id": "0009a698",
    "outputId": "ffc70c58-5f35-4a14-928b-d1a3170abbd9",
    "papermill": {
     "duration": 0.059321,
     "end_time": "2022-11-14T21:32:19.524345",
     "exception": false,
     "start_time": "2022-11-14T21:32:19.465024",
     "status": "completed"
    },
    "tags": []
   },
   "outputs": [
    {
     "data": {
      "text/plain": [
       "0.13247521594346157"
      ]
     },
     "execution_count": 25,
     "metadata": {},
     "output_type": "execute_result"
    }
   ],
   "source": [
    "lr.score(X_test,y_test)"
   ]
  },
  {
   "cell_type": "markdown",
   "id": "585bccd7",
   "metadata": {
    "id": "63bb89a5",
    "papermill": {
     "duration": 0.050227,
     "end_time": "2022-11-14T21:32:19.624362",
     "exception": false,
     "start_time": "2022-11-14T21:32:19.574135",
     "status": "completed"
    },
    "tags": []
   },
   "source": [
    "## XG Boost Regressor"
   ]
  },
  {
   "cell_type": "code",
   "execution_count": 26,
   "id": "aab2d6dc",
   "metadata": {
    "execution": {
     "iopub.execute_input": "2022-11-14T21:32:19.676891Z",
     "iopub.status.busy": "2022-11-14T21:32:19.676511Z",
     "iopub.status.idle": "2022-11-14T21:32:50.926138Z",
     "shell.execute_reply": "2022-11-14T21:32:50.925041Z"
    },
    "id": "babea128",
    "outputId": "c2a7355a-73e5-4a8e-e363-18c982f32002",
    "papermill": {
     "duration": 31.283522,
     "end_time": "2022-11-14T21:32:50.940028",
     "exception": false,
     "start_time": "2022-11-14T21:32:19.656506",
     "status": "completed"
    },
    "tags": []
   },
   "outputs": [
    {
     "data": {
      "text/plain": [
       "XGBRegressor(base_score=0.5, booster='gbtree', callbacks=None,\n",
       "             colsample_bylevel=1, colsample_bynode=1, colsample_bytree=1,\n",
       "             early_stopping_rounds=None, enable_categorical=False,\n",
       "             eval_metric=None, gamma=0, gpu_id=-1, grow_policy='depthwise',\n",
       "             importance_type=None, interaction_constraints='',\n",
       "             learning_rate=0.300000012, max_bin=256, max_cat_to_onehot=4,\n",
       "             max_delta_step=0, max_depth=6, max_leaves=0, min_child_weight=1,\n",
       "             missing=nan, monotone_constraints='()', n_estimators=100, n_jobs=0,\n",
       "             num_parallel_tree=1, predictor='auto', random_state=0, reg_alpha=0,\n",
       "             reg_lambda=1, ...)"
      ]
     },
     "execution_count": 26,
     "metadata": {},
     "output_type": "execute_result"
    }
   ],
   "source": [
    "xgb = XGBRegressor()\n",
    "xgb.fit(X_train.values,y_train.values)"
   ]
  },
  {
   "cell_type": "code",
   "execution_count": 27,
   "id": "0da85129",
   "metadata": {
    "execution": {
     "iopub.execute_input": "2022-11-14T21:32:50.979813Z",
     "iopub.status.busy": "2022-11-14T21:32:50.978277Z",
     "iopub.status.idle": "2022-11-14T21:32:51.172368Z",
     "shell.execute_reply": "2022-11-14T21:32:51.171623Z"
    },
    "id": "9688fff9",
    "outputId": "234eb378-d78c-44d7-ab4f-f02d158fe657",
    "papermill": {
     "duration": 0.215532,
     "end_time": "2022-11-14T21:32:51.174500",
     "exception": false,
     "start_time": "2022-11-14T21:32:50.958968",
     "status": "completed"
    },
    "tags": []
   },
   "outputs": [
    {
     "data": {
      "text/plain": [
       "0.6733773379986892"
      ]
     },
     "execution_count": 27,
     "metadata": {},
     "output_type": "execute_result"
    }
   ],
   "source": [
    "xgb.score(X_test.values,y_test.values)"
   ]
  },
  {
   "cell_type": "code",
   "execution_count": 28,
   "id": "1fed3ff6",
   "metadata": {
    "execution": {
     "iopub.execute_input": "2022-11-14T21:32:51.214909Z",
     "iopub.status.busy": "2022-11-14T21:32:51.214606Z",
     "iopub.status.idle": "2022-11-14T21:32:51.405639Z",
     "shell.execute_reply": "2022-11-14T21:32:51.404667Z"
    },
    "id": "e728106f",
    "outputId": "37e00e7d-2456-41f2-f22f-3c2048f746f0",
    "papermill": {
     "duration": 0.213567,
     "end_time": "2022-11-14T21:32:51.407771",
     "exception": false,
     "start_time": "2022-11-14T21:32:51.194204",
     "status": "completed"
    },
    "tags": []
   },
   "outputs": [
    {
     "name": "stdout",
     "output_type": "stream",
     "text": [
      "RMSE: 2876.0486988784783\n",
      "R2 Score: 0.6733773379986892\n"
     ]
    }
   ],
   "source": [
    "xgb_pred = xgb.predict(X_test.values)\n",
    "print('RMSE:',np.sqrt(MSE(y_test,xgb_pred)))\n",
    "print(\"R2 Score:\",r2_score(y_test,xgb_pred))"
   ]
  },
  {
   "cell_type": "code",
   "execution_count": 29,
   "id": "08a3c59f",
   "metadata": {
    "execution": {
     "iopub.execute_input": "2022-11-14T21:32:51.448339Z",
     "iopub.status.busy": "2022-11-14T21:32:51.448068Z",
     "iopub.status.idle": "2022-11-14T21:34:44.328730Z",
     "shell.execute_reply": "2022-11-14T21:34:44.327624Z"
    },
    "id": "8e050477",
    "outputId": "c4a2fa26-b4e9-44fc-bf26-7453c0af1c95",
    "papermill": {
     "duration": 112.918118,
     "end_time": "2022-11-14T21:34:44.346521",
     "exception": false,
     "start_time": "2022-11-14T21:32:51.428403",
     "status": "completed"
    },
    "tags": []
   },
   "outputs": [
    {
     "name": "stdout",
     "output_type": "stream",
     "text": [
      "[0.66697353 0.6706295  0.67024394 0.67336298 0.66994266]\n",
      "Mean Score: 0.6702305224619639\n"
     ]
    }
   ],
   "source": [
    "xgb = cross_val_score(xgb,X_train,y_train,cv=5)\n",
    "print(xgb)\n",
    "print('Mean Score:',np.mean(xgb))"
   ]
  },
  {
   "cell_type": "markdown",
   "id": "d097b79b",
   "metadata": {
    "id": "egXTiH4kz8oB",
    "papermill": {
     "duration": 0.01832,
     "end_time": "2022-11-14T21:34:44.383743",
     "exception": false,
     "start_time": "2022-11-14T21:34:44.365423",
     "status": "completed"
    },
    "tags": []
   },
   "source": [
    "## K Nearest Neighbors Regressor"
   ]
  },
  {
   "cell_type": "code",
   "execution_count": 30,
   "id": "e4b8cd43",
   "metadata": {
    "execution": {
     "iopub.execute_input": "2022-11-14T21:34:44.422450Z",
     "iopub.status.busy": "2022-11-14T21:34:44.422131Z",
     "iopub.status.idle": "2022-11-14T21:34:45.180481Z",
     "shell.execute_reply": "2022-11-14T21:34:45.179477Z"
    },
    "id": "jFGXrYMvz7Pg",
    "outputId": "0bd4f958-15e1-4ff7-f425-8785d69f8e9c",
    "papermill": {
     "duration": 0.780556,
     "end_time": "2022-11-14T21:34:45.183014",
     "exception": false,
     "start_time": "2022-11-14T21:34:44.402458",
     "status": "completed"
    },
    "tags": []
   },
   "outputs": [
    {
     "data": {
      "text/plain": [
       "KNeighborsRegressor()"
      ]
     },
     "execution_count": 30,
     "metadata": {},
     "output_type": "execute_result"
    }
   ],
   "source": [
    "knn = KNeighborsRegressor()\n",
    "knn.fit(X_train.values,y_train.values)"
   ]
  },
  {
   "cell_type": "code",
   "execution_count": 31,
   "id": "74ebeff1",
   "metadata": {
    "execution": {
     "iopub.execute_input": "2022-11-14T21:34:45.222914Z",
     "iopub.status.busy": "2022-11-14T21:34:45.222599Z",
     "iopub.status.idle": "2022-11-14T21:34:59.528670Z",
     "shell.execute_reply": "2022-11-14T21:34:59.527487Z"
    },
    "id": "PYQGqy7E0YhP",
    "outputId": "15dba231-d658-4f39-94e5-443e4ed36355",
    "papermill": {
     "duration": 14.328519,
     "end_time": "2022-11-14T21:34:59.530792",
     "exception": false,
     "start_time": "2022-11-14T21:34:45.202273",
     "status": "completed"
    },
    "tags": []
   },
   "outputs": [
    {
     "data": {
      "text/plain": [
       "0.5225057760128313"
      ]
     },
     "execution_count": 31,
     "metadata": {},
     "output_type": "execute_result"
    }
   ],
   "source": [
    "knn.score(X_test.values,y_test.values)"
   ]
  },
  {
   "cell_type": "code",
   "execution_count": 32,
   "id": "8d7525f4",
   "metadata": {
    "execution": {
     "iopub.execute_input": "2022-11-14T21:34:59.571673Z",
     "iopub.status.busy": "2022-11-14T21:34:59.569945Z",
     "iopub.status.idle": "2022-11-14T21:35:14.115046Z",
     "shell.execute_reply": "2022-11-14T21:35:14.113630Z"
    },
    "id": "IlEwaFca0i6R",
    "outputId": "1a118b85-5b06-4b52-bbc2-ca0005948463",
    "papermill": {
     "duration": 14.566994,
     "end_time": "2022-11-14T21:35:14.117389",
     "exception": false,
     "start_time": "2022-11-14T21:34:59.550395",
     "status": "completed"
    },
    "tags": []
   },
   "outputs": [
    {
     "name": "stdout",
     "output_type": "stream",
     "text": [
      "RMSE: 3477.419937089273\n",
      "R2 Score: 0.5225057760128313\n"
     ]
    }
   ],
   "source": [
    "knn_pred = knn.predict(X_test.values)\n",
    "print('RMSE:',np.sqrt(MSE(y_test,knn_pred)))\n",
    "print(\"R2 Score:\",r2_score(y_test,knn_pred))"
   ]
  },
  {
   "cell_type": "markdown",
   "id": "9aa5b470",
   "metadata": {
    "id": "__kYgOPf1ULE",
    "papermill": {
     "duration": 0.018908,
     "end_time": "2022-11-14T21:35:14.155687",
     "exception": false,
     "start_time": "2022-11-14T21:35:14.136779",
     "status": "completed"
    },
    "tags": []
   },
   "source": [
    "## Extra Trees Regressor"
   ]
  },
  {
   "cell_type": "code",
   "execution_count": 33,
   "id": "a91dd692",
   "metadata": {
    "execution": {
     "iopub.execute_input": "2022-11-14T21:35:14.194134Z",
     "iopub.status.busy": "2022-11-14T21:35:14.193836Z",
     "iopub.status.idle": "2022-11-14T21:36:24.748523Z",
     "shell.execute_reply": "2022-11-14T21:36:24.747576Z"
    },
    "id": "rIvuRGh01THl",
    "outputId": "f13dcd9d-73dc-4086-95cd-e919547b3ac1",
    "papermill": {
     "duration": 70.592785,
     "end_time": "2022-11-14T21:36:24.767011",
     "exception": false,
     "start_time": "2022-11-14T21:35:14.174226",
     "status": "completed"
    },
    "tags": []
   },
   "outputs": [
    {
     "data": {
      "text/plain": [
       "ExtraTreesRegressor()"
      ]
     },
     "execution_count": 33,
     "metadata": {},
     "output_type": "execute_result"
    }
   ],
   "source": [
    "et = ExtraTreesRegressor()\n",
    "et.fit(X_train.values,y_train.values)"
   ]
  },
  {
   "cell_type": "code",
   "execution_count": 34,
   "id": "5660954c",
   "metadata": {
    "execution": {
     "iopub.execute_input": "2022-11-14T21:36:24.807884Z",
     "iopub.status.busy": "2022-11-14T21:36:24.806997Z",
     "iopub.status.idle": "2022-11-14T21:36:29.345046Z",
     "shell.execute_reply": "2022-11-14T21:36:29.344137Z"
    },
    "id": "LDmiNbzy1mRA",
    "outputId": "b9cd0cb6-7c9e-44f8-c0e8-31d066f3b02d",
    "papermill": {
     "duration": 4.561267,
     "end_time": "2022-11-14T21:36:29.347342",
     "exception": false,
     "start_time": "2022-11-14T21:36:24.786075",
     "status": "completed"
    },
    "tags": []
   },
   "outputs": [
    {
     "data": {
      "text/plain": [
       "0.6068499556893932"
      ]
     },
     "execution_count": 34,
     "metadata": {},
     "output_type": "execute_result"
    }
   ],
   "source": [
    "et.score(X_test.values,y_test.values)"
   ]
  },
  {
   "cell_type": "code",
   "execution_count": 35,
   "id": "f7233705",
   "metadata": {
    "execution": {
     "iopub.execute_input": "2022-11-14T21:36:29.388876Z",
     "iopub.status.busy": "2022-11-14T21:36:29.387883Z",
     "iopub.status.idle": "2022-11-14T21:36:33.795210Z",
     "shell.execute_reply": "2022-11-14T21:36:33.793312Z"
    },
    "id": "S9nulJSj1mto",
    "outputId": "de96e472-0780-4e46-8919-eb2d0d17e30a",
    "papermill": {
     "duration": 4.430375,
     "end_time": "2022-11-14T21:36:33.797426",
     "exception": false,
     "start_time": "2022-11-14T21:36:29.367051",
     "status": "completed"
    },
    "tags": []
   },
   "outputs": [
    {
     "name": "stdout",
     "output_type": "stream",
     "text": [
      "RMSE: 3155.3841738637193\n",
      "R2 Score: 0.6068499556893932\n"
     ]
    }
   ],
   "source": [
    "et_pred = et.predict(X_test.values)\n",
    "print('RMSE:',np.sqrt(MSE(y_test,et_pred)))\n",
    "print(\"R2 Score:\",r2_score(y_test,et_pred))"
   ]
  },
  {
   "cell_type": "markdown",
   "id": "084e8824",
   "metadata": {
    "id": "EzOKmmOi11M3",
    "papermill": {
     "duration": 0.018829,
     "end_time": "2022-11-14T21:36:33.837135",
     "exception": false,
     "start_time": "2022-11-14T21:36:33.818306",
     "status": "completed"
    },
    "tags": []
   },
   "source": [
    "## Bagging Regressor"
   ]
  },
  {
   "cell_type": "code",
   "execution_count": 36,
   "id": "4b585d33",
   "metadata": {
    "execution": {
     "iopub.execute_input": "2022-11-14T21:36:33.876220Z",
     "iopub.status.busy": "2022-11-14T21:36:33.875868Z",
     "iopub.status.idle": "2022-11-14T21:36:41.527619Z",
     "shell.execute_reply": "2022-11-14T21:36:41.526500Z"
    },
    "id": "nU_J1BfC1zwq",
    "outputId": "fed81b49-a395-4744-c266-bc3f918d7bc3",
    "papermill": {
     "duration": 7.673838,
     "end_time": "2022-11-14T21:36:41.529970",
     "exception": false,
     "start_time": "2022-11-14T21:36:33.856132",
     "status": "completed"
    },
    "tags": []
   },
   "outputs": [
    {
     "data": {
      "text/plain": [
       "BaggingRegressor()"
      ]
     },
     "execution_count": 36,
     "metadata": {},
     "output_type": "execute_result"
    }
   ],
   "source": [
    "bag = BaggingRegressor()\n",
    "bag.fit(X_train.values,y_train.values)"
   ]
  },
  {
   "cell_type": "code",
   "execution_count": 37,
   "id": "fc9c364d",
   "metadata": {
    "execution": {
     "iopub.execute_input": "2022-11-14T21:36:41.571229Z",
     "iopub.status.busy": "2022-11-14T21:36:41.570277Z",
     "iopub.status.idle": "2022-11-14T21:36:42.003226Z",
     "shell.execute_reply": "2022-11-14T21:36:42.002210Z"
    },
    "id": "3BSSviWx1yuy",
    "outputId": "718910fa-c3b0-44a5-86f8-1e160dd56cbc",
    "papermill": {
     "duration": 0.455504,
     "end_time": "2022-11-14T21:36:42.005516",
     "exception": false,
     "start_time": "2022-11-14T21:36:41.550012",
     "status": "completed"
    },
    "tags": []
   },
   "outputs": [
    {
     "data": {
      "text/plain": [
       "0.6256566210838141"
      ]
     },
     "execution_count": 37,
     "metadata": {},
     "output_type": "execute_result"
    }
   ],
   "source": [
    "bag.score(X_test.values,y_test.values)"
   ]
  },
  {
   "cell_type": "code",
   "execution_count": 38,
   "id": "3ddd4d72",
   "metadata": {
    "execution": {
     "iopub.execute_input": "2022-11-14T21:36:42.046257Z",
     "iopub.status.busy": "2022-11-14T21:36:42.045378Z",
     "iopub.status.idle": "2022-11-14T21:36:42.481757Z",
     "shell.execute_reply": "2022-11-14T21:36:42.480595Z"
    },
    "id": "0zh4nmNB1_uo",
    "outputId": "7560b790-0d0e-411f-e579-3078f0a878d6",
    "papermill": {
     "duration": 0.459092,
     "end_time": "2022-11-14T21:36:42.484321",
     "exception": false,
     "start_time": "2022-11-14T21:36:42.025229",
     "status": "completed"
    },
    "tags": []
   },
   "outputs": [
    {
     "name": "stdout",
     "output_type": "stream",
     "text": [
      "RMSE: 3078.9891359580724\n",
      "R2 Score: 0.6256566210838141\n"
     ]
    }
   ],
   "source": [
    "bag_pred = bag.predict(X_test.values)\n",
    "print('RMSE:',np.sqrt(MSE(y_test,bag_pred)))\n",
    "print(\"R2 Score:\",r2_score(y_test,bag_pred))"
   ]
  },
  {
   "cell_type": "markdown",
   "id": "99a2d4a3",
   "metadata": {
    "id": "55e0293b",
    "papermill": {
     "duration": 0.018768,
     "end_time": "2022-11-14T21:36:42.523117",
     "exception": false,
     "start_time": "2022-11-14T21:36:42.504349",
     "status": "completed"
    },
    "tags": []
   },
   "source": [
    "## Random Forest Regressor"
   ]
  },
  {
   "cell_type": "code",
   "execution_count": 39,
   "id": "38a31310",
   "metadata": {
    "execution": {
     "iopub.execute_input": "2022-11-14T21:36:42.562858Z",
     "iopub.status.busy": "2022-11-14T21:36:42.562009Z",
     "iopub.status.idle": "2022-11-14T21:37:59.541584Z",
     "shell.execute_reply": "2022-11-14T21:37:59.540578Z"
    },
    "id": "af07c238",
    "outputId": "0b369071-043c-4444-9c39-d6151fa55298",
    "papermill": {
     "duration": 77.01989,
     "end_time": "2022-11-14T21:37:59.562170",
     "exception": false,
     "start_time": "2022-11-14T21:36:42.542280",
     "status": "completed"
    },
    "tags": []
   },
   "outputs": [
    {
     "data": {
      "text/plain": [
       "RandomForestRegressor()"
      ]
     },
     "execution_count": 39,
     "metadata": {},
     "output_type": "execute_result"
    }
   ],
   "source": [
    "rfc = RandomForestRegressor()\n",
    "rfc.fit(X_train,y_train)"
   ]
  },
  {
   "cell_type": "code",
   "execution_count": 40,
   "id": "17e53441",
   "metadata": {
    "execution": {
     "iopub.execute_input": "2022-11-14T21:37:59.603664Z",
     "iopub.status.busy": "2022-11-14T21:37:59.603125Z",
     "iopub.status.idle": "2022-11-14T21:38:03.742026Z",
     "shell.execute_reply": "2022-11-14T21:38:03.741005Z"
    },
    "id": "b0285aaf",
    "outputId": "817c5f56-d0b7-4306-dd46-a7f38ed800ee",
    "papermill": {
     "duration": 4.162489,
     "end_time": "2022-11-14T21:38:03.744520",
     "exception": false,
     "start_time": "2022-11-14T21:37:59.582031",
     "status": "completed"
    },
    "tags": []
   },
   "outputs": [
    {
     "data": {
      "text/plain": [
       "0.6348589258703337"
      ]
     },
     "execution_count": 40,
     "metadata": {},
     "output_type": "execute_result"
    }
   ],
   "source": [
    "rfc.score(X_test,y_test)"
   ]
  },
  {
   "cell_type": "code",
   "execution_count": 41,
   "id": "244e9dfe",
   "metadata": {
    "execution": {
     "iopub.execute_input": "2022-11-14T21:38:03.787550Z",
     "iopub.status.busy": "2022-11-14T21:38:03.787199Z",
     "iopub.status.idle": "2022-11-14T21:38:08.058322Z",
     "shell.execute_reply": "2022-11-14T21:38:08.057356Z"
    },
    "id": "2721e29f",
    "outputId": "4bec842f-3169-4627-fae1-d480776484c5",
    "papermill": {
     "duration": 4.295286,
     "end_time": "2022-11-14T21:38:08.060772",
     "exception": false,
     "start_time": "2022-11-14T21:38:03.765486",
     "status": "completed"
    },
    "tags": []
   },
   "outputs": [
    {
     "name": "stdout",
     "output_type": "stream",
     "text": [
      "RMSE: 3040.9089923697697\n",
      "R2 Score: 0.6348589258703337\n"
     ]
    }
   ],
   "source": [
    "rfc_pred = rfc.predict(X_test)\n",
    "print('RMSE:',np.sqrt(MSE(y_test,rfc_pred)))\n",
    "print('R2 Score:',r2_score(y_test,rfc_pred))"
   ]
  },
  {
   "cell_type": "markdown",
   "id": "7c735b42",
   "metadata": {
    "id": "0434f9db",
    "papermill": {
     "duration": 0.019753,
     "end_time": "2022-11-14T21:38:08.101210",
     "exception": false,
     "start_time": "2022-11-14T21:38:08.081457",
     "status": "completed"
    },
    "tags": []
   },
   "source": [
    "## Decision Tree Regressor"
   ]
  },
  {
   "cell_type": "code",
   "execution_count": 42,
   "id": "bd6b057e",
   "metadata": {
    "execution": {
     "iopub.execute_input": "2022-11-14T21:38:08.144301Z",
     "iopub.status.busy": "2022-11-14T21:38:08.142354Z",
     "iopub.status.idle": "2022-11-14T21:38:09.235310Z",
     "shell.execute_reply": "2022-11-14T21:38:09.234158Z"
    },
    "id": "5d7d4430",
    "outputId": "0393977c-c0df-45d6-edb8-e71d55a59b39",
    "papermill": {
     "duration": 1.11747,
     "end_time": "2022-11-14T21:38:09.238085",
     "exception": false,
     "start_time": "2022-11-14T21:38:08.120615",
     "status": "completed"
    },
    "tags": []
   },
   "outputs": [
    {
     "data": {
      "text/plain": [
       "DecisionTreeRegressor()"
      ]
     },
     "execution_count": 42,
     "metadata": {},
     "output_type": "execute_result"
    }
   ],
   "source": [
    "dtree = DecisionTreeRegressor()\n",
    "dtree.fit(X_train,y_train)"
   ]
  },
  {
   "cell_type": "code",
   "execution_count": 43,
   "id": "91c396bd",
   "metadata": {
    "execution": {
     "iopub.execute_input": "2022-11-14T21:38:09.279770Z",
     "iopub.status.busy": "2022-11-14T21:38:09.279443Z",
     "iopub.status.idle": "2022-11-14T21:38:09.332614Z",
     "shell.execute_reply": "2022-11-14T21:38:09.331629Z"
    },
    "id": "d8445055",
    "outputId": "3f184696-5cdb-4279-a8be-d75ec7ec331d",
    "papermill": {
     "duration": 0.076578,
     "end_time": "2022-11-14T21:38:09.334981",
     "exception": false,
     "start_time": "2022-11-14T21:38:09.258403",
     "status": "completed"
    },
    "tags": []
   },
   "outputs": [
    {
     "data": {
      "text/plain": [
       "0.569428017740284"
      ]
     },
     "execution_count": 43,
     "metadata": {},
     "output_type": "execute_result"
    }
   ],
   "source": [
    "dtree.score(X_test,y_test)"
   ]
  },
  {
   "cell_type": "code",
   "execution_count": 44,
   "id": "83987bb9",
   "metadata": {
    "execution": {
     "iopub.execute_input": "2022-11-14T21:38:09.378820Z",
     "iopub.status.busy": "2022-11-14T21:38:09.377858Z",
     "iopub.status.idle": "2022-11-14T21:38:09.430212Z",
     "shell.execute_reply": "2022-11-14T21:38:09.428917Z"
    },
    "id": "6705d515",
    "outputId": "16e2e63a-1d23-44f7-db00-5f2c9887aad3",
    "papermill": {
     "duration": 0.076097,
     "end_time": "2022-11-14T21:38:09.432468",
     "exception": false,
     "start_time": "2022-11-14T21:38:09.356371",
     "status": "completed"
    },
    "tags": []
   },
   "outputs": [
    {
     "name": "stdout",
     "output_type": "stream",
     "text": [
      "RMSE: 3302.1436474575703\n",
      "R2 Score: 0.569428017740284\n"
     ]
    }
   ],
   "source": [
    "dtree_pred = dtree.predict(X_test)\n",
    "print('RMSE:',np.sqrt(MSE(y_test,dtree_pred)))\n",
    "print('R2 Score:',r2_score(y_test,dtree_pred))"
   ]
  },
  {
   "cell_type": "markdown",
   "id": "28f5e093",
   "metadata": {
    "id": "hbjT8xQU32pC",
    "papermill": {
     "duration": 0.019954,
     "end_time": "2022-11-14T21:38:09.472602",
     "exception": false,
     "start_time": "2022-11-14T21:38:09.452648",
     "status": "completed"
    },
    "tags": []
   },
   "source": [
    "## Gradient Boosting Regressor"
   ]
  },
  {
   "cell_type": "code",
   "execution_count": 45,
   "id": "043c01b4",
   "metadata": {
    "execution": {
     "iopub.execute_input": "2022-11-14T21:38:09.515043Z",
     "iopub.status.busy": "2022-11-14T21:38:09.514158Z",
     "iopub.status.idle": "2022-11-14T21:38:34.428465Z",
     "shell.execute_reply": "2022-11-14T21:38:34.427352Z"
    },
    "id": "7v5-vEI932UA",
    "outputId": "54151057-f625-4a7b-ba8f-3f98dc35a897",
    "papermill": {
     "duration": 24.937759,
     "end_time": "2022-11-14T21:38:34.430888",
     "exception": false,
     "start_time": "2022-11-14T21:38:09.493129",
     "status": "completed"
    },
    "tags": []
   },
   "outputs": [
    {
     "data": {
      "text/plain": [
       "GradientBoostingRegressor()"
      ]
     },
     "execution_count": 45,
     "metadata": {},
     "output_type": "execute_result"
    }
   ],
   "source": [
    "gbr = GradientBoostingRegressor()\n",
    "gbr.fit(X_train.values,y_train.values)"
   ]
  },
  {
   "cell_type": "code",
   "execution_count": 46,
   "id": "76a03aa8",
   "metadata": {
    "execution": {
     "iopub.execute_input": "2022-11-14T21:38:34.475530Z",
     "iopub.status.busy": "2022-11-14T21:38:34.474422Z",
     "iopub.status.idle": "2022-11-14T21:38:34.633789Z",
     "shell.execute_reply": "2022-11-14T21:38:34.632696Z"
    },
    "id": "_AFBhId832Ej",
    "outputId": "d8153d3b-f35e-49e8-e834-90d2f62c9e2d",
    "papermill": {
     "duration": 0.184074,
     "end_time": "2022-11-14T21:38:34.636291",
     "exception": false,
     "start_time": "2022-11-14T21:38:34.452217",
     "status": "completed"
    },
    "tags": []
   },
   "outputs": [
    {
     "data": {
      "text/plain": [
       "0.6489995043744484"
      ]
     },
     "execution_count": 46,
     "metadata": {},
     "output_type": "execute_result"
    }
   ],
   "source": [
    "gbr.score(X_test.values,y_test.values)"
   ]
  },
  {
   "cell_type": "code",
   "execution_count": 47,
   "id": "30a8ea91",
   "metadata": {
    "execution": {
     "iopub.execute_input": "2022-11-14T21:38:34.678947Z",
     "iopub.status.busy": "2022-11-14T21:38:34.677941Z",
     "iopub.status.idle": "2022-11-14T21:38:34.839202Z",
     "shell.execute_reply": "2022-11-14T21:38:34.837896Z"
    },
    "id": "ZjN0fBRY4BhS",
    "outputId": "39e1154b-84af-4812-94f4-1a0bb2b8205e",
    "papermill": {
     "duration": 0.184825,
     "end_time": "2022-11-14T21:38:34.841209",
     "exception": false,
     "start_time": "2022-11-14T21:38:34.656384",
     "status": "completed"
    },
    "tags": []
   },
   "outputs": [
    {
     "name": "stdout",
     "output_type": "stream",
     "text": [
      "RMSE: 2981.44596931474\n",
      "R2 Score: 0.6489995043744484\n"
     ]
    }
   ],
   "source": [
    "gbr_pred = gbr.predict(X_test)\n",
    "print('RMSE:',np.sqrt(MSE(y_test,gbr_pred)))\n",
    "print('R2 Score:',r2_score(y_test,gbr_pred))"
   ]
  },
  {
   "cell_type": "markdown",
   "id": "f1f35bd5",
   "metadata": {
    "id": "6fEXBe_o6KNV",
    "papermill": {
     "duration": 0.020046,
     "end_time": "2022-11-14T21:38:34.882222",
     "exception": false,
     "start_time": "2022-11-14T21:38:34.862176",
     "status": "completed"
    },
    "tags": []
   },
   "source": [
    "## Cat Boost Regressor"
   ]
  },
  {
   "cell_type": "code",
   "execution_count": 48,
   "id": "059ba35b",
   "metadata": {
    "execution": {
     "iopub.execute_input": "2022-11-14T21:38:34.924420Z",
     "iopub.status.busy": "2022-11-14T21:38:34.923513Z",
     "iopub.status.idle": "2022-11-14T21:39:35.310261Z",
     "shell.execute_reply": "2022-11-14T21:39:35.309440Z"
    },
    "id": "oFuAfraf6LMC",
    "papermill": {
     "duration": 60.409537,
     "end_time": "2022-11-14T21:39:35.312197",
     "exception": false,
     "start_time": "2022-11-14T21:38:34.902660",
     "status": "completed"
    },
    "tags": []
   },
   "outputs": [
    {
     "name": "stdout",
     "output_type": "stream",
     "text": [
      "Learning rate set to 0.107116\n",
      "0:\tlearn: 4743.0522203\ttotal: 137ms\tremaining: 2m 16s\n",
      "1:\tlearn: 4501.1106138\ttotal: 195ms\tremaining: 1m 37s\n",
      "2:\tlearn: 4321.6101433\ttotal: 256ms\tremaining: 1m 24s\n",
      "3:\tlearn: 4145.9074080\ttotal: 313ms\tremaining: 1m 17s\n",
      "4:\tlearn: 4008.4481560\ttotal: 371ms\tremaining: 1m 13s\n",
      "5:\tlearn: 3887.2753858\ttotal: 427ms\tremaining: 1m 10s\n",
      "6:\tlearn: 3783.6452664\ttotal: 488ms\tremaining: 1m 9s\n",
      "7:\tlearn: 3705.8112027\ttotal: 551ms\tremaining: 1m 8s\n",
      "8:\tlearn: 3607.8631720\ttotal: 604ms\tremaining: 1m 6s\n",
      "9:\tlearn: 3544.6323630\ttotal: 666ms\tremaining: 1m 5s\n",
      "10:\tlearn: 3496.2578249\ttotal: 722ms\tremaining: 1m 4s\n",
      "11:\tlearn: 3455.3412649\ttotal: 783ms\tremaining: 1m 4s\n",
      "12:\tlearn: 3420.2328938\ttotal: 835ms\tremaining: 1m 3s\n",
      "13:\tlearn: 3385.1770048\ttotal: 895ms\tremaining: 1m 3s\n",
      "14:\tlearn: 3360.7288019\ttotal: 944ms\tremaining: 1m 2s\n",
      "15:\tlearn: 3306.3892195\ttotal: 1000ms\tremaining: 1m 1s\n",
      "16:\tlearn: 3264.8940644\ttotal: 1.05s\tremaining: 1m\n",
      "17:\tlearn: 3245.6541377\ttotal: 1.11s\tremaining: 1m\n",
      "18:\tlearn: 3212.3609224\ttotal: 1.16s\tremaining: 1m\n",
      "19:\tlearn: 3197.3547158\ttotal: 1.23s\tremaining: 1m\n",
      "20:\tlearn: 3185.0830099\ttotal: 1.29s\tremaining: 1m\n",
      "21:\tlearn: 3175.2645678\ttotal: 1.35s\tremaining: 1m\n",
      "22:\tlearn: 3165.7607993\ttotal: 1.41s\tremaining: 59.9s\n",
      "23:\tlearn: 3142.5018461\ttotal: 1.46s\tremaining: 59.6s\n",
      "24:\tlearn: 3122.1738128\ttotal: 1.52s\tremaining: 59.3s\n",
      "25:\tlearn: 3106.0570778\ttotal: 1.59s\tremaining: 59.6s\n",
      "26:\tlearn: 3101.4545759\ttotal: 1.64s\tremaining: 59.1s\n",
      "27:\tlearn: 3095.0352349\ttotal: 1.7s\tremaining: 59.1s\n",
      "28:\tlearn: 3089.8108733\ttotal: 1.75s\tremaining: 58.8s\n",
      "29:\tlearn: 3085.6685733\ttotal: 1.81s\tremaining: 58.5s\n",
      "30:\tlearn: 3073.4901829\ttotal: 1.86s\tremaining: 58.1s\n",
      "31:\tlearn: 3068.3201199\ttotal: 1.92s\tremaining: 57.9s\n",
      "32:\tlearn: 3064.3403856\ttotal: 1.98s\tremaining: 57.9s\n",
      "33:\tlearn: 3054.4253721\ttotal: 2.03s\tremaining: 57.6s\n",
      "34:\tlearn: 3051.6110288\ttotal: 2.08s\tremaining: 57.4s\n",
      "35:\tlearn: 3048.4540395\ttotal: 2.13s\tremaining: 57s\n",
      "36:\tlearn: 3046.5436872\ttotal: 2.18s\tremaining: 56.8s\n",
      "37:\tlearn: 3039.1345858\ttotal: 2.23s\tremaining: 56.5s\n",
      "38:\tlearn: 3036.1577246\ttotal: 2.29s\tremaining: 56.4s\n",
      "39:\tlearn: 3034.5104750\ttotal: 2.34s\tremaining: 56.3s\n",
      "40:\tlearn: 3028.0611682\ttotal: 2.4s\tremaining: 56.1s\n",
      "41:\tlearn: 3026.1774380\ttotal: 2.45s\tremaining: 55.8s\n",
      "42:\tlearn: 3021.2458683\ttotal: 2.51s\tremaining: 55.9s\n",
      "43:\tlearn: 3020.0027940\ttotal: 2.62s\tremaining: 57s\n",
      "44:\tlearn: 3017.7099668\ttotal: 2.7s\tremaining: 57.2s\n",
      "45:\tlearn: 3016.5817937\ttotal: 2.83s\tremaining: 58.6s\n",
      "46:\tlearn: 3014.1776368\ttotal: 2.94s\tremaining: 59.6s\n",
      "47:\tlearn: 3013.0559244\ttotal: 3.01s\tremaining: 59.8s\n",
      "48:\tlearn: 3012.1549827\ttotal: 3.13s\tremaining: 1m\n",
      "49:\tlearn: 3007.9823626\ttotal: 3.23s\tremaining: 1m 1s\n",
      "50:\tlearn: 3004.5458828\ttotal: 3.29s\tremaining: 1m 1s\n",
      "51:\tlearn: 3002.0738258\ttotal: 3.34s\tremaining: 1m\n",
      "52:\tlearn: 3001.2621765\ttotal: 3.4s\tremaining: 1m\n",
      "53:\tlearn: 2999.8746160\ttotal: 3.45s\tremaining: 1m\n",
      "54:\tlearn: 2998.6684228\ttotal: 3.51s\tremaining: 1m\n",
      "55:\tlearn: 2996.0119010\ttotal: 3.56s\tremaining: 1m\n",
      "56:\tlearn: 2994.1271366\ttotal: 3.62s\tremaining: 59.9s\n",
      "57:\tlearn: 2992.8911587\ttotal: 3.68s\tremaining: 59.7s\n",
      "58:\tlearn: 2991.4598723\ttotal: 3.73s\tremaining: 59.5s\n",
      "59:\tlearn: 2990.6774501\ttotal: 3.78s\tremaining: 59.3s\n",
      "60:\tlearn: 2989.2529067\ttotal: 3.84s\tremaining: 59.2s\n",
      "61:\tlearn: 2988.6145870\ttotal: 3.9s\tremaining: 59s\n",
      "62:\tlearn: 2987.6568512\ttotal: 3.96s\tremaining: 58.8s\n",
      "63:\tlearn: 2986.4434640\ttotal: 4.01s\tremaining: 58.7s\n",
      "64:\tlearn: 2984.0092264\ttotal: 4.07s\tremaining: 58.5s\n",
      "65:\tlearn: 2982.9271603\ttotal: 4.12s\tremaining: 58.4s\n",
      "66:\tlearn: 2981.1365948\ttotal: 4.17s\tremaining: 58.1s\n",
      "67:\tlearn: 2980.4695724\ttotal: 4.22s\tremaining: 57.9s\n",
      "68:\tlearn: 2979.0908172\ttotal: 4.28s\tremaining: 57.7s\n",
      "69:\tlearn: 2978.3763299\ttotal: 4.32s\tremaining: 57.5s\n",
      "70:\tlearn: 2977.7780909\ttotal: 4.38s\tremaining: 57.3s\n",
      "71:\tlearn: 2976.7925929\ttotal: 4.44s\tremaining: 57.2s\n",
      "72:\tlearn: 2976.1594440\ttotal: 4.5s\tremaining: 57.2s\n",
      "73:\tlearn: 2975.6064774\ttotal: 4.56s\tremaining: 57.1s\n",
      "74:\tlearn: 2974.7968108\ttotal: 4.61s\tremaining: 56.9s\n",
      "75:\tlearn: 2974.2468546\ttotal: 4.67s\tremaining: 56.7s\n",
      "76:\tlearn: 2973.4903069\ttotal: 4.72s\tremaining: 56.6s\n",
      "77:\tlearn: 2972.7307544\ttotal: 4.78s\tremaining: 56.5s\n",
      "78:\tlearn: 2971.3635418\ttotal: 4.84s\tremaining: 56.4s\n",
      "79:\tlearn: 2969.7817826\ttotal: 4.89s\tremaining: 56.2s\n",
      "80:\tlearn: 2969.0450519\ttotal: 4.94s\tremaining: 56s\n",
      "81:\tlearn: 2968.3189551\ttotal: 5s\tremaining: 55.9s\n",
      "82:\tlearn: 2966.9715752\ttotal: 5.05s\tremaining: 55.8s\n",
      "83:\tlearn: 2966.5767778\ttotal: 5.1s\tremaining: 55.6s\n",
      "84:\tlearn: 2966.1783712\ttotal: 5.15s\tremaining: 55.4s\n",
      "85:\tlearn: 2965.5990723\ttotal: 5.2s\tremaining: 55.3s\n",
      "86:\tlearn: 2964.5875903\ttotal: 5.25s\tremaining: 55.1s\n",
      "87:\tlearn: 2964.1317024\ttotal: 5.31s\tremaining: 55s\n",
      "88:\tlearn: 2963.2700435\ttotal: 5.36s\tremaining: 54.9s\n",
      "89:\tlearn: 2962.8973796\ttotal: 5.41s\tremaining: 54.7s\n",
      "90:\tlearn: 2962.5995687\ttotal: 5.46s\tremaining: 54.6s\n",
      "91:\tlearn: 2961.9560817\ttotal: 5.52s\tremaining: 54.5s\n",
      "92:\tlearn: 2961.3838504\ttotal: 5.57s\tremaining: 54.3s\n",
      "93:\tlearn: 2960.5888161\ttotal: 5.63s\tremaining: 54.2s\n",
      "94:\tlearn: 2960.0181257\ttotal: 5.68s\tremaining: 54.1s\n",
      "95:\tlearn: 2959.4634955\ttotal: 5.73s\tremaining: 54s\n",
      "96:\tlearn: 2959.0244556\ttotal: 5.78s\tremaining: 53.8s\n",
      "97:\tlearn: 2958.5846632\ttotal: 5.83s\tremaining: 53.7s\n",
      "98:\tlearn: 2958.0272699\ttotal: 5.89s\tremaining: 53.6s\n",
      "99:\tlearn: 2957.7816127\ttotal: 5.94s\tremaining: 53.4s\n",
      "100:\tlearn: 2957.0404453\ttotal: 5.99s\tremaining: 53.3s\n",
      "101:\tlearn: 2956.3690058\ttotal: 6.05s\tremaining: 53.2s\n",
      "102:\tlearn: 2955.6410288\ttotal: 6.1s\tremaining: 53.1s\n",
      "103:\tlearn: 2955.2988843\ttotal: 6.15s\tremaining: 53s\n",
      "104:\tlearn: 2954.8339875\ttotal: 6.21s\tremaining: 52.9s\n",
      "105:\tlearn: 2954.5000315\ttotal: 6.26s\tremaining: 52.8s\n",
      "106:\tlearn: 2954.1107769\ttotal: 6.31s\tremaining: 52.7s\n",
      "107:\tlearn: 2953.4986697\ttotal: 6.36s\tremaining: 52.6s\n",
      "108:\tlearn: 2953.0515510\ttotal: 6.42s\tremaining: 52.5s\n",
      "109:\tlearn: 2952.3081043\ttotal: 6.48s\tremaining: 52.4s\n",
      "110:\tlearn: 2952.0780845\ttotal: 6.53s\tremaining: 52.3s\n",
      "111:\tlearn: 2951.4973248\ttotal: 6.59s\tremaining: 52.2s\n",
      "112:\tlearn: 2950.8917944\ttotal: 6.65s\tremaining: 52.2s\n",
      "113:\tlearn: 2950.4359220\ttotal: 6.71s\tremaining: 52.2s\n",
      "114:\tlearn: 2950.1117058\ttotal: 6.77s\tremaining: 52.1s\n",
      "115:\tlearn: 2949.7360447\ttotal: 6.83s\tremaining: 52.1s\n",
      "116:\tlearn: 2949.4434473\ttotal: 6.89s\tremaining: 52s\n",
      "117:\tlearn: 2949.1178228\ttotal: 6.95s\tremaining: 51.9s\n",
      "118:\tlearn: 2948.5449904\ttotal: 7s\tremaining: 51.8s\n",
      "119:\tlearn: 2948.3574135\ttotal: 7.05s\tremaining: 51.7s\n",
      "120:\tlearn: 2948.0866628\ttotal: 7.1s\tremaining: 51.6s\n",
      "121:\tlearn: 2947.6508041\ttotal: 7.16s\tremaining: 51.6s\n",
      "122:\tlearn: 2947.2956571\ttotal: 7.22s\tremaining: 51.5s\n",
      "123:\tlearn: 2946.9315952\ttotal: 7.27s\tremaining: 51.4s\n",
      "124:\tlearn: 2946.5430743\ttotal: 7.32s\tremaining: 51.2s\n",
      "125:\tlearn: 2946.1471474\ttotal: 7.38s\tremaining: 51.2s\n",
      "126:\tlearn: 2945.8688180\ttotal: 7.44s\tremaining: 51.1s\n",
      "127:\tlearn: 2945.5949133\ttotal: 7.49s\tremaining: 51s\n",
      "128:\tlearn: 2945.3966490\ttotal: 7.54s\tremaining: 50.9s\n",
      "129:\tlearn: 2945.0769885\ttotal: 7.6s\tremaining: 50.9s\n",
      "130:\tlearn: 2944.7982972\ttotal: 7.65s\tremaining: 50.7s\n",
      "131:\tlearn: 2944.5001877\ttotal: 7.71s\tremaining: 50.7s\n",
      "132:\tlearn: 2944.0302808\ttotal: 7.76s\tremaining: 50.6s\n",
      "133:\tlearn: 2943.5954101\ttotal: 7.82s\tremaining: 50.6s\n",
      "134:\tlearn: 2943.4076743\ttotal: 7.88s\tremaining: 50.5s\n",
      "135:\tlearn: 2943.1651425\ttotal: 7.92s\tremaining: 50.3s\n",
      "136:\tlearn: 2942.7863570\ttotal: 7.98s\tremaining: 50.3s\n",
      "137:\tlearn: 2942.4514603\ttotal: 8.04s\tremaining: 50.2s\n",
      "138:\tlearn: 2942.2621080\ttotal: 8.08s\tremaining: 50.1s\n",
      "139:\tlearn: 2941.8636656\ttotal: 8.14s\tremaining: 50s\n",
      "140:\tlearn: 2941.3505884\ttotal: 8.19s\tremaining: 49.9s\n",
      "141:\tlearn: 2940.8839944\ttotal: 8.25s\tremaining: 49.9s\n",
      "142:\tlearn: 2940.6605500\ttotal: 8.3s\tremaining: 49.7s\n",
      "143:\tlearn: 2940.3283519\ttotal: 8.35s\tremaining: 49.6s\n",
      "144:\tlearn: 2940.0749215\ttotal: 8.41s\tremaining: 49.6s\n",
      "145:\tlearn: 2939.6185614\ttotal: 8.46s\tremaining: 49.5s\n",
      "146:\tlearn: 2939.3969315\ttotal: 8.52s\tremaining: 49.4s\n",
      "147:\tlearn: 2939.2452804\ttotal: 8.57s\tremaining: 49.3s\n",
      "148:\tlearn: 2939.0686369\ttotal: 8.62s\tremaining: 49.3s\n",
      "149:\tlearn: 2938.7586010\ttotal: 8.69s\tremaining: 49.2s\n",
      "150:\tlearn: 2938.4645961\ttotal: 8.74s\tremaining: 49.2s\n",
      "151:\tlearn: 2937.9900220\ttotal: 8.81s\tremaining: 49.1s\n",
      "152:\tlearn: 2937.6544118\ttotal: 8.87s\tremaining: 49.1s\n",
      "153:\tlearn: 2937.4067965\ttotal: 8.93s\tremaining: 49s\n",
      "154:\tlearn: 2937.0447676\ttotal: 8.98s\tremaining: 49s\n",
      "155:\tlearn: 2936.5278465\ttotal: 9.04s\tremaining: 48.9s\n",
      "156:\tlearn: 2936.1511916\ttotal: 9.1s\tremaining: 48.8s\n",
      "157:\tlearn: 2936.0512830\ttotal: 9.15s\tremaining: 48.8s\n",
      "158:\tlearn: 2935.6549796\ttotal: 9.21s\tremaining: 48.7s\n",
      "159:\tlearn: 2935.4021375\ttotal: 9.27s\tremaining: 48.6s\n",
      "160:\tlearn: 2935.0215215\ttotal: 9.32s\tremaining: 48.6s\n",
      "161:\tlearn: 2934.8344791\ttotal: 9.38s\tremaining: 48.5s\n",
      "162:\tlearn: 2934.6902376\ttotal: 9.43s\tremaining: 48.4s\n",
      "163:\tlearn: 2934.5904121\ttotal: 9.48s\tremaining: 48.3s\n",
      "164:\tlearn: 2934.3588515\ttotal: 9.54s\tremaining: 48.3s\n",
      "165:\tlearn: 2934.1649900\ttotal: 9.59s\tremaining: 48.2s\n",
      "166:\tlearn: 2933.8285475\ttotal: 9.65s\tremaining: 48.1s\n",
      "167:\tlearn: 2933.7101335\ttotal: 9.7s\tremaining: 48s\n",
      "168:\tlearn: 2933.4429899\ttotal: 9.76s\tremaining: 48s\n",
      "169:\tlearn: 2933.2721041\ttotal: 9.82s\tremaining: 47.9s\n",
      "170:\tlearn: 2932.9891053\ttotal: 9.87s\tremaining: 47.9s\n",
      "171:\tlearn: 2932.7395186\ttotal: 9.93s\tremaining: 47.8s\n",
      "172:\tlearn: 2932.5130814\ttotal: 9.98s\tremaining: 47.7s\n",
      "173:\tlearn: 2932.1656937\ttotal: 10s\tremaining: 47.6s\n",
      "174:\tlearn: 2931.9443180\ttotal: 10.1s\tremaining: 47.6s\n",
      "175:\tlearn: 2931.6860528\ttotal: 10.1s\tremaining: 47.5s\n",
      "176:\tlearn: 2931.2551337\ttotal: 10.2s\tremaining: 47.4s\n",
      "177:\tlearn: 2931.1990050\ttotal: 10.3s\tremaining: 47.3s\n",
      "178:\tlearn: 2931.0913702\ttotal: 10.3s\tremaining: 47.3s\n",
      "179:\tlearn: 2930.8809485\ttotal: 10.4s\tremaining: 47.2s\n",
      "180:\tlearn: 2930.6998943\ttotal: 10.4s\tremaining: 47.1s\n",
      "181:\tlearn: 2930.3916898\ttotal: 10.5s\tremaining: 47.1s\n",
      "182:\tlearn: 2930.2580996\ttotal: 10.5s\tremaining: 47.1s\n",
      "183:\tlearn: 2929.9247727\ttotal: 10.6s\tremaining: 47s\n",
      "184:\tlearn: 2929.8060377\ttotal: 10.6s\tremaining: 46.9s\n",
      "185:\tlearn: 2929.7459325\ttotal: 10.7s\tremaining: 46.8s\n",
      "186:\tlearn: 2929.4887964\ttotal: 10.8s\tremaining: 46.7s\n",
      "187:\tlearn: 2929.1478604\ttotal: 10.8s\tremaining: 46.7s\n",
      "188:\tlearn: 2928.9287352\ttotal: 10.9s\tremaining: 46.6s\n",
      "189:\tlearn: 2928.7788688\ttotal: 10.9s\tremaining: 46.6s\n",
      "190:\tlearn: 2928.6475656\ttotal: 11s\tremaining: 46.5s\n",
      "191:\tlearn: 2928.4603130\ttotal: 11s\tremaining: 46.4s\n",
      "192:\tlearn: 2928.2896027\ttotal: 11.1s\tremaining: 46.3s\n",
      "193:\tlearn: 2927.9819405\ttotal: 11.1s\tremaining: 46.3s\n",
      "194:\tlearn: 2927.8337440\ttotal: 11.2s\tremaining: 46.2s\n",
      "195:\tlearn: 2927.5629066\ttotal: 11.2s\tremaining: 46.1s\n",
      "196:\tlearn: 2927.3577011\ttotal: 11.3s\tremaining: 46s\n",
      "197:\tlearn: 2927.2398765\ttotal: 11.3s\tremaining: 46s\n",
      "198:\tlearn: 2927.0409712\ttotal: 11.4s\tremaining: 45.9s\n",
      "199:\tlearn: 2926.8536489\ttotal: 11.5s\tremaining: 45.8s\n",
      "200:\tlearn: 2926.8064771\ttotal: 11.5s\tremaining: 45.7s\n",
      "201:\tlearn: 2926.6954577\ttotal: 11.6s\tremaining: 45.7s\n",
      "202:\tlearn: 2926.3983502\ttotal: 11.6s\tremaining: 45.6s\n",
      "203:\tlearn: 2926.2630610\ttotal: 11.7s\tremaining: 45.6s\n",
      "204:\tlearn: 2926.0368961\ttotal: 11.7s\tremaining: 45.5s\n",
      "205:\tlearn: 2925.8930096\ttotal: 11.8s\tremaining: 45.5s\n",
      "206:\tlearn: 2925.6216596\ttotal: 11.8s\tremaining: 45.4s\n",
      "207:\tlearn: 2925.5052825\ttotal: 11.9s\tremaining: 45.3s\n",
      "208:\tlearn: 2925.3945966\ttotal: 12s\tremaining: 45.3s\n",
      "209:\tlearn: 2925.2293422\ttotal: 12s\tremaining: 45.3s\n",
      "210:\tlearn: 2925.0802694\ttotal: 12.1s\tremaining: 45.2s\n",
      "211:\tlearn: 2924.9989729\ttotal: 12.1s\tremaining: 45.1s\n",
      "212:\tlearn: 2924.8314661\ttotal: 12.2s\tremaining: 45s\n",
      "213:\tlearn: 2924.7669204\ttotal: 12.3s\tremaining: 45s\n",
      "214:\tlearn: 2924.7243231\ttotal: 12.3s\tremaining: 44.9s\n",
      "215:\tlearn: 2924.6015379\ttotal: 12.4s\tremaining: 44.8s\n",
      "216:\tlearn: 2924.3666006\ttotal: 12.4s\tremaining: 44.8s\n",
      "217:\tlearn: 2924.0310107\ttotal: 12.5s\tremaining: 44.8s\n",
      "218:\tlearn: 2923.7960468\ttotal: 12.5s\tremaining: 44.7s\n",
      "219:\tlearn: 2923.6238898\ttotal: 12.6s\tremaining: 44.6s\n",
      "220:\tlearn: 2923.3133489\ttotal: 12.6s\tremaining: 44.6s\n",
      "221:\tlearn: 2923.1154728\ttotal: 12.7s\tremaining: 44.5s\n",
      "222:\tlearn: 2923.0756746\ttotal: 12.8s\tremaining: 44.4s\n",
      "223:\tlearn: 2922.9941267\ttotal: 12.8s\tremaining: 44.4s\n",
      "224:\tlearn: 2922.6926171\ttotal: 12.9s\tremaining: 44.3s\n",
      "225:\tlearn: 2922.6019992\ttotal: 12.9s\tremaining: 44.2s\n",
      "226:\tlearn: 2922.4628074\ttotal: 13s\tremaining: 44.2s\n",
      "227:\tlearn: 2922.0344213\ttotal: 13s\tremaining: 44.1s\n",
      "228:\tlearn: 2921.7721929\ttotal: 13.1s\tremaining: 44.1s\n",
      "229:\tlearn: 2921.6567055\ttotal: 13.1s\tremaining: 44s\n",
      "230:\tlearn: 2921.4875490\ttotal: 13.2s\tremaining: 43.9s\n",
      "231:\tlearn: 2921.0057338\ttotal: 13.3s\tremaining: 43.9s\n",
      "232:\tlearn: 2920.6515488\ttotal: 13.3s\tremaining: 43.8s\n",
      "233:\tlearn: 2920.4870351\ttotal: 13.4s\tremaining: 43.8s\n",
      "234:\tlearn: 2920.3588600\ttotal: 13.4s\tremaining: 43.7s\n",
      "235:\tlearn: 2920.1400804\ttotal: 13.6s\tremaining: 43.9s\n",
      "236:\tlearn: 2919.9297124\ttotal: 13.6s\tremaining: 43.9s\n",
      "237:\tlearn: 2919.7358304\ttotal: 13.8s\tremaining: 44.1s\n",
      "238:\tlearn: 2919.5709935\ttotal: 13.9s\tremaining: 44.2s\n",
      "239:\tlearn: 2919.1915078\ttotal: 14s\tremaining: 44.4s\n",
      "240:\tlearn: 2919.1146259\ttotal: 14.1s\tremaining: 44.4s\n",
      "241:\tlearn: 2918.8125161\ttotal: 14.2s\tremaining: 44.3s\n",
      "242:\tlearn: 2918.6758962\ttotal: 14.2s\tremaining: 44.3s\n",
      "243:\tlearn: 2918.5533361\ttotal: 14.3s\tremaining: 44.2s\n",
      "244:\tlearn: 2918.4144335\ttotal: 14.3s\tremaining: 44.2s\n",
      "245:\tlearn: 2918.3070935\ttotal: 14.4s\tremaining: 44.1s\n",
      "246:\tlearn: 2918.1309925\ttotal: 14.5s\tremaining: 44.2s\n",
      "247:\tlearn: 2917.9176712\ttotal: 14.6s\tremaining: 44.1s\n",
      "248:\tlearn: 2917.8351627\ttotal: 14.6s\tremaining: 44.1s\n",
      "249:\tlearn: 2917.6562559\ttotal: 14.7s\tremaining: 44s\n",
      "250:\tlearn: 2917.5374005\ttotal: 14.7s\tremaining: 43.9s\n",
      "251:\tlearn: 2917.4073124\ttotal: 14.8s\tremaining: 43.9s\n",
      "252:\tlearn: 2917.2493714\ttotal: 14.8s\tremaining: 43.8s\n",
      "253:\tlearn: 2917.1155469\ttotal: 14.9s\tremaining: 43.7s\n",
      "254:\tlearn: 2916.9854308\ttotal: 14.9s\tremaining: 43.6s\n",
      "255:\tlearn: 2916.7811605\ttotal: 15s\tremaining: 43.6s\n",
      "256:\tlearn: 2916.7098648\ttotal: 15s\tremaining: 43.5s\n",
      "257:\tlearn: 2916.5959031\ttotal: 15.1s\tremaining: 43.4s\n",
      "258:\tlearn: 2916.4053981\ttotal: 15.2s\tremaining: 43.4s\n",
      "259:\tlearn: 2916.1988693\ttotal: 15.2s\tremaining: 43.3s\n",
      "260:\tlearn: 2915.8077065\ttotal: 15.3s\tremaining: 43.2s\n",
      "261:\tlearn: 2915.5169212\ttotal: 15.3s\tremaining: 43.2s\n",
      "262:\tlearn: 2915.3861236\ttotal: 15.4s\tremaining: 43.1s\n",
      "263:\tlearn: 2915.2887765\ttotal: 15.4s\tremaining: 43s\n",
      "264:\tlearn: 2915.1941145\ttotal: 15.5s\tremaining: 43s\n",
      "265:\tlearn: 2914.9434335\ttotal: 15.6s\tremaining: 42.9s\n",
      "266:\tlearn: 2914.7908782\ttotal: 15.6s\tremaining: 42.8s\n",
      "267:\tlearn: 2914.2966311\ttotal: 15.7s\tremaining: 42.8s\n",
      "268:\tlearn: 2914.0695752\ttotal: 15.7s\tremaining: 42.7s\n",
      "269:\tlearn: 2913.8287094\ttotal: 15.8s\tremaining: 42.7s\n",
      "270:\tlearn: 2913.7370429\ttotal: 15.8s\tremaining: 42.6s\n",
      "271:\tlearn: 2913.6309595\ttotal: 15.9s\tremaining: 42.5s\n",
      "272:\tlearn: 2913.4686728\ttotal: 15.9s\tremaining: 42.5s\n",
      "273:\tlearn: 2913.3536408\ttotal: 16s\tremaining: 42.4s\n",
      "274:\tlearn: 2913.0884875\ttotal: 16.1s\tremaining: 42.3s\n",
      "275:\tlearn: 2913.0030121\ttotal: 16.1s\tremaining: 42.3s\n",
      "276:\tlearn: 2912.8556675\ttotal: 16.2s\tremaining: 42.2s\n",
      "277:\tlearn: 2912.7401894\ttotal: 16.2s\tremaining: 42.1s\n",
      "278:\tlearn: 2912.6486450\ttotal: 16.3s\tremaining: 42.1s\n",
      "279:\tlearn: 2912.5069241\ttotal: 16.3s\tremaining: 42s\n",
      "280:\tlearn: 2912.4807225\ttotal: 16.4s\tremaining: 41.9s\n",
      "281:\tlearn: 2912.3176407\ttotal: 16.4s\tremaining: 41.8s\n",
      "282:\tlearn: 2912.1752440\ttotal: 16.5s\tremaining: 41.8s\n",
      "283:\tlearn: 2912.0301787\ttotal: 16.6s\tremaining: 41.8s\n",
      "284:\tlearn: 2911.7799001\ttotal: 16.6s\tremaining: 41.7s\n",
      "285:\tlearn: 2911.6848820\ttotal: 16.7s\tremaining: 41.6s\n",
      "286:\tlearn: 2911.5700388\ttotal: 16.7s\tremaining: 41.6s\n",
      "287:\tlearn: 2911.4428515\ttotal: 16.8s\tremaining: 41.5s\n",
      "288:\tlearn: 2911.3186030\ttotal: 16.8s\tremaining: 41.4s\n",
      "289:\tlearn: 2911.2272415\ttotal: 16.9s\tremaining: 41.3s\n",
      "290:\tlearn: 2911.1573971\ttotal: 16.9s\tremaining: 41.3s\n",
      "291:\tlearn: 2911.0533937\ttotal: 17s\tremaining: 41.2s\n",
      "292:\tlearn: 2910.9944760\ttotal: 17s\tremaining: 41.1s\n",
      "293:\tlearn: 2910.8729197\ttotal: 17.1s\tremaining: 41.1s\n",
      "294:\tlearn: 2910.7644967\ttotal: 17.2s\tremaining: 41s\n",
      "295:\tlearn: 2910.6915868\ttotal: 17.2s\tremaining: 41s\n",
      "296:\tlearn: 2910.5469658\ttotal: 17.3s\tremaining: 40.9s\n",
      "297:\tlearn: 2910.4516176\ttotal: 17.3s\tremaining: 40.8s\n",
      "298:\tlearn: 2910.4247910\ttotal: 17.4s\tremaining: 40.8s\n",
      "299:\tlearn: 2910.2509188\ttotal: 17.4s\tremaining: 40.7s\n",
      "300:\tlearn: 2910.1627918\ttotal: 17.5s\tremaining: 40.6s\n",
      "301:\tlearn: 2910.1346270\ttotal: 17.5s\tremaining: 40.5s\n",
      "302:\tlearn: 2909.9048568\ttotal: 17.6s\tremaining: 40.5s\n",
      "303:\tlearn: 2909.7612190\ttotal: 17.6s\tremaining: 40.4s\n",
      "304:\tlearn: 2909.6705057\ttotal: 17.7s\tremaining: 40.3s\n",
      "305:\tlearn: 2909.5552063\ttotal: 17.8s\tremaining: 40.3s\n",
      "306:\tlearn: 2909.4795061\ttotal: 17.8s\tremaining: 40.2s\n",
      "307:\tlearn: 2909.3190426\ttotal: 17.9s\tremaining: 40.1s\n",
      "308:\tlearn: 2909.1981650\ttotal: 17.9s\tremaining: 40s\n",
      "309:\tlearn: 2908.8938176\ttotal: 18s\tremaining: 40s\n",
      "310:\tlearn: 2908.5429038\ttotal: 18s\tremaining: 39.9s\n",
      "311:\tlearn: 2908.2131469\ttotal: 18.1s\tremaining: 39.9s\n",
      "312:\tlearn: 2908.1539891\ttotal: 18.1s\tremaining: 39.8s\n",
      "313:\tlearn: 2908.0798439\ttotal: 18.2s\tremaining: 39.8s\n",
      "314:\tlearn: 2907.9389748\ttotal: 18.3s\tremaining: 39.7s\n",
      "315:\tlearn: 2907.8205944\ttotal: 18.3s\tremaining: 39.7s\n",
      "316:\tlearn: 2907.7439559\ttotal: 18.4s\tremaining: 39.7s\n",
      "317:\tlearn: 2907.6363512\ttotal: 18.5s\tremaining: 39.7s\n",
      "318:\tlearn: 2907.5018576\ttotal: 18.6s\tremaining: 39.8s\n",
      "319:\tlearn: 2907.3933506\ttotal: 18.8s\tremaining: 39.9s\n",
      "320:\tlearn: 2907.3075760\ttotal: 18.9s\tremaining: 39.9s\n",
      "321:\tlearn: 2906.9959645\ttotal: 19s\tremaining: 40s\n",
      "322:\tlearn: 2906.7858004\ttotal: 19.1s\tremaining: 40.1s\n",
      "323:\tlearn: 2906.6442682\ttotal: 19.3s\tremaining: 40.2s\n",
      "324:\tlearn: 2906.4473049\ttotal: 19.4s\tremaining: 40.3s\n",
      "325:\tlearn: 2906.1864456\ttotal: 19.5s\tremaining: 40.4s\n",
      "326:\tlearn: 2906.1242599\ttotal: 19.6s\tremaining: 40.4s\n",
      "327:\tlearn: 2905.8926683\ttotal: 19.7s\tremaining: 40.3s\n",
      "328:\tlearn: 2905.7874389\ttotal: 19.7s\tremaining: 40.3s\n",
      "329:\tlearn: 2905.6843897\ttotal: 19.8s\tremaining: 40.2s\n",
      "330:\tlearn: 2905.5360237\ttotal: 19.9s\tremaining: 40.1s\n",
      "331:\tlearn: 2905.4296640\ttotal: 19.9s\tremaining: 40.1s\n",
      "332:\tlearn: 2905.3258650\ttotal: 20s\tremaining: 40s\n",
      "333:\tlearn: 2905.2752053\ttotal: 20s\tremaining: 39.9s\n",
      "334:\tlearn: 2905.2000264\ttotal: 20.1s\tremaining: 39.9s\n",
      "335:\tlearn: 2904.9686711\ttotal: 20.1s\tremaining: 39.8s\n",
      "336:\tlearn: 2904.8339781\ttotal: 20.2s\tremaining: 39.8s\n",
      "337:\tlearn: 2904.7255288\ttotal: 20.3s\tremaining: 39.7s\n",
      "338:\tlearn: 2904.4335089\ttotal: 20.3s\tremaining: 39.6s\n",
      "339:\tlearn: 2904.2111312\ttotal: 20.4s\tremaining: 39.6s\n",
      "340:\tlearn: 2904.1604765\ttotal: 20.4s\tremaining: 39.5s\n",
      "341:\tlearn: 2904.0604483\ttotal: 20.5s\tremaining: 39.4s\n",
      "342:\tlearn: 2903.8652758\ttotal: 20.5s\tremaining: 39.4s\n",
      "343:\tlearn: 2903.7845029\ttotal: 20.6s\tremaining: 39.3s\n",
      "344:\tlearn: 2903.7124020\ttotal: 20.7s\tremaining: 39.2s\n",
      "345:\tlearn: 2903.5643647\ttotal: 20.7s\tremaining: 39.2s\n",
      "346:\tlearn: 2903.3294901\ttotal: 20.8s\tremaining: 39.1s\n",
      "347:\tlearn: 2902.9905436\ttotal: 20.8s\tremaining: 39s\n",
      "348:\tlearn: 2902.8830208\ttotal: 20.9s\tremaining: 39s\n",
      "349:\tlearn: 2902.7900792\ttotal: 20.9s\tremaining: 38.9s\n",
      "350:\tlearn: 2902.7421554\ttotal: 21s\tremaining: 38.8s\n",
      "351:\tlearn: 2902.5875817\ttotal: 21.1s\tremaining: 38.8s\n",
      "352:\tlearn: 2902.5246664\ttotal: 21.1s\tremaining: 38.7s\n",
      "353:\tlearn: 2902.4642916\ttotal: 21.2s\tremaining: 38.6s\n",
      "354:\tlearn: 2902.2566321\ttotal: 21.2s\tremaining: 38.6s\n",
      "355:\tlearn: 2902.1589421\ttotal: 21.3s\tremaining: 38.5s\n",
      "356:\tlearn: 2902.0709290\ttotal: 21.3s\tremaining: 38.4s\n",
      "357:\tlearn: 2901.9794246\ttotal: 21.4s\tremaining: 38.3s\n",
      "358:\tlearn: 2901.8160148\ttotal: 21.4s\tremaining: 38.3s\n",
      "359:\tlearn: 2901.5112228\ttotal: 21.5s\tremaining: 38.2s\n",
      "360:\tlearn: 2901.3283902\ttotal: 21.6s\tremaining: 38.2s\n",
      "361:\tlearn: 2901.1148321\ttotal: 21.6s\tremaining: 38.1s\n",
      "362:\tlearn: 2900.9252887\ttotal: 21.7s\tremaining: 38s\n",
      "363:\tlearn: 2900.7423498\ttotal: 21.7s\tremaining: 38s\n",
      "364:\tlearn: 2900.5508402\ttotal: 21.8s\tremaining: 37.9s\n",
      "365:\tlearn: 2900.3450955\ttotal: 21.9s\tremaining: 37.9s\n",
      "366:\tlearn: 2900.2770660\ttotal: 21.9s\tremaining: 37.8s\n",
      "367:\tlearn: 2900.1285102\ttotal: 22s\tremaining: 37.7s\n",
      "368:\tlearn: 2900.0388408\ttotal: 22s\tremaining: 37.7s\n",
      "369:\tlearn: 2899.9606988\ttotal: 22.1s\tremaining: 37.6s\n",
      "370:\tlearn: 2899.7837879\ttotal: 22.1s\tremaining: 37.5s\n",
      "371:\tlearn: 2899.7059817\ttotal: 22.2s\tremaining: 37.4s\n",
      "372:\tlearn: 2899.6137657\ttotal: 22.2s\tremaining: 37.4s\n",
      "373:\tlearn: 2899.4795602\ttotal: 22.3s\tremaining: 37.3s\n",
      "374:\tlearn: 2899.4605444\ttotal: 22.3s\tremaining: 37.2s\n",
      "375:\tlearn: 2899.3379128\ttotal: 22.4s\tremaining: 37.2s\n",
      "376:\tlearn: 2899.2455024\ttotal: 22.4s\tremaining: 37.1s\n",
      "377:\tlearn: 2899.1440937\ttotal: 22.5s\tremaining: 37s\n",
      "378:\tlearn: 2898.9379074\ttotal: 22.6s\tremaining: 37s\n",
      "379:\tlearn: 2898.8022590\ttotal: 22.6s\tremaining: 36.9s\n",
      "380:\tlearn: 2898.6478816\ttotal: 22.7s\tremaining: 36.8s\n",
      "381:\tlearn: 2898.5764447\ttotal: 22.7s\tremaining: 36.8s\n",
      "382:\tlearn: 2898.5603814\ttotal: 22.8s\tremaining: 36.7s\n",
      "383:\tlearn: 2898.4862152\ttotal: 22.8s\tremaining: 36.6s\n",
      "384:\tlearn: 2898.3649730\ttotal: 22.9s\tremaining: 36.6s\n",
      "385:\tlearn: 2898.2838167\ttotal: 22.9s\tremaining: 36.5s\n",
      "386:\tlearn: 2898.2070017\ttotal: 23s\tremaining: 36.4s\n",
      "387:\tlearn: 2898.0742007\ttotal: 23.1s\tremaining: 36.4s\n",
      "388:\tlearn: 2897.9146685\ttotal: 23.1s\tremaining: 36.3s\n",
      "389:\tlearn: 2897.8888343\ttotal: 23.2s\tremaining: 36.2s\n",
      "390:\tlearn: 2897.6479734\ttotal: 23.2s\tremaining: 36.2s\n",
      "391:\tlearn: 2897.4763846\ttotal: 23.3s\tremaining: 36.1s\n",
      "392:\tlearn: 2897.3192841\ttotal: 23.3s\tremaining: 36s\n",
      "393:\tlearn: 2897.2151578\ttotal: 23.4s\tremaining: 36s\n",
      "394:\tlearn: 2897.1092027\ttotal: 23.5s\tremaining: 35.9s\n",
      "395:\tlearn: 2896.8227742\ttotal: 23.5s\tremaining: 35.9s\n",
      "396:\tlearn: 2896.5786040\ttotal: 23.6s\tremaining: 35.8s\n",
      "397:\tlearn: 2896.5063402\ttotal: 23.6s\tremaining: 35.7s\n",
      "398:\tlearn: 2896.3257197\ttotal: 23.7s\tremaining: 35.7s\n",
      "399:\tlearn: 2896.1867719\ttotal: 23.7s\tremaining: 35.6s\n",
      "400:\tlearn: 2896.0981368\ttotal: 23.8s\tremaining: 35.5s\n",
      "401:\tlearn: 2895.9335515\ttotal: 23.8s\tremaining: 35.5s\n",
      "402:\tlearn: 2895.8762399\ttotal: 23.9s\tremaining: 35.4s\n",
      "403:\tlearn: 2895.8029335\ttotal: 24s\tremaining: 35.4s\n",
      "404:\tlearn: 2895.7458497\ttotal: 24s\tremaining: 35.3s\n",
      "405:\tlearn: 2895.6387325\ttotal: 24.1s\tremaining: 35.2s\n",
      "406:\tlearn: 2895.5562760\ttotal: 24.1s\tremaining: 35.2s\n",
      "407:\tlearn: 2895.4978627\ttotal: 24.2s\tremaining: 35.1s\n",
      "408:\tlearn: 2895.4539159\ttotal: 24.2s\tremaining: 35s\n",
      "409:\tlearn: 2895.3781681\ttotal: 24.3s\tremaining: 34.9s\n",
      "410:\tlearn: 2895.3127467\ttotal: 24.3s\tremaining: 34.9s\n",
      "411:\tlearn: 2895.2432493\ttotal: 24.4s\tremaining: 34.8s\n",
      "412:\tlearn: 2895.1606473\ttotal: 24.5s\tremaining: 34.9s\n",
      "413:\tlearn: 2895.0199015\ttotal: 24.7s\tremaining: 34.9s\n",
      "414:\tlearn: 2894.8425564\ttotal: 24.8s\tremaining: 35s\n",
      "415:\tlearn: 2894.7597413\ttotal: 24.9s\tremaining: 34.9s\n",
      "416:\tlearn: 2894.6057125\ttotal: 25s\tremaining: 34.9s\n",
      "417:\tlearn: 2894.5440790\ttotal: 25.1s\tremaining: 34.9s\n",
      "418:\tlearn: 2894.5074402\ttotal: 25.1s\tremaining: 34.9s\n",
      "419:\tlearn: 2894.4599253\ttotal: 25.2s\tremaining: 34.8s\n",
      "420:\tlearn: 2894.3807369\ttotal: 25.2s\tremaining: 34.7s\n",
      "421:\tlearn: 2894.2428918\ttotal: 25.3s\tremaining: 34.7s\n",
      "422:\tlearn: 2894.1743642\ttotal: 25.4s\tremaining: 34.6s\n",
      "423:\tlearn: 2894.0835582\ttotal: 25.4s\tremaining: 34.5s\n",
      "424:\tlearn: 2894.0268638\ttotal: 25.5s\tremaining: 34.5s\n",
      "425:\tlearn: 2893.9580336\ttotal: 25.5s\tremaining: 34.4s\n",
      "426:\tlearn: 2893.8871616\ttotal: 25.6s\tremaining: 34.3s\n",
      "427:\tlearn: 2893.8458475\ttotal: 25.6s\tremaining: 34.3s\n",
      "428:\tlearn: 2893.6455404\ttotal: 25.7s\tremaining: 34.2s\n",
      "429:\tlearn: 2893.4908069\ttotal: 25.8s\tremaining: 34.1s\n",
      "430:\tlearn: 2893.4283393\ttotal: 25.8s\tremaining: 34.1s\n",
      "431:\tlearn: 2893.3723082\ttotal: 25.9s\tremaining: 34s\n",
      "432:\tlearn: 2893.2920082\ttotal: 25.9s\tremaining: 33.9s\n",
      "433:\tlearn: 2893.1977861\ttotal: 26s\tremaining: 33.9s\n",
      "434:\tlearn: 2893.1375469\ttotal: 26s\tremaining: 33.8s\n",
      "435:\tlearn: 2893.0731859\ttotal: 26.1s\tremaining: 33.7s\n",
      "436:\tlearn: 2892.9623008\ttotal: 26.1s\tremaining: 33.7s\n",
      "437:\tlearn: 2892.8985478\ttotal: 26.2s\tremaining: 33.6s\n",
      "438:\tlearn: 2892.7568135\ttotal: 26.3s\tremaining: 33.6s\n",
      "439:\tlearn: 2892.7398597\ttotal: 26.3s\tremaining: 33.5s\n",
      "440:\tlearn: 2892.6043207\ttotal: 26.4s\tremaining: 33.4s\n",
      "441:\tlearn: 2892.3929408\ttotal: 26.4s\tremaining: 33.4s\n",
      "442:\tlearn: 2892.2775764\ttotal: 26.5s\tremaining: 33.3s\n",
      "443:\tlearn: 2891.9992464\ttotal: 26.5s\tremaining: 33.2s\n",
      "444:\tlearn: 2891.9258611\ttotal: 26.6s\tremaining: 33.2s\n",
      "445:\tlearn: 2891.8142924\ttotal: 26.7s\tremaining: 33.1s\n",
      "446:\tlearn: 2891.7152847\ttotal: 26.7s\tremaining: 33.1s\n",
      "447:\tlearn: 2891.6433181\ttotal: 26.8s\tremaining: 33s\n",
      "448:\tlearn: 2891.5214330\ttotal: 26.8s\tremaining: 32.9s\n",
      "449:\tlearn: 2891.4008553\ttotal: 26.9s\tremaining: 32.9s\n",
      "450:\tlearn: 2891.2616596\ttotal: 26.9s\tremaining: 32.8s\n",
      "451:\tlearn: 2891.2145190\ttotal: 27s\tremaining: 32.7s\n",
      "452:\tlearn: 2891.0262706\ttotal: 27.1s\tremaining: 32.7s\n",
      "453:\tlearn: 2890.9913366\ttotal: 27.1s\tremaining: 32.6s\n",
      "454:\tlearn: 2890.8523881\ttotal: 27.2s\tremaining: 32.5s\n",
      "455:\tlearn: 2890.7470263\ttotal: 27.2s\tremaining: 32.5s\n",
      "456:\tlearn: 2890.6873986\ttotal: 27.3s\tremaining: 32.4s\n",
      "457:\tlearn: 2890.5949346\ttotal: 27.3s\tremaining: 32.3s\n",
      "458:\tlearn: 2890.5527861\ttotal: 27.4s\tremaining: 32.3s\n",
      "459:\tlearn: 2890.4361211\ttotal: 27.4s\tremaining: 32.2s\n",
      "460:\tlearn: 2890.2863190\ttotal: 27.5s\tremaining: 32.2s\n",
      "461:\tlearn: 2890.2283084\ttotal: 27.6s\tremaining: 32.1s\n",
      "462:\tlearn: 2890.0564179\ttotal: 27.6s\tremaining: 32s\n",
      "463:\tlearn: 2889.9491964\ttotal: 27.7s\tremaining: 32s\n",
      "464:\tlearn: 2889.8804624\ttotal: 27.7s\tremaining: 31.9s\n",
      "465:\tlearn: 2889.8197313\ttotal: 27.8s\tremaining: 31.8s\n",
      "466:\tlearn: 2889.6586554\ttotal: 27.8s\tremaining: 31.8s\n",
      "467:\tlearn: 2889.5666229\ttotal: 27.9s\tremaining: 31.7s\n",
      "468:\tlearn: 2889.5146855\ttotal: 27.9s\tremaining: 31.6s\n",
      "469:\tlearn: 2889.4149004\ttotal: 28s\tremaining: 31.6s\n",
      "470:\tlearn: 2889.3465037\ttotal: 28.1s\tremaining: 31.5s\n",
      "471:\tlearn: 2889.3010780\ttotal: 28.1s\tremaining: 31.4s\n",
      "472:\tlearn: 2889.2356373\ttotal: 28.2s\tremaining: 31.4s\n",
      "473:\tlearn: 2889.1339885\ttotal: 28.2s\tremaining: 31.3s\n",
      "474:\tlearn: 2888.9899199\ttotal: 28.3s\tremaining: 31.3s\n",
      "475:\tlearn: 2888.9198453\ttotal: 28.3s\tremaining: 31.2s\n",
      "476:\tlearn: 2888.8873184\ttotal: 28.4s\tremaining: 31.1s\n",
      "477:\tlearn: 2888.8125970\ttotal: 28.4s\tremaining: 31.1s\n",
      "478:\tlearn: 2888.7289582\ttotal: 28.5s\tremaining: 31s\n",
      "479:\tlearn: 2888.6695738\ttotal: 28.6s\tremaining: 30.9s\n",
      "480:\tlearn: 2888.5690422\ttotal: 28.6s\tremaining: 30.9s\n",
      "481:\tlearn: 2888.5096201\ttotal: 28.7s\tremaining: 30.8s\n",
      "482:\tlearn: 2888.4237809\ttotal: 28.7s\tremaining: 30.7s\n",
      "483:\tlearn: 2888.2219469\ttotal: 28.8s\tremaining: 30.7s\n",
      "484:\tlearn: 2888.1143537\ttotal: 28.8s\tremaining: 30.6s\n",
      "485:\tlearn: 2887.9342132\ttotal: 28.9s\tremaining: 30.6s\n",
      "486:\tlearn: 2887.8397417\ttotal: 29s\tremaining: 30.5s\n",
      "487:\tlearn: 2887.7514281\ttotal: 29s\tremaining: 30.5s\n",
      "488:\tlearn: 2887.5562608\ttotal: 29.1s\tremaining: 30.4s\n",
      "489:\tlearn: 2887.5123244\ttotal: 29.1s\tremaining: 30.3s\n",
      "490:\tlearn: 2887.4316704\ttotal: 29.2s\tremaining: 30.3s\n",
      "491:\tlearn: 2887.2938398\ttotal: 29.3s\tremaining: 30.2s\n",
      "492:\tlearn: 2887.2294556\ttotal: 29.3s\tremaining: 30.1s\n",
      "493:\tlearn: 2887.0777587\ttotal: 29.4s\tremaining: 30.1s\n",
      "494:\tlearn: 2887.0203666\ttotal: 29.4s\tremaining: 30s\n",
      "495:\tlearn: 2886.9438624\ttotal: 29.5s\tremaining: 30s\n",
      "496:\tlearn: 2886.7035964\ttotal: 29.6s\tremaining: 29.9s\n",
      "497:\tlearn: 2886.6499115\ttotal: 29.6s\tremaining: 29.9s\n",
      "498:\tlearn: 2886.6081773\ttotal: 29.7s\tremaining: 29.8s\n",
      "499:\tlearn: 2886.5524216\ttotal: 29.8s\tremaining: 29.8s\n",
      "500:\tlearn: 2886.4892619\ttotal: 29.8s\tremaining: 29.7s\n",
      "501:\tlearn: 2886.3945126\ttotal: 29.9s\tremaining: 29.6s\n",
      "502:\tlearn: 2886.3485490\ttotal: 29.9s\tremaining: 29.6s\n",
      "503:\tlearn: 2886.2670899\ttotal: 30s\tremaining: 29.5s\n",
      "504:\tlearn: 2886.2093444\ttotal: 30s\tremaining: 29.4s\n",
      "505:\tlearn: 2885.8625922\ttotal: 30.1s\tremaining: 29.4s\n",
      "506:\tlearn: 2885.8077844\ttotal: 30.2s\tremaining: 29.3s\n",
      "507:\tlearn: 2885.6886623\ttotal: 30.2s\tremaining: 29.3s\n",
      "508:\tlearn: 2885.6462702\ttotal: 30.3s\tremaining: 29.2s\n",
      "509:\tlearn: 2885.5531906\ttotal: 30.3s\tremaining: 29.1s\n",
      "510:\tlearn: 2885.4929312\ttotal: 30.4s\tremaining: 29.1s\n",
      "511:\tlearn: 2885.4089954\ttotal: 30.4s\tremaining: 29s\n",
      "512:\tlearn: 2885.3218262\ttotal: 30.5s\tremaining: 28.9s\n",
      "513:\tlearn: 2885.2633115\ttotal: 30.6s\tremaining: 28.9s\n",
      "514:\tlearn: 2885.2077746\ttotal: 30.6s\tremaining: 28.8s\n",
      "515:\tlearn: 2885.1575017\ttotal: 30.7s\tremaining: 28.8s\n",
      "516:\tlearn: 2885.0996642\ttotal: 30.7s\tremaining: 28.7s\n",
      "517:\tlearn: 2884.9097852\ttotal: 30.8s\tremaining: 28.6s\n",
      "518:\tlearn: 2884.8161001\ttotal: 30.8s\tremaining: 28.6s\n",
      "519:\tlearn: 2884.6868279\ttotal: 30.9s\tremaining: 28.5s\n",
      "520:\tlearn: 2884.5290184\ttotal: 30.9s\tremaining: 28.4s\n",
      "521:\tlearn: 2884.4018409\ttotal: 31s\tremaining: 28.4s\n",
      "522:\tlearn: 2884.3256497\ttotal: 31.1s\tremaining: 28.3s\n",
      "523:\tlearn: 2884.2394059\ttotal: 31.1s\tremaining: 28.3s\n",
      "524:\tlearn: 2884.0597357\ttotal: 31.2s\tremaining: 28.2s\n",
      "525:\tlearn: 2883.8734700\ttotal: 31.2s\tremaining: 28.2s\n",
      "526:\tlearn: 2883.7161907\ttotal: 31.3s\tremaining: 28.1s\n",
      "527:\tlearn: 2883.5244020\ttotal: 31.4s\tremaining: 28s\n",
      "528:\tlearn: 2883.4571644\ttotal: 31.4s\tremaining: 28s\n",
      "529:\tlearn: 2883.3681240\ttotal: 31.5s\tremaining: 27.9s\n",
      "530:\tlearn: 2883.2530140\ttotal: 31.5s\tremaining: 27.9s\n",
      "531:\tlearn: 2883.1246995\ttotal: 31.6s\tremaining: 27.8s\n",
      "532:\tlearn: 2883.0325746\ttotal: 31.7s\tremaining: 27.7s\n",
      "533:\tlearn: 2882.9241011\ttotal: 31.7s\tremaining: 27.7s\n",
      "534:\tlearn: 2882.8791592\ttotal: 31.8s\tremaining: 27.6s\n",
      "535:\tlearn: 2882.8365141\ttotal: 31.8s\tremaining: 27.6s\n",
      "536:\tlearn: 2882.6872985\ttotal: 31.9s\tremaining: 27.5s\n",
      "537:\tlearn: 2882.5276433\ttotal: 31.9s\tremaining: 27.4s\n",
      "538:\tlearn: 2882.4069767\ttotal: 32s\tremaining: 27.4s\n",
      "539:\tlearn: 2882.3557746\ttotal: 32.1s\tremaining: 27.3s\n",
      "540:\tlearn: 2882.2019117\ttotal: 32.1s\tremaining: 27.2s\n",
      "541:\tlearn: 2882.1252354\ttotal: 32.2s\tremaining: 27.2s\n",
      "542:\tlearn: 2882.0710842\ttotal: 32.2s\tremaining: 27.1s\n",
      "543:\tlearn: 2882.0261211\ttotal: 32.3s\tremaining: 27.1s\n",
      "544:\tlearn: 2881.9863025\ttotal: 32.3s\tremaining: 27s\n",
      "545:\tlearn: 2881.9341726\ttotal: 32.4s\tremaining: 26.9s\n",
      "546:\tlearn: 2881.8813870\ttotal: 32.4s\tremaining: 26.9s\n",
      "547:\tlearn: 2881.8126285\ttotal: 32.5s\tremaining: 26.8s\n",
      "548:\tlearn: 2881.7705620\ttotal: 32.6s\tremaining: 26.7s\n",
      "549:\tlearn: 2881.7142866\ttotal: 32.6s\tremaining: 26.7s\n",
      "550:\tlearn: 2881.5888062\ttotal: 32.7s\tremaining: 26.6s\n",
      "551:\tlearn: 2881.4810489\ttotal: 32.7s\tremaining: 26.6s\n",
      "552:\tlearn: 2881.4605836\ttotal: 32.8s\tremaining: 26.5s\n",
      "553:\tlearn: 2881.4124682\ttotal: 32.8s\tremaining: 26.4s\n",
      "554:\tlearn: 2881.3726994\ttotal: 32.9s\tremaining: 26.4s\n",
      "555:\tlearn: 2881.3098617\ttotal: 33s\tremaining: 26.3s\n",
      "556:\tlearn: 2881.2615524\ttotal: 33s\tremaining: 26.3s\n",
      "557:\tlearn: 2881.1901030\ttotal: 33.1s\tremaining: 26.2s\n",
      "558:\tlearn: 2881.1401898\ttotal: 33.1s\tremaining: 26.1s\n",
      "559:\tlearn: 2881.0873294\ttotal: 33.2s\tremaining: 26.1s\n",
      "560:\tlearn: 2881.0346197\ttotal: 33.2s\tremaining: 26s\n",
      "561:\tlearn: 2880.9505055\ttotal: 33.3s\tremaining: 25.9s\n",
      "562:\tlearn: 2880.9047671\ttotal: 33.4s\tremaining: 25.9s\n",
      "563:\tlearn: 2880.8537086\ttotal: 33.4s\tremaining: 25.8s\n",
      "564:\tlearn: 2880.8077366\ttotal: 33.5s\tremaining: 25.8s\n",
      "565:\tlearn: 2880.7280859\ttotal: 33.5s\tremaining: 25.7s\n",
      "566:\tlearn: 2880.6683159\ttotal: 33.6s\tremaining: 25.6s\n",
      "567:\tlearn: 2880.6352011\ttotal: 33.6s\tremaining: 25.6s\n",
      "568:\tlearn: 2880.6052936\ttotal: 33.7s\tremaining: 25.5s\n",
      "569:\tlearn: 2880.5650014\ttotal: 33.7s\tremaining: 25.5s\n",
      "570:\tlearn: 2880.4616930\ttotal: 33.8s\tremaining: 25.4s\n",
      "571:\tlearn: 2880.4213033\ttotal: 33.8s\tremaining: 25.3s\n",
      "572:\tlearn: 2880.2937030\ttotal: 33.9s\tremaining: 25.3s\n",
      "573:\tlearn: 2880.2205209\ttotal: 34s\tremaining: 25.2s\n",
      "574:\tlearn: 2880.1722848\ttotal: 34s\tremaining: 25.1s\n",
      "575:\tlearn: 2880.0371282\ttotal: 34.1s\tremaining: 25.1s\n",
      "576:\tlearn: 2879.9621323\ttotal: 34.1s\tremaining: 25s\n",
      "577:\tlearn: 2879.8698926\ttotal: 34.2s\tremaining: 25s\n",
      "578:\tlearn: 2879.8178680\ttotal: 34.2s\tremaining: 24.9s\n",
      "579:\tlearn: 2879.7701152\ttotal: 34.3s\tremaining: 24.8s\n",
      "580:\tlearn: 2879.6317910\ttotal: 34.4s\tremaining: 24.8s\n",
      "581:\tlearn: 2879.5227247\ttotal: 34.4s\tremaining: 24.7s\n",
      "582:\tlearn: 2879.4915938\ttotal: 34.5s\tremaining: 24.7s\n",
      "583:\tlearn: 2879.3365210\ttotal: 34.5s\tremaining: 24.6s\n",
      "584:\tlearn: 2879.2910506\ttotal: 34.6s\tremaining: 24.5s\n",
      "585:\tlearn: 2879.2136288\ttotal: 34.6s\tremaining: 24.5s\n",
      "586:\tlearn: 2879.1678083\ttotal: 34.7s\tremaining: 24.4s\n",
      "587:\tlearn: 2879.1170471\ttotal: 34.8s\tremaining: 24.4s\n",
      "588:\tlearn: 2879.0405513\ttotal: 34.8s\tremaining: 24.3s\n",
      "589:\tlearn: 2878.9729815\ttotal: 34.9s\tremaining: 24.2s\n",
      "590:\tlearn: 2878.8378483\ttotal: 34.9s\tremaining: 24.2s\n",
      "591:\tlearn: 2878.7902854\ttotal: 35s\tremaining: 24.1s\n",
      "592:\tlearn: 2878.7203049\ttotal: 35s\tremaining: 24.1s\n",
      "593:\tlearn: 2878.6466853\ttotal: 35.1s\tremaining: 24s\n",
      "594:\tlearn: 2878.5430888\ttotal: 35.2s\tremaining: 23.9s\n",
      "595:\tlearn: 2878.4506819\ttotal: 35.2s\tremaining: 23.9s\n",
      "596:\tlearn: 2878.3843691\ttotal: 35.3s\tremaining: 23.8s\n",
      "597:\tlearn: 2878.3101926\ttotal: 35.3s\tremaining: 23.8s\n",
      "598:\tlearn: 2878.2102977\ttotal: 35.4s\tremaining: 23.7s\n",
      "599:\tlearn: 2878.1590530\ttotal: 35.5s\tremaining: 23.7s\n",
      "600:\tlearn: 2878.1154203\ttotal: 35.6s\tremaining: 23.7s\n",
      "601:\tlearn: 2878.0062675\ttotal: 35.8s\tremaining: 23.7s\n",
      "602:\tlearn: 2877.9622387\ttotal: 35.9s\tremaining: 23.6s\n",
      "603:\tlearn: 2877.9040467\ttotal: 36s\tremaining: 23.6s\n",
      "604:\tlearn: 2877.8455753\ttotal: 36.1s\tremaining: 23.5s\n",
      "605:\tlearn: 2877.7859785\ttotal: 36.1s\tremaining: 23.5s\n",
      "606:\tlearn: 2877.7500255\ttotal: 36.2s\tremaining: 23.4s\n",
      "607:\tlearn: 2877.6742821\ttotal: 36.3s\tremaining: 23.4s\n",
      "608:\tlearn: 2877.5993035\ttotal: 36.3s\tremaining: 23.3s\n",
      "609:\tlearn: 2877.5406968\ttotal: 36.4s\tremaining: 23.3s\n",
      "610:\tlearn: 2877.4777107\ttotal: 36.5s\tremaining: 23.2s\n",
      "611:\tlearn: 2877.4442758\ttotal: 36.5s\tremaining: 23.1s\n",
      "612:\tlearn: 2877.3546474\ttotal: 36.6s\tremaining: 23.1s\n",
      "613:\tlearn: 2877.3175706\ttotal: 36.6s\tremaining: 23s\n",
      "614:\tlearn: 2877.2380208\ttotal: 36.7s\tremaining: 23s\n",
      "615:\tlearn: 2877.1628107\ttotal: 36.7s\tremaining: 22.9s\n",
      "616:\tlearn: 2877.1046089\ttotal: 36.8s\tremaining: 22.8s\n",
      "617:\tlearn: 2877.0538937\ttotal: 36.8s\tremaining: 22.8s\n",
      "618:\tlearn: 2876.9372662\ttotal: 36.9s\tremaining: 22.7s\n",
      "619:\tlearn: 2876.8643441\ttotal: 36.9s\tremaining: 22.6s\n",
      "620:\tlearn: 2876.8348895\ttotal: 37s\tremaining: 22.6s\n",
      "621:\tlearn: 2876.7499431\ttotal: 37.1s\tremaining: 22.5s\n",
      "622:\tlearn: 2876.6691897\ttotal: 37.1s\tremaining: 22.5s\n",
      "623:\tlearn: 2876.5650901\ttotal: 37.2s\tremaining: 22.4s\n",
      "624:\tlearn: 2876.5026328\ttotal: 37.2s\tremaining: 22.3s\n",
      "625:\tlearn: 2876.3903225\ttotal: 37.3s\tremaining: 22.3s\n",
      "626:\tlearn: 2876.3414261\ttotal: 37.3s\tremaining: 22.2s\n",
      "627:\tlearn: 2876.3109957\ttotal: 37.4s\tremaining: 22.2s\n",
      "628:\tlearn: 2876.2472904\ttotal: 37.5s\tremaining: 22.1s\n",
      "629:\tlearn: 2875.9762355\ttotal: 37.5s\tremaining: 22s\n",
      "630:\tlearn: 2875.9011360\ttotal: 37.6s\tremaining: 22s\n",
      "631:\tlearn: 2875.7521370\ttotal: 37.6s\tremaining: 21.9s\n",
      "632:\tlearn: 2875.7028470\ttotal: 37.7s\tremaining: 21.9s\n",
      "633:\tlearn: 2875.6655292\ttotal: 37.8s\tremaining: 21.8s\n",
      "634:\tlearn: 2875.6077488\ttotal: 37.8s\tremaining: 21.8s\n",
      "635:\tlearn: 2875.5843414\ttotal: 37.9s\tremaining: 21.7s\n",
      "636:\tlearn: 2875.5190757\ttotal: 38s\tremaining: 21.6s\n",
      "637:\tlearn: 2875.4667603\ttotal: 38s\tremaining: 21.6s\n",
      "638:\tlearn: 2875.3611600\ttotal: 38.1s\tremaining: 21.5s\n",
      "639:\tlearn: 2875.3016089\ttotal: 38.1s\tremaining: 21.4s\n",
      "640:\tlearn: 2875.2536568\ttotal: 38.2s\tremaining: 21.4s\n",
      "641:\tlearn: 2875.1382597\ttotal: 38.2s\tremaining: 21.3s\n",
      "642:\tlearn: 2875.0639276\ttotal: 38.3s\tremaining: 21.3s\n",
      "643:\tlearn: 2874.9821382\ttotal: 38.4s\tremaining: 21.2s\n",
      "644:\tlearn: 2874.9032760\ttotal: 38.4s\tremaining: 21.1s\n",
      "645:\tlearn: 2874.8405876\ttotal: 38.5s\tremaining: 21.1s\n",
      "646:\tlearn: 2874.7879690\ttotal: 38.5s\tremaining: 21s\n",
      "647:\tlearn: 2874.7550244\ttotal: 38.6s\tremaining: 21s\n",
      "648:\tlearn: 2874.6521645\ttotal: 38.6s\tremaining: 20.9s\n",
      "649:\tlearn: 2874.5687704\ttotal: 38.7s\tremaining: 20.8s\n",
      "650:\tlearn: 2874.5033637\ttotal: 38.7s\tremaining: 20.8s\n",
      "651:\tlearn: 2874.4554263\ttotal: 38.8s\tremaining: 20.7s\n",
      "652:\tlearn: 2874.4141026\ttotal: 38.9s\tremaining: 20.6s\n",
      "653:\tlearn: 2874.3647742\ttotal: 38.9s\tremaining: 20.6s\n",
      "654:\tlearn: 2874.2715964\ttotal: 39s\tremaining: 20.5s\n",
      "655:\tlearn: 2874.2172022\ttotal: 39s\tremaining: 20.5s\n",
      "656:\tlearn: 2874.1729438\ttotal: 39.1s\tremaining: 20.4s\n",
      "657:\tlearn: 2874.1365703\ttotal: 39.1s\tremaining: 20.3s\n",
      "658:\tlearn: 2874.0793170\ttotal: 39.2s\tremaining: 20.3s\n",
      "659:\tlearn: 2874.0336865\ttotal: 39.2s\tremaining: 20.2s\n",
      "660:\tlearn: 2873.9841130\ttotal: 39.3s\tremaining: 20.2s\n",
      "661:\tlearn: 2873.9327294\ttotal: 39.4s\tremaining: 20.1s\n",
      "662:\tlearn: 2873.8994736\ttotal: 39.4s\tremaining: 20s\n",
      "663:\tlearn: 2873.8013779\ttotal: 39.5s\tremaining: 20s\n",
      "664:\tlearn: 2873.7571983\ttotal: 39.5s\tremaining: 19.9s\n",
      "665:\tlearn: 2873.6688565\ttotal: 39.6s\tremaining: 19.8s\n",
      "666:\tlearn: 2873.6345833\ttotal: 39.6s\tremaining: 19.8s\n",
      "667:\tlearn: 2873.5794786\ttotal: 39.7s\tremaining: 19.7s\n",
      "668:\tlearn: 2873.4731059\ttotal: 39.7s\tremaining: 19.7s\n",
      "669:\tlearn: 2873.4041152\ttotal: 39.8s\tremaining: 19.6s\n",
      "670:\tlearn: 2873.3311742\ttotal: 39.8s\tremaining: 19.5s\n",
      "671:\tlearn: 2873.2629187\ttotal: 39.9s\tremaining: 19.5s\n",
      "672:\tlearn: 2873.1732157\ttotal: 40s\tremaining: 19.4s\n",
      "673:\tlearn: 2873.1245598\ttotal: 40s\tremaining: 19.4s\n",
      "674:\tlearn: 2873.0830716\ttotal: 40.1s\tremaining: 19.3s\n",
      "675:\tlearn: 2873.0312428\ttotal: 40.1s\tremaining: 19.2s\n",
      "676:\tlearn: 2872.9933871\ttotal: 40.2s\tremaining: 19.2s\n",
      "677:\tlearn: 2872.9538559\ttotal: 40.3s\tremaining: 19.1s\n",
      "678:\tlearn: 2872.8913247\ttotal: 40.3s\tremaining: 19.1s\n",
      "679:\tlearn: 2872.8651183\ttotal: 40.4s\tremaining: 19s\n",
      "680:\tlearn: 2872.7978865\ttotal: 40.4s\tremaining: 18.9s\n",
      "681:\tlearn: 2872.7145496\ttotal: 40.5s\tremaining: 18.9s\n",
      "682:\tlearn: 2872.6537669\ttotal: 40.5s\tremaining: 18.8s\n",
      "683:\tlearn: 2872.6230026\ttotal: 40.6s\tremaining: 18.7s\n",
      "684:\tlearn: 2872.5690361\ttotal: 40.6s\tremaining: 18.7s\n",
      "685:\tlearn: 2872.4592669\ttotal: 40.7s\tremaining: 18.6s\n",
      "686:\tlearn: 2872.3861995\ttotal: 40.7s\tremaining: 18.6s\n",
      "687:\tlearn: 2872.3370421\ttotal: 40.8s\tremaining: 18.5s\n",
      "688:\tlearn: 2872.2566852\ttotal: 40.9s\tremaining: 18.4s\n",
      "689:\tlearn: 2872.2210618\ttotal: 40.9s\tremaining: 18.4s\n",
      "690:\tlearn: 2872.1677192\ttotal: 41s\tremaining: 18.3s\n",
      "691:\tlearn: 2872.0950377\ttotal: 41s\tremaining: 18.3s\n",
      "692:\tlearn: 2871.9689789\ttotal: 41.1s\tremaining: 18.2s\n",
      "693:\tlearn: 2871.8431938\ttotal: 41.1s\tremaining: 18.1s\n",
      "694:\tlearn: 2871.7969685\ttotal: 41.2s\tremaining: 18.1s\n",
      "695:\tlearn: 2871.7139041\ttotal: 41.3s\tremaining: 18s\n",
      "696:\tlearn: 2871.6663442\ttotal: 41.3s\tremaining: 18s\n",
      "697:\tlearn: 2871.6380583\ttotal: 41.4s\tremaining: 17.9s\n",
      "698:\tlearn: 2871.5814543\ttotal: 41.4s\tremaining: 17.8s\n",
      "699:\tlearn: 2871.5260248\ttotal: 41.5s\tremaining: 17.8s\n",
      "700:\tlearn: 2871.3802233\ttotal: 41.5s\tremaining: 17.7s\n",
      "701:\tlearn: 2871.2518390\ttotal: 41.6s\tremaining: 17.7s\n",
      "702:\tlearn: 2871.1987015\ttotal: 41.6s\tremaining: 17.6s\n",
      "703:\tlearn: 2871.0837094\ttotal: 41.7s\tremaining: 17.5s\n",
      "704:\tlearn: 2871.0004950\ttotal: 41.8s\tremaining: 17.5s\n",
      "705:\tlearn: 2870.9168425\ttotal: 41.8s\tremaining: 17.4s\n",
      "706:\tlearn: 2870.9079449\ttotal: 41.9s\tremaining: 17.4s\n",
      "707:\tlearn: 2870.8163746\ttotal: 42s\tremaining: 17.3s\n",
      "708:\tlearn: 2870.7535091\ttotal: 42s\tremaining: 17.2s\n",
      "709:\tlearn: 2870.7256579\ttotal: 42.1s\tremaining: 17.2s\n",
      "710:\tlearn: 2870.6973963\ttotal: 42.1s\tremaining: 17.1s\n",
      "711:\tlearn: 2870.6541696\ttotal: 42.2s\tremaining: 17.1s\n",
      "712:\tlearn: 2870.6145958\ttotal: 42.2s\tremaining: 17s\n",
      "713:\tlearn: 2870.5748650\ttotal: 42.3s\tremaining: 16.9s\n",
      "714:\tlearn: 2870.5326178\ttotal: 42.3s\tremaining: 16.9s\n",
      "715:\tlearn: 2870.5023861\ttotal: 42.4s\tremaining: 16.8s\n",
      "716:\tlearn: 2870.4756330\ttotal: 42.4s\tremaining: 16.8s\n",
      "717:\tlearn: 2870.4375396\ttotal: 42.5s\tremaining: 16.7s\n",
      "718:\tlearn: 2870.4104500\ttotal: 42.6s\tremaining: 16.6s\n",
      "719:\tlearn: 2870.3517467\ttotal: 42.6s\tremaining: 16.6s\n",
      "720:\tlearn: 2870.3040039\ttotal: 42.7s\tremaining: 16.5s\n",
      "721:\tlearn: 2870.2697195\ttotal: 42.7s\tremaining: 16.5s\n",
      "722:\tlearn: 2870.2187316\ttotal: 42.8s\tremaining: 16.4s\n",
      "723:\tlearn: 2870.1635302\ttotal: 42.8s\tremaining: 16.3s\n",
      "724:\tlearn: 2870.1496458\ttotal: 42.9s\tremaining: 16.3s\n",
      "725:\tlearn: 2870.0787648\ttotal: 42.9s\tremaining: 16.2s\n",
      "726:\tlearn: 2870.0339674\ttotal: 43s\tremaining: 16.1s\n",
      "727:\tlearn: 2869.9713977\ttotal: 43.1s\tremaining: 16.1s\n",
      "728:\tlearn: 2869.9106645\ttotal: 43.1s\tremaining: 16s\n",
      "729:\tlearn: 2869.8665742\ttotal: 43.2s\tremaining: 16s\n",
      "730:\tlearn: 2869.8267433\ttotal: 43.2s\tremaining: 15.9s\n",
      "731:\tlearn: 2869.7895831\ttotal: 43.3s\tremaining: 15.9s\n",
      "732:\tlearn: 2869.7464718\ttotal: 43.4s\tremaining: 15.8s\n",
      "733:\tlearn: 2869.6744999\ttotal: 43.4s\tremaining: 15.7s\n",
      "734:\tlearn: 2869.6152675\ttotal: 43.5s\tremaining: 15.7s\n",
      "735:\tlearn: 2869.5441853\ttotal: 43.5s\tremaining: 15.6s\n",
      "736:\tlearn: 2869.5100510\ttotal: 43.6s\tremaining: 15.6s\n",
      "737:\tlearn: 2869.4579845\ttotal: 43.6s\tremaining: 15.5s\n",
      "738:\tlearn: 2869.3966834\ttotal: 43.7s\tremaining: 15.4s\n",
      "739:\tlearn: 2869.3257780\ttotal: 43.8s\tremaining: 15.4s\n",
      "740:\tlearn: 2869.2502878\ttotal: 43.8s\tremaining: 15.3s\n",
      "741:\tlearn: 2869.1835444\ttotal: 43.9s\tremaining: 15.3s\n",
      "742:\tlearn: 2869.1310886\ttotal: 43.9s\tremaining: 15.2s\n",
      "743:\tlearn: 2869.0955304\ttotal: 44s\tremaining: 15.1s\n",
      "744:\tlearn: 2869.0288358\ttotal: 44.1s\tremaining: 15.1s\n",
      "745:\tlearn: 2868.9175950\ttotal: 44.1s\tremaining: 15s\n",
      "746:\tlearn: 2868.7765311\ttotal: 44.2s\tremaining: 15s\n",
      "747:\tlearn: 2868.7361472\ttotal: 44.2s\tremaining: 14.9s\n",
      "748:\tlearn: 2868.7048792\ttotal: 44.3s\tremaining: 14.8s\n",
      "749:\tlearn: 2868.6164519\ttotal: 44.4s\tremaining: 14.8s\n",
      "750:\tlearn: 2868.5888683\ttotal: 44.4s\tremaining: 14.7s\n",
      "751:\tlearn: 2868.5654531\ttotal: 44.5s\tremaining: 14.7s\n",
      "752:\tlearn: 2868.5214797\ttotal: 44.5s\tremaining: 14.6s\n",
      "753:\tlearn: 2868.4794590\ttotal: 44.6s\tremaining: 14.5s\n",
      "754:\tlearn: 2868.4286847\ttotal: 44.6s\tremaining: 14.5s\n",
      "755:\tlearn: 2868.3553321\ttotal: 44.7s\tremaining: 14.4s\n",
      "756:\tlearn: 2868.3472643\ttotal: 44.7s\tremaining: 14.4s\n",
      "757:\tlearn: 2868.2970380\ttotal: 44.8s\tremaining: 14.3s\n",
      "758:\tlearn: 2868.2348248\ttotal: 44.9s\tremaining: 14.2s\n",
      "759:\tlearn: 2868.2037400\ttotal: 44.9s\tremaining: 14.2s\n",
      "760:\tlearn: 2868.1381045\ttotal: 45s\tremaining: 14.1s\n",
      "761:\tlearn: 2868.0913332\ttotal: 45s\tremaining: 14.1s\n",
      "762:\tlearn: 2868.0526920\ttotal: 45.1s\tremaining: 14s\n",
      "763:\tlearn: 2868.0064686\ttotal: 45.1s\tremaining: 13.9s\n",
      "764:\tlearn: 2867.9750252\ttotal: 45.2s\tremaining: 13.9s\n",
      "765:\tlearn: 2867.9152452\ttotal: 45.2s\tremaining: 13.8s\n",
      "766:\tlearn: 2867.8514147\ttotal: 45.3s\tremaining: 13.8s\n",
      "767:\tlearn: 2867.8002973\ttotal: 45.4s\tremaining: 13.7s\n",
      "768:\tlearn: 2867.7701314\ttotal: 45.4s\tremaining: 13.6s\n",
      "769:\tlearn: 2867.7179401\ttotal: 45.5s\tremaining: 13.6s\n",
      "770:\tlearn: 2867.6859238\ttotal: 45.5s\tremaining: 13.5s\n",
      "771:\tlearn: 2867.6532294\ttotal: 45.6s\tremaining: 13.5s\n",
      "772:\tlearn: 2867.5965256\ttotal: 45.6s\tremaining: 13.4s\n",
      "773:\tlearn: 2867.5288083\ttotal: 45.7s\tremaining: 13.3s\n",
      "774:\tlearn: 2867.4685460\ttotal: 45.8s\tremaining: 13.3s\n",
      "775:\tlearn: 2867.4196276\ttotal: 45.8s\tremaining: 13.2s\n",
      "776:\tlearn: 2867.3693539\ttotal: 45.9s\tremaining: 13.2s\n",
      "777:\tlearn: 2867.3042361\ttotal: 45.9s\tremaining: 13.1s\n",
      "778:\tlearn: 2867.2757075\ttotal: 46s\tremaining: 13s\n",
      "779:\tlearn: 2867.2531513\ttotal: 46s\tremaining: 13s\n",
      "780:\tlearn: 2867.1730038\ttotal: 46.1s\tremaining: 12.9s\n",
      "781:\tlearn: 2867.0791888\ttotal: 46.1s\tremaining: 12.9s\n",
      "782:\tlearn: 2867.0484324\ttotal: 46.2s\tremaining: 12.8s\n",
      "783:\tlearn: 2867.0351466\ttotal: 46.3s\tremaining: 12.7s\n",
      "784:\tlearn: 2866.9671729\ttotal: 46.3s\tremaining: 12.7s\n",
      "785:\tlearn: 2866.9063089\ttotal: 46.4s\tremaining: 12.6s\n",
      "786:\tlearn: 2866.8302905\ttotal: 46.5s\tremaining: 12.6s\n",
      "787:\tlearn: 2866.7659301\ttotal: 46.7s\tremaining: 12.6s\n",
      "788:\tlearn: 2866.7285128\ttotal: 46.8s\tremaining: 12.5s\n",
      "789:\tlearn: 2866.6601128\ttotal: 46.9s\tremaining: 12.5s\n",
      "790:\tlearn: 2866.6146782\ttotal: 47s\tremaining: 12.4s\n",
      "791:\tlearn: 2866.5937482\ttotal: 47s\tremaining: 12.4s\n",
      "792:\tlearn: 2866.5642039\ttotal: 47.1s\tremaining: 12.3s\n",
      "793:\tlearn: 2866.4889835\ttotal: 47.2s\tremaining: 12.2s\n",
      "794:\tlearn: 2866.4516087\ttotal: 47.2s\tremaining: 12.2s\n",
      "795:\tlearn: 2866.4167317\ttotal: 47.3s\tremaining: 12.1s\n",
      "796:\tlearn: 2866.3266202\ttotal: 47.3s\tremaining: 12.1s\n",
      "797:\tlearn: 2866.2844815\ttotal: 47.4s\tremaining: 12s\n",
      "798:\tlearn: 2866.2282007\ttotal: 47.4s\tremaining: 11.9s\n",
      "799:\tlearn: 2866.1891651\ttotal: 47.5s\tremaining: 11.9s\n",
      "800:\tlearn: 2866.1500722\ttotal: 47.5s\tremaining: 11.8s\n",
      "801:\tlearn: 2866.1253227\ttotal: 47.6s\tremaining: 11.8s\n",
      "802:\tlearn: 2866.0882420\ttotal: 47.7s\tremaining: 11.7s\n",
      "803:\tlearn: 2866.0046987\ttotal: 47.7s\tremaining: 11.6s\n",
      "804:\tlearn: 2865.9427916\ttotal: 47.8s\tremaining: 11.6s\n",
      "805:\tlearn: 2865.8887602\ttotal: 47.8s\tremaining: 11.5s\n",
      "806:\tlearn: 2865.8432479\ttotal: 47.9s\tremaining: 11.4s\n",
      "807:\tlearn: 2865.7761704\ttotal: 47.9s\tremaining: 11.4s\n",
      "808:\tlearn: 2865.7435123\ttotal: 48s\tremaining: 11.3s\n",
      "809:\tlearn: 2865.6796377\ttotal: 48.1s\tremaining: 11.3s\n",
      "810:\tlearn: 2865.6217607\ttotal: 48.1s\tremaining: 11.2s\n",
      "811:\tlearn: 2865.5784106\ttotal: 48.2s\tremaining: 11.1s\n",
      "812:\tlearn: 2865.5371635\ttotal: 48.2s\tremaining: 11.1s\n",
      "813:\tlearn: 2865.4902645\ttotal: 48.3s\tremaining: 11s\n",
      "814:\tlearn: 2865.4671010\ttotal: 48.3s\tremaining: 11s\n",
      "815:\tlearn: 2865.4143901\ttotal: 48.4s\tremaining: 10.9s\n",
      "816:\tlearn: 2865.3547265\ttotal: 48.4s\tremaining: 10.8s\n",
      "817:\tlearn: 2865.2199997\ttotal: 48.5s\tremaining: 10.8s\n",
      "818:\tlearn: 2865.1630231\ttotal: 48.5s\tremaining: 10.7s\n",
      "819:\tlearn: 2865.1148468\ttotal: 48.6s\tremaining: 10.7s\n",
      "820:\tlearn: 2865.0867776\ttotal: 48.6s\tremaining: 10.6s\n",
      "821:\tlearn: 2865.0527230\ttotal: 48.7s\tremaining: 10.5s\n",
      "822:\tlearn: 2864.9929234\ttotal: 48.8s\tremaining: 10.5s\n",
      "823:\tlearn: 2864.9489260\ttotal: 48.8s\tremaining: 10.4s\n",
      "824:\tlearn: 2864.9143356\ttotal: 48.9s\tremaining: 10.4s\n",
      "825:\tlearn: 2864.8554235\ttotal: 48.9s\tremaining: 10.3s\n",
      "826:\tlearn: 2864.8113295\ttotal: 49s\tremaining: 10.2s\n",
      "827:\tlearn: 2864.7730183\ttotal: 49s\tremaining: 10.2s\n",
      "828:\tlearn: 2864.6571339\ttotal: 49.1s\tremaining: 10.1s\n",
      "829:\tlearn: 2864.5629542\ttotal: 49.2s\tremaining: 10.1s\n",
      "830:\tlearn: 2864.3341187\ttotal: 49.2s\tremaining: 10s\n",
      "831:\tlearn: 2864.2960802\ttotal: 49.3s\tremaining: 9.95s\n",
      "832:\tlearn: 2864.2804739\ttotal: 49.3s\tremaining: 9.89s\n",
      "833:\tlearn: 2864.2338168\ttotal: 49.4s\tremaining: 9.83s\n",
      "834:\tlearn: 2864.1952257\ttotal: 49.4s\tremaining: 9.77s\n",
      "835:\tlearn: 2864.0742039\ttotal: 49.5s\tremaining: 9.71s\n",
      "836:\tlearn: 2864.0377740\ttotal: 49.5s\tremaining: 9.64s\n",
      "837:\tlearn: 2863.9847436\ttotal: 49.6s\tremaining: 9.58s\n",
      "838:\tlearn: 2863.9259068\ttotal: 49.6s\tremaining: 9.53s\n",
      "839:\tlearn: 2863.7612847\ttotal: 49.7s\tremaining: 9.47s\n",
      "840:\tlearn: 2863.7208004\ttotal: 49.8s\tremaining: 9.41s\n",
      "841:\tlearn: 2863.6995225\ttotal: 49.9s\tremaining: 9.36s\n",
      "842:\tlearn: 2863.6774126\ttotal: 50s\tremaining: 9.31s\n",
      "843:\tlearn: 2863.6577110\ttotal: 50.1s\tremaining: 9.26s\n",
      "844:\tlearn: 2863.6291310\ttotal: 50.2s\tremaining: 9.21s\n",
      "845:\tlearn: 2863.5673970\ttotal: 50.3s\tremaining: 9.16s\n",
      "846:\tlearn: 2863.5125227\ttotal: 50.4s\tremaining: 9.1s\n",
      "847:\tlearn: 2863.4246538\ttotal: 50.5s\tremaining: 9.05s\n",
      "848:\tlearn: 2863.3835402\ttotal: 50.6s\tremaining: 9s\n",
      "849:\tlearn: 2863.3654582\ttotal: 50.7s\tremaining: 8.95s\n",
      "850:\tlearn: 2863.3165675\ttotal: 50.8s\tremaining: 8.9s\n",
      "851:\tlearn: 2863.2538409\ttotal: 51s\tremaining: 8.85s\n",
      "852:\tlearn: 2863.1895034\ttotal: 51.1s\tremaining: 8.8s\n",
      "853:\tlearn: 2863.1345044\ttotal: 51.1s\tremaining: 8.74s\n",
      "854:\tlearn: 2863.1137222\ttotal: 51.2s\tremaining: 8.68s\n",
      "855:\tlearn: 2863.0912100\ttotal: 51.2s\tremaining: 8.62s\n",
      "856:\tlearn: 2863.0435837\ttotal: 51.3s\tremaining: 8.56s\n",
      "857:\tlearn: 2863.0035722\ttotal: 51.3s\tremaining: 8.5s\n",
      "858:\tlearn: 2862.9506605\ttotal: 51.4s\tremaining: 8.44s\n",
      "859:\tlearn: 2862.9124502\ttotal: 51.5s\tremaining: 8.38s\n",
      "860:\tlearn: 2862.8736131\ttotal: 51.5s\tremaining: 8.32s\n",
      "861:\tlearn: 2862.8327253\ttotal: 51.6s\tremaining: 8.26s\n",
      "862:\tlearn: 2862.7978739\ttotal: 51.6s\tremaining: 8.2s\n",
      "863:\tlearn: 2862.7041510\ttotal: 51.7s\tremaining: 8.14s\n",
      "864:\tlearn: 2862.6581380\ttotal: 51.8s\tremaining: 8.08s\n",
      "865:\tlearn: 2862.6305258\ttotal: 51.8s\tremaining: 8.02s\n",
      "866:\tlearn: 2862.5701687\ttotal: 51.9s\tremaining: 7.96s\n",
      "867:\tlearn: 2862.5111332\ttotal: 51.9s\tremaining: 7.9s\n",
      "868:\tlearn: 2862.4525974\ttotal: 52s\tremaining: 7.83s\n",
      "869:\tlearn: 2862.4018768\ttotal: 52s\tremaining: 7.77s\n",
      "870:\tlearn: 2862.3834186\ttotal: 52.1s\tremaining: 7.71s\n",
      "871:\tlearn: 2862.3730436\ttotal: 52.1s\tremaining: 7.65s\n",
      "872:\tlearn: 2862.3331086\ttotal: 52.2s\tremaining: 7.6s\n",
      "873:\tlearn: 2862.3107872\ttotal: 52.3s\tremaining: 7.54s\n",
      "874:\tlearn: 2862.2370285\ttotal: 52.3s\tremaining: 7.48s\n",
      "875:\tlearn: 2862.2163683\ttotal: 52.4s\tremaining: 7.42s\n",
      "876:\tlearn: 2862.1245359\ttotal: 52.5s\tremaining: 7.36s\n",
      "877:\tlearn: 2862.0847281\ttotal: 52.5s\tremaining: 7.3s\n",
      "878:\tlearn: 2861.9892589\ttotal: 52.6s\tremaining: 7.24s\n",
      "879:\tlearn: 2861.9488734\ttotal: 52.6s\tremaining: 7.18s\n",
      "880:\tlearn: 2861.8994260\ttotal: 52.7s\tremaining: 7.12s\n",
      "881:\tlearn: 2861.8334738\ttotal: 52.7s\tremaining: 7.06s\n",
      "882:\tlearn: 2861.8179955\ttotal: 52.8s\tremaining: 6.99s\n",
      "883:\tlearn: 2861.7514248\ttotal: 52.8s\tremaining: 6.93s\n",
      "884:\tlearn: 2861.7158937\ttotal: 52.9s\tremaining: 6.87s\n",
      "885:\tlearn: 2861.6874104\ttotal: 53s\tremaining: 6.81s\n",
      "886:\tlearn: 2861.6754387\ttotal: 53s\tremaining: 6.75s\n",
      "887:\tlearn: 2861.6502921\ttotal: 53.1s\tremaining: 6.69s\n",
      "888:\tlearn: 2861.6045612\ttotal: 53.1s\tremaining: 6.63s\n",
      "889:\tlearn: 2861.5634511\ttotal: 53.2s\tremaining: 6.57s\n",
      "890:\tlearn: 2861.5355331\ttotal: 53.2s\tremaining: 6.51s\n",
      "891:\tlearn: 2861.5102227\ttotal: 53.3s\tremaining: 6.45s\n",
      "892:\tlearn: 2861.4629257\ttotal: 53.3s\tremaining: 6.39s\n",
      "893:\tlearn: 2861.4063232\ttotal: 53.4s\tremaining: 6.33s\n",
      "894:\tlearn: 2861.3382600\ttotal: 53.5s\tremaining: 6.27s\n",
      "895:\tlearn: 2861.2985562\ttotal: 53.5s\tremaining: 6.21s\n",
      "896:\tlearn: 2861.1891187\ttotal: 53.6s\tremaining: 6.15s\n",
      "897:\tlearn: 2861.1537887\ttotal: 53.6s\tremaining: 6.09s\n",
      "898:\tlearn: 2861.1357424\ttotal: 53.7s\tremaining: 6.03s\n",
      "899:\tlearn: 2861.1036734\ttotal: 53.7s\tremaining: 5.97s\n",
      "900:\tlearn: 2861.0716682\ttotal: 53.8s\tremaining: 5.91s\n",
      "901:\tlearn: 2861.0236425\ttotal: 53.9s\tremaining: 5.85s\n",
      "902:\tlearn: 2860.8365915\ttotal: 53.9s\tremaining: 5.79s\n",
      "903:\tlearn: 2860.8015463\ttotal: 54s\tremaining: 5.73s\n",
      "904:\tlearn: 2860.7506800\ttotal: 54s\tremaining: 5.67s\n",
      "905:\tlearn: 2860.7028365\ttotal: 54.1s\tremaining: 5.61s\n",
      "906:\tlearn: 2860.6371373\ttotal: 54.2s\tremaining: 5.55s\n",
      "907:\tlearn: 2860.6016929\ttotal: 54.2s\tremaining: 5.49s\n",
      "908:\tlearn: 2860.5555768\ttotal: 54.3s\tremaining: 5.43s\n",
      "909:\tlearn: 2860.5074980\ttotal: 54.3s\tremaining: 5.37s\n",
      "910:\tlearn: 2860.4433542\ttotal: 54.4s\tremaining: 5.31s\n",
      "911:\tlearn: 2860.4259312\ttotal: 54.4s\tremaining: 5.25s\n",
      "912:\tlearn: 2860.4056535\ttotal: 54.5s\tremaining: 5.19s\n",
      "913:\tlearn: 2860.3799435\ttotal: 54.5s\tremaining: 5.13s\n",
      "914:\tlearn: 2860.3194539\ttotal: 54.6s\tremaining: 5.07s\n",
      "915:\tlearn: 2860.2496508\ttotal: 54.7s\tremaining: 5.01s\n",
      "916:\tlearn: 2860.2207926\ttotal: 54.7s\tremaining: 4.95s\n",
      "917:\tlearn: 2860.1722428\ttotal: 54.8s\tremaining: 4.89s\n",
      "918:\tlearn: 2860.1366469\ttotal: 54.8s\tremaining: 4.83s\n",
      "919:\tlearn: 2860.0879334\ttotal: 54.9s\tremaining: 4.77s\n",
      "920:\tlearn: 2860.0602727\ttotal: 54.9s\tremaining: 4.71s\n",
      "921:\tlearn: 2860.0052594\ttotal: 55s\tremaining: 4.65s\n",
      "922:\tlearn: 2859.9801652\ttotal: 55.1s\tremaining: 4.59s\n",
      "923:\tlearn: 2859.9484050\ttotal: 55.1s\tremaining: 4.53s\n",
      "924:\tlearn: 2859.9202467\ttotal: 55.2s\tremaining: 4.47s\n",
      "925:\tlearn: 2859.8720824\ttotal: 55.2s\tremaining: 4.41s\n",
      "926:\tlearn: 2859.8510868\ttotal: 55.3s\tremaining: 4.35s\n",
      "927:\tlearn: 2859.7709674\ttotal: 55.3s\tremaining: 4.29s\n",
      "928:\tlearn: 2859.7236108\ttotal: 55.4s\tremaining: 4.23s\n",
      "929:\tlearn: 2859.6932997\ttotal: 55.4s\tremaining: 4.17s\n",
      "930:\tlearn: 2859.6608673\ttotal: 55.5s\tremaining: 4.11s\n",
      "931:\tlearn: 2859.5771077\ttotal: 55.6s\tremaining: 4.05s\n",
      "932:\tlearn: 2859.5520421\ttotal: 55.6s\tremaining: 3.99s\n",
      "933:\tlearn: 2859.5071361\ttotal: 55.7s\tremaining: 3.93s\n",
      "934:\tlearn: 2859.4669098\ttotal: 55.7s\tremaining: 3.87s\n",
      "935:\tlearn: 2859.3894468\ttotal: 55.8s\tremaining: 3.81s\n",
      "936:\tlearn: 2859.3568738\ttotal: 55.8s\tremaining: 3.75s\n",
      "937:\tlearn: 2859.3338310\ttotal: 55.9s\tremaining: 3.69s\n",
      "938:\tlearn: 2859.2589849\ttotal: 56s\tremaining: 3.63s\n",
      "939:\tlearn: 2859.2376707\ttotal: 56s\tremaining: 3.57s\n",
      "940:\tlearn: 2859.2048368\ttotal: 56.1s\tremaining: 3.51s\n",
      "941:\tlearn: 2859.1650130\ttotal: 56.1s\tremaining: 3.45s\n",
      "942:\tlearn: 2859.1477321\ttotal: 56.2s\tremaining: 3.4s\n",
      "943:\tlearn: 2859.0876656\ttotal: 56.2s\tremaining: 3.33s\n",
      "944:\tlearn: 2859.0312493\ttotal: 56.3s\tremaining: 3.27s\n",
      "945:\tlearn: 2859.0070603\ttotal: 56.3s\tremaining: 3.21s\n",
      "946:\tlearn: 2858.9342168\ttotal: 56.4s\tremaining: 3.16s\n",
      "947:\tlearn: 2858.9195862\ttotal: 56.4s\tremaining: 3.1s\n",
      "948:\tlearn: 2858.8970303\ttotal: 56.5s\tremaining: 3.04s\n",
      "949:\tlearn: 2858.8529657\ttotal: 56.6s\tremaining: 2.98s\n",
      "950:\tlearn: 2858.8167024\ttotal: 56.6s\tremaining: 2.92s\n",
      "951:\tlearn: 2858.7765182\ttotal: 56.7s\tremaining: 2.86s\n",
      "952:\tlearn: 2858.7398594\ttotal: 56.7s\tremaining: 2.8s\n",
      "953:\tlearn: 2858.7152419\ttotal: 56.8s\tremaining: 2.74s\n",
      "954:\tlearn: 2858.6508512\ttotal: 56.9s\tremaining: 2.68s\n",
      "955:\tlearn: 2858.6195397\ttotal: 56.9s\tremaining: 2.62s\n",
      "956:\tlearn: 2858.5754406\ttotal: 57s\tremaining: 2.56s\n",
      "957:\tlearn: 2858.5246936\ttotal: 57s\tremaining: 2.5s\n",
      "958:\tlearn: 2858.4714717\ttotal: 57.1s\tremaining: 2.44s\n",
      "959:\tlearn: 2858.4379871\ttotal: 57.1s\tremaining: 2.38s\n",
      "960:\tlearn: 2858.4077588\ttotal: 57.2s\tremaining: 2.32s\n",
      "961:\tlearn: 2858.3652142\ttotal: 57.3s\tremaining: 2.26s\n",
      "962:\tlearn: 2858.3250265\ttotal: 57.4s\tremaining: 2.2s\n",
      "963:\tlearn: 2858.2561622\ttotal: 57.5s\tremaining: 2.15s\n",
      "964:\tlearn: 2858.2340695\ttotal: 57.6s\tremaining: 2.09s\n",
      "965:\tlearn: 2858.1825570\ttotal: 57.7s\tremaining: 2.03s\n",
      "966:\tlearn: 2858.1535315\ttotal: 57.8s\tremaining: 1.97s\n",
      "967:\tlearn: 2858.1302917\ttotal: 57.9s\tremaining: 1.92s\n",
      "968:\tlearn: 2858.0884671\ttotal: 58s\tremaining: 1.85s\n",
      "969:\tlearn: 2858.0583060\ttotal: 58.1s\tremaining: 1.79s\n",
      "970:\tlearn: 2858.0330775\ttotal: 58.1s\tremaining: 1.74s\n",
      "971:\tlearn: 2857.9978255\ttotal: 58.2s\tremaining: 1.68s\n",
      "972:\tlearn: 2857.9569341\ttotal: 58.2s\tremaining: 1.61s\n",
      "973:\tlearn: 2857.8987280\ttotal: 58.3s\tremaining: 1.55s\n",
      "974:\tlearn: 2857.8716390\ttotal: 58.3s\tremaining: 1.5s\n",
      "975:\tlearn: 2857.8330359\ttotal: 58.4s\tremaining: 1.44s\n",
      "976:\tlearn: 2857.7979973\ttotal: 58.5s\tremaining: 1.38s\n",
      "977:\tlearn: 2857.7676753\ttotal: 58.5s\tremaining: 1.32s\n",
      "978:\tlearn: 2857.7277468\ttotal: 58.6s\tremaining: 1.26s\n",
      "979:\tlearn: 2857.6600200\ttotal: 58.6s\tremaining: 1.2s\n",
      "980:\tlearn: 2857.6396758\ttotal: 58.7s\tremaining: 1.14s\n",
      "981:\tlearn: 2857.5989961\ttotal: 58.7s\tremaining: 1.08s\n",
      "982:\tlearn: 2857.5732550\ttotal: 58.8s\tremaining: 1.02s\n",
      "983:\tlearn: 2857.5188164\ttotal: 58.8s\tremaining: 957ms\n",
      "984:\tlearn: 2857.4643409\ttotal: 58.9s\tremaining: 897ms\n",
      "985:\tlearn: 2857.4418325\ttotal: 59s\tremaining: 837ms\n",
      "986:\tlearn: 2857.4033375\ttotal: 59s\tremaining: 777ms\n",
      "987:\tlearn: 2857.3475781\ttotal: 59.1s\tremaining: 717ms\n",
      "988:\tlearn: 2857.2944870\ttotal: 59.1s\tremaining: 658ms\n",
      "989:\tlearn: 2857.2455176\ttotal: 59.2s\tremaining: 598ms\n",
      "990:\tlearn: 2857.1743368\ttotal: 59.3s\tremaining: 538ms\n",
      "991:\tlearn: 2857.0845139\ttotal: 59.3s\tremaining: 478ms\n",
      "992:\tlearn: 2857.0517162\ttotal: 59.4s\tremaining: 419ms\n",
      "993:\tlearn: 2857.0082156\ttotal: 59.4s\tremaining: 359ms\n",
      "994:\tlearn: 2856.9685820\ttotal: 59.5s\tremaining: 299ms\n",
      "995:\tlearn: 2856.9091738\ttotal: 59.6s\tremaining: 239ms\n",
      "996:\tlearn: 2856.8516420\ttotal: 59.6s\tremaining: 179ms\n",
      "997:\tlearn: 2856.8006912\ttotal: 59.7s\tremaining: 120ms\n",
      "998:\tlearn: 2856.7339156\ttotal: 59.8s\tremaining: 59.8ms\n",
      "999:\tlearn: 2856.7076190\ttotal: 59.8s\tremaining: 0us\n"
     ]
    },
    {
     "data": {
      "text/plain": [
       "<catboost.core.CatBoostRegressor at 0x7fc03e5be910>"
      ]
     },
     "execution_count": 48,
     "metadata": {},
     "output_type": "execute_result"
    }
   ],
   "source": [
    "cat = CatBoostRegressor()\n",
    "cat.fit(X_train.values,y_train.values)"
   ]
  },
  {
   "cell_type": "code",
   "execution_count": 49,
   "id": "7ba569ae",
   "metadata": {
    "execution": {
     "iopub.execute_input": "2022-11-14T21:39:35.388371Z",
     "iopub.status.busy": "2022-11-14T21:39:35.387469Z",
     "iopub.status.idle": "2022-11-14T21:39:35.514568Z",
     "shell.execute_reply": "2022-11-14T21:39:35.513613Z"
    },
    "id": "ChiZortx6L9w",
    "papermill": {
     "duration": 0.168315,
     "end_time": "2022-11-14T21:39:35.516851",
     "exception": false,
     "start_time": "2022-11-14T21:39:35.348536",
     "status": "completed"
    },
    "tags": []
   },
   "outputs": [
    {
     "data": {
      "text/plain": [
       "0.6734526523886544"
      ]
     },
     "execution_count": 49,
     "metadata": {},
     "output_type": "execute_result"
    }
   ],
   "source": [
    "cat.score(X_test.values,y_test.values)"
   ]
  },
  {
   "cell_type": "code",
   "execution_count": 50,
   "id": "02df6a2e",
   "metadata": {
    "execution": {
     "iopub.execute_input": "2022-11-14T21:39:35.587975Z",
     "iopub.status.busy": "2022-11-14T21:39:35.587374Z",
     "iopub.status.idle": "2022-11-14T21:39:35.704581Z",
     "shell.execute_reply": "2022-11-14T21:39:35.703434Z"
    },
    "id": "dGWbIkHi6MS4",
    "papermill": {
     "duration": 0.154946,
     "end_time": "2022-11-14T21:39:35.706977",
     "exception": false,
     "start_time": "2022-11-14T21:39:35.552031",
     "status": "completed"
    },
    "tags": []
   },
   "outputs": [
    {
     "name": "stdout",
     "output_type": "stream",
     "text": [
      "RMSE: 2875.717092461418\n",
      "R2 Score: 0.6734526523886544\n"
     ]
    }
   ],
   "source": [
    "cat_pred = cat.predict(X_test)\n",
    "print('RMSE:',np.sqrt(MSE(y_test,cat_pred)))\n",
    "print('R2 Score:',r2_score(y_test,cat_pred))"
   ]
  },
  {
   "cell_type": "markdown",
   "id": "4222c519",
   "metadata": {
    "id": "e2U-dTQn6ZFG",
    "papermill": {
     "duration": 0.036829,
     "end_time": "2022-11-14T21:39:35.779660",
     "exception": false,
     "start_time": "2022-11-14T21:39:35.742831",
     "status": "completed"
    },
    "tags": []
   },
   "source": [
    "## Light Gradient Boosting Regressor"
   ]
  },
  {
   "cell_type": "code",
   "execution_count": 51,
   "id": "7da48918",
   "metadata": {
    "execution": {
     "iopub.execute_input": "2022-11-14T21:39:35.850071Z",
     "iopub.status.busy": "2022-11-14T21:39:35.849763Z",
     "iopub.status.idle": "2022-11-14T21:39:39.170467Z",
     "shell.execute_reply": "2022-11-14T21:39:39.169650Z"
    },
    "id": "KfL_Zgci6gH8",
    "papermill": {
     "duration": 3.358631,
     "end_time": "2022-11-14T21:39:39.172650",
     "exception": false,
     "start_time": "2022-11-14T21:39:35.814019",
     "status": "completed"
    },
    "tags": []
   },
   "outputs": [
    {
     "data": {
      "text/plain": [
       "LGBMRegressor()"
      ]
     },
     "execution_count": 51,
     "metadata": {},
     "output_type": "execute_result"
    }
   ],
   "source": [
    "lgbm = LGBMRegressor()\n",
    "lgbm.fit(X_train.values,y_train.values)"
   ]
  },
  {
   "cell_type": "code",
   "execution_count": 52,
   "id": "4b389f42",
   "metadata": {
    "execution": {
     "iopub.execute_input": "2022-11-14T21:39:39.244624Z",
     "iopub.status.busy": "2022-11-14T21:39:39.244307Z",
     "iopub.status.idle": "2022-11-14T21:39:39.597455Z",
     "shell.execute_reply": "2022-11-14T21:39:39.596400Z"
    },
    "id": "oCmmyyhG6gBK",
    "papermill": {
     "duration": 0.390558,
     "end_time": "2022-11-14T21:39:39.599869",
     "exception": false,
     "start_time": "2022-11-14T21:39:39.209311",
     "status": "completed"
    },
    "tags": []
   },
   "outputs": [
    {
     "data": {
      "text/plain": [
       "0.6657688316482868"
      ]
     },
     "execution_count": 52,
     "metadata": {},
     "output_type": "execute_result"
    }
   ],
   "source": [
    "lgbm.score(X_test.values,y_test.values)"
   ]
  },
  {
   "cell_type": "code",
   "execution_count": 53,
   "id": "a1ef5054",
   "metadata": {
    "execution": {
     "iopub.execute_input": "2022-11-14T21:39:39.673992Z",
     "iopub.status.busy": "2022-11-14T21:39:39.672346Z",
     "iopub.status.idle": "2022-11-14T21:39:40.047885Z",
     "shell.execute_reply": "2022-11-14T21:39:40.046978Z"
    },
    "id": "SMj9JH0_6f5Z",
    "papermill": {
     "duration": 0.413146,
     "end_time": "2022-11-14T21:39:40.050210",
     "exception": false,
     "start_time": "2022-11-14T21:39:39.637064",
     "status": "completed"
    },
    "tags": []
   },
   "outputs": [
    {
     "name": "stdout",
     "output_type": "stream",
     "text": [
      "RMSE: 2909.3538937063017\n",
      "R2 Score: 0.6657688316482868\n"
     ]
    }
   ],
   "source": [
    "lgbm_pred = lgbm.predict(X_test)\n",
    "print('RMSE:',np.sqrt(MSE(y_test,lgbm_pred)))\n",
    "print('R2 Score:',r2_score(y_test,lgbm_pred))"
   ]
  },
  {
   "cell_type": "markdown",
   "id": "4ea4f7b9",
   "metadata": {
    "id": "jLeKHxER7uQc",
    "papermill": {
     "duration": 0.035655,
     "end_time": "2022-11-14T21:39:40.125027",
     "exception": false,
     "start_time": "2022-11-14T21:39:40.089372",
     "status": "completed"
    },
    "tags": []
   },
   "source": [
    "## Multi-Layer Perceptron Model"
   ]
  },
  {
   "cell_type": "code",
   "execution_count": 54,
   "id": "032c6d10",
   "metadata": {
    "execution": {
     "iopub.execute_input": "2022-11-14T21:39:40.196239Z",
     "iopub.status.busy": "2022-11-14T21:39:40.195919Z",
     "iopub.status.idle": "2022-11-14T22:10:35.233683Z",
     "shell.execute_reply": "2022-11-14T22:10:35.232604Z"
    },
    "id": "_XxIYOh87zRs",
    "papermill": {
     "duration": 1855.16391,
     "end_time": "2022-11-14T22:10:35.323715",
     "exception": false,
     "start_time": "2022-11-14T21:39:40.159805",
     "status": "completed"
    },
    "tags": []
   },
   "outputs": [
    {
     "data": {
      "text/plain": [
       "MLPRegressor(batch_size=32, hidden_layer_sizes=(128,))"
      ]
     },
     "execution_count": 54,
     "metadata": {},
     "output_type": "execute_result"
    }
   ],
   "source": [
    "mlp = MLPRegressor(hidden_layer_sizes=(128,),activation='relu',batch_size=32,solver='adam')\n",
    "mlp.fit(X_train.values,y_train.values)"
   ]
  },
  {
   "cell_type": "code",
   "execution_count": 55,
   "id": "fd0e0a62",
   "metadata": {
    "execution": {
     "iopub.execute_input": "2022-11-14T22:10:35.398691Z",
     "iopub.status.busy": "2022-11-14T22:10:35.398008Z",
     "iopub.status.idle": "2022-11-14T22:10:35.777046Z",
     "shell.execute_reply": "2022-11-14T22:10:35.775703Z"
    },
    "id": "Uy1nROLh7zEz",
    "papermill": {
     "duration": 0.42051,
     "end_time": "2022-11-14T22:10:35.781018",
     "exception": false,
     "start_time": "2022-11-14T22:10:35.360508",
     "status": "completed"
    },
    "tags": []
   },
   "outputs": [
    {
     "data": {
      "text/plain": [
       "0.42575271256004876"
      ]
     },
     "execution_count": 55,
     "metadata": {},
     "output_type": "execute_result"
    }
   ],
   "source": [
    "mlp.score(X_test.values,y_test.values)"
   ]
  },
  {
   "cell_type": "code",
   "execution_count": 56,
   "id": "2450d554",
   "metadata": {
    "execution": {
     "iopub.execute_input": "2022-11-14T22:10:35.925651Z",
     "iopub.status.busy": "2022-11-14T22:10:35.925324Z",
     "iopub.status.idle": "2022-11-14T22:10:36.293196Z",
     "shell.execute_reply": "2022-11-14T22:10:36.292188Z"
    },
    "id": "F4DBYWuG7y38",
    "papermill": {
     "duration": 0.421173,
     "end_time": "2022-11-14T22:10:36.296722",
     "exception": false,
     "start_time": "2022-11-14T22:10:35.875549",
     "status": "completed"
    },
    "tags": []
   },
   "outputs": [
    {
     "name": "stdout",
     "output_type": "stream",
     "text": [
      "RMSE: 3813.489497684278\n",
      "R2 Score: 0.42575271256004876\n"
     ]
    }
   ],
   "source": [
    "mlp_pred = mlp.predict(X_test)\n",
    "print('RMSE:',np.sqrt(MSE(y_test,mlp_pred)))\n",
    "print('R2 Score:',r2_score(y_test,mlp_pred))"
   ]
  },
  {
   "cell_type": "markdown",
   "id": "fa16e92e",
   "metadata": {
    "id": "WE1DNmat8bRT",
    "papermill": {
     "duration": 0.0518,
     "end_time": "2022-11-14T22:10:36.441836",
     "exception": false,
     "start_time": "2022-11-14T22:10:36.390036",
     "status": "completed"
    },
    "tags": []
   },
   "source": [
    "## Stochastic Gradient Descent Regressor"
   ]
  },
  {
   "cell_type": "code",
   "execution_count": 57,
   "id": "d2d3239f",
   "metadata": {
    "execution": {
     "iopub.execute_input": "2022-11-14T22:10:36.513201Z",
     "iopub.status.busy": "2022-11-14T22:10:36.512894Z",
     "iopub.status.idle": "2022-11-14T22:10:38.665257Z",
     "shell.execute_reply": "2022-11-14T22:10:38.664035Z"
    },
    "id": "jSagtSwY8fGl",
    "papermill": {
     "duration": 2.191673,
     "end_time": "2022-11-14T22:10:38.668130",
     "exception": false,
     "start_time": "2022-11-14T22:10:36.476457",
     "status": "completed"
    },
    "tags": []
   },
   "outputs": [
    {
     "data": {
      "text/plain": [
       "SGDRegressor()"
      ]
     },
     "execution_count": 57,
     "metadata": {},
     "output_type": "execute_result"
    }
   ],
   "source": [
    "sgd = SGDRegressor()\n",
    "sgd.fit(X_train.values,y_train.values)"
   ]
  },
  {
   "cell_type": "code",
   "execution_count": 58,
   "id": "7a80d556",
   "metadata": {
    "execution": {
     "iopub.execute_input": "2022-11-14T22:10:38.743742Z",
     "iopub.status.busy": "2022-11-14T22:10:38.742901Z",
     "iopub.status.idle": "2022-11-14T22:10:38.755808Z",
     "shell.execute_reply": "2022-11-14T22:10:38.754618Z"
    },
    "id": "xfTh7KM38e7I",
    "papermill": {
     "duration": 0.052125,
     "end_time": "2022-11-14T22:10:38.758343",
     "exception": false,
     "start_time": "2022-11-14T22:10:38.706218",
     "status": "completed"
    },
    "tags": []
   },
   "outputs": [
    {
     "data": {
      "text/plain": [
       "0.13205799812659025"
      ]
     },
     "execution_count": 58,
     "metadata": {},
     "output_type": "execute_result"
    }
   ],
   "source": [
    "sgd.score(X_test.values,y_test.values)"
   ]
  },
  {
   "cell_type": "code",
   "execution_count": 59,
   "id": "fc85b5a3",
   "metadata": {
    "execution": {
     "iopub.execute_input": "2022-11-14T22:10:38.906328Z",
     "iopub.status.busy": "2022-11-14T22:10:38.906043Z",
     "iopub.status.idle": "2022-11-14T22:10:38.918735Z",
     "shell.execute_reply": "2022-11-14T22:10:38.917280Z"
    },
    "id": "foNO89tf8eyW",
    "papermill": {
     "duration": 0.071151,
     "end_time": "2022-11-14T22:10:38.921796",
     "exception": false,
     "start_time": "2022-11-14T22:10:38.850645",
     "status": "completed"
    },
    "tags": []
   },
   "outputs": [
    {
     "name": "stdout",
     "output_type": "stream",
     "text": [
      "RMSE: 4688.332787450086\n",
      "R2 Score: 0.13205799812659025\n"
     ]
    }
   ],
   "source": [
    "sgd_pred = sgd.predict(X_test)\n",
    "print('RMSE:',np.sqrt(MSE(y_test,sgd_pred)))\n",
    "print('R2 Score:',r2_score(y_test,sgd_pred))"
   ]
  },
  {
   "cell_type": "markdown",
   "id": "a5732384",
   "metadata": {
    "id": "cd25f8b5",
    "papermill": {
     "duration": 0.053389,
     "end_time": "2022-11-14T22:10:39.068137",
     "exception": false,
     "start_time": "2022-11-14T22:10:39.014748",
     "status": "completed"
    },
    "tags": []
   },
   "source": [
    "## Establishing the final dataframe with the model predictions"
   ]
  },
  {
   "cell_type": "code",
   "execution_count": 60,
   "id": "fc96c891",
   "metadata": {
    "execution": {
     "iopub.execute_input": "2022-11-14T22:10:39.140939Z",
     "iopub.status.busy": "2022-11-14T22:10:39.140548Z",
     "iopub.status.idle": "2022-11-14T22:10:39.162585Z",
     "shell.execute_reply": "2022-11-14T22:10:39.161360Z"
    },
    "id": "836edb01",
    "papermill": {
     "duration": 0.060957,
     "end_time": "2022-11-14T22:10:39.164940",
     "exception": false,
     "start_time": "2022-11-14T22:10:39.103983",
     "status": "completed"
    },
    "tags": []
   },
   "outputs": [
    {
     "data": {
      "text/html": [
       "<div>\n",
       "<style scoped>\n",
       "    .dataframe tbody tr th:only-of-type {\n",
       "        vertical-align: middle;\n",
       "    }\n",
       "\n",
       "    .dataframe tbody tr th {\n",
       "        vertical-align: top;\n",
       "    }\n",
       "\n",
       "    .dataframe thead th {\n",
       "        text-align: right;\n",
       "    }\n",
       "</style>\n",
       "<table border=\"1\" class=\"dataframe\">\n",
       "  <thead>\n",
       "    <tr style=\"text-align: right;\">\n",
       "      <th></th>\n",
       "      <th>0</th>\n",
       "      <th>User_ID</th>\n",
       "      <th>Product_ID</th>\n",
       "    </tr>\n",
       "  </thead>\n",
       "  <tbody>\n",
       "    <tr>\n",
       "      <th>0</th>\n",
       "      <td>7302.432129</td>\n",
       "      <td>1000004</td>\n",
       "      <td>P00128942</td>\n",
       "    </tr>\n",
       "    <tr>\n",
       "      <th>1</th>\n",
       "      <td>2064.596191</td>\n",
       "      <td>1000009</td>\n",
       "      <td>P00113442</td>\n",
       "    </tr>\n",
       "    <tr>\n",
       "      <th>2</th>\n",
       "      <td>5374.159180</td>\n",
       "      <td>1000010</td>\n",
       "      <td>P00288442</td>\n",
       "    </tr>\n",
       "    <tr>\n",
       "      <th>3</th>\n",
       "      <td>7453.087402</td>\n",
       "      <td>1000010</td>\n",
       "      <td>P00145342</td>\n",
       "    </tr>\n",
       "    <tr>\n",
       "      <th>4</th>\n",
       "      <td>13199.101562</td>\n",
       "      <td>1000011</td>\n",
       "      <td>P00053842</td>\n",
       "    </tr>\n",
       "  </tbody>\n",
       "</table>\n",
       "</div>"
      ],
      "text/plain": [
       "              0  User_ID Product_ID\n",
       "0   7302.432129  1000004  P00128942\n",
       "1   2064.596191  1000009  P00113442\n",
       "2   5374.159180  1000010  P00288442\n",
       "3   7453.087402  1000010  P00145342\n",
       "4  13199.101562  1000011  P00053842"
      ]
     },
     "execution_count": 60,
     "metadata": {},
     "output_type": "execute_result"
    }
   ],
   "source": [
    "df = pd.concat([pd.DataFrame(xgb_pred),test_c['User_ID'],test_c['Product_ID']],axis=1)\n",
    "df.head()"
   ]
  },
  {
   "cell_type": "code",
   "execution_count": 61,
   "id": "8c257fa6",
   "metadata": {
    "execution": {
     "iopub.execute_input": "2022-11-14T22:10:39.238591Z",
     "iopub.status.busy": "2022-11-14T22:10:39.238289Z",
     "iopub.status.idle": "2022-11-14T22:10:39.244228Z",
     "shell.execute_reply": "2022-11-14T22:10:39.243267Z"
    },
    "id": "0c2478c6",
    "papermill": {
     "duration": 0.044171,
     "end_time": "2022-11-14T22:10:39.246192",
     "exception": false,
     "start_time": "2022-11-14T22:10:39.202021",
     "status": "completed"
    },
    "tags": []
   },
   "outputs": [
    {
     "data": {
      "text/plain": [
       "(233599, 3)"
      ]
     },
     "execution_count": 61,
     "metadata": {},
     "output_type": "execute_result"
    }
   ],
   "source": [
    "df.shape"
   ]
  },
  {
   "cell_type": "code",
   "execution_count": 62,
   "id": "8281ee0b",
   "metadata": {
    "execution": {
     "iopub.execute_input": "2022-11-14T22:10:39.318065Z",
     "iopub.status.busy": "2022-11-14T22:10:39.317470Z",
     "iopub.status.idle": "2022-11-14T22:10:39.769110Z",
     "shell.execute_reply": "2022-11-14T22:10:39.768074Z"
    },
    "id": "CTSeg4nX6ygI",
    "papermill": {
     "duration": 0.490072,
     "end_time": "2022-11-14T22:10:39.771852",
     "exception": false,
     "start_time": "2022-11-14T22:10:39.281780",
     "status": "completed"
    },
    "tags": []
   },
   "outputs": [],
   "source": [
    "df.to_csv('submission.csv')"
   ]
  },
  {
   "cell_type": "markdown",
   "id": "8e9b8e99",
   "metadata": {
    "id": "4q4ib5dM61MP",
    "papermill": {
     "duration": 0.036328,
     "end_time": "2022-11-14T22:10:39.845965",
     "exception": false,
     "start_time": "2022-11-14T22:10:39.809637",
     "status": "completed"
    },
    "tags": []
   },
   "source": [
    "## Saving XGBoost Model for Deployment"
   ]
  },
  {
   "cell_type": "code",
   "execution_count": 63,
   "id": "c177e0d0",
   "metadata": {
    "execution": {
     "iopub.execute_input": "2022-11-14T22:10:39.918518Z",
     "iopub.status.busy": "2022-11-14T22:10:39.918189Z",
     "iopub.status.idle": "2022-11-14T22:10:39.925296Z",
     "shell.execute_reply": "2022-11-14T22:10:39.924277Z"
    },
    "id": "oSx275mE65cS",
    "papermill": {
     "duration": 0.04535,
     "end_time": "2022-11-14T22:10:39.927230",
     "exception": false,
     "start_time": "2022-11-14T22:10:39.881880",
     "status": "completed"
    },
    "tags": []
   },
   "outputs": [
    {
     "data": {
      "text/plain": [
       "['model.pkl']"
      ]
     },
     "execution_count": 63,
     "metadata": {},
     "output_type": "execute_result"
    }
   ],
   "source": [
    "joblib.dump(xgb,'model.pkl')"
   ]
  },
  {
   "cell_type": "code",
   "execution_count": 64,
   "id": "e6daab19",
   "metadata": {
    "execution": {
     "iopub.execute_input": "2022-11-14T22:10:40.000014Z",
     "iopub.status.busy": "2022-11-14T22:10:39.999195Z",
     "iopub.status.idle": "2022-11-14T22:10:40.006746Z",
     "shell.execute_reply": "2022-11-14T22:10:40.005747Z"
    },
    "id": "W0vxkM_J7RYf",
    "papermill": {
     "duration": 0.046079,
     "end_time": "2022-11-14T22:10:40.008953",
     "exception": false,
     "start_time": "2022-11-14T22:10:39.962874",
     "status": "completed"
    },
    "tags": []
   },
   "outputs": [
    {
     "data": {
      "text/plain": [
       "array([0.66697353, 0.6706295 , 0.67024394, 0.67336298, 0.66994266])"
      ]
     },
     "execution_count": 64,
     "metadata": {},
     "output_type": "execute_result"
    }
   ],
   "source": [
    "joblib.load('model.pkl')"
   ]
  }
 ],
 "metadata": {
  "kernelspec": {
   "display_name": "Python 3 (ipykernel)",
   "language": "python",
   "name": "python3"
  },
  "language_info": {
   "codemirror_mode": {
    "name": "ipython",
    "version": 3
   },
   "file_extension": ".py",
   "mimetype": "text/x-python",
   "name": "python",
   "nbconvert_exporter": "python",
   "pygments_lexer": "ipython3",
   "version": "3.9.12"
  },
  "papermill": {
   "default_parameters": {},
   "duration": 2326.478202,
   "end_time": "2022-11-14T22:10:42.812768",
   "environment_variables": {},
   "exception": null,
   "input_path": "__notebook__.ipynb",
   "output_path": "__notebook__.ipynb",
   "parameters": {},
   "start_time": "2022-11-14T21:31:56.334566",
   "version": "2.3.4"
  }
 },
 "nbformat": 4,
 "nbformat_minor": 5
}
